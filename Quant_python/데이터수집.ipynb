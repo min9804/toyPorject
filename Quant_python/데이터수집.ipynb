{
 "metadata": {
  "language_info": {
   "codemirror_mode": {
    "name": "ipython",
    "version": 3
   },
   "file_extension": ".py",
   "mimetype": "text/x-python",
   "name": "python",
   "nbconvert_exporter": "python",
   "pygments_lexer": "ipython3",
   "version": "3.8.3-final"
  },
  "orig_nbformat": 2,
  "kernelspec": {
   "name": "Python 3.8.3 64-bit ('base': conda)",
   "display_name": "Python 3.8.3 64-bit ('base': conda)",
   "metadata": {
    "interpreter": {
     "hash": "5ad81c41d437143b132f6d101d6b2989c28a9b9157a87e906509e80cef648512"
    }
   }
  }
 },
 "nbformat": 4,
 "nbformat_minor": 2,
 "cells": [
  {
   "cell_type": "code",
   "execution_count": 5,
   "metadata": {},
   "outputs": [],
   "source": [
    "import pandas as pd\n",
    "import requests\n",
    "\n",
    "fs_url = 'https://comp.fnguide.com/SVO2/asp/SVD_Finance.asp?pGB=1&gicode=A005930&cID=&MenuYn=Y&ReportGB=D&NewMenuID=103&stkGb=701'\n",
    "fs_page = requests.get(fs_url)\n",
    "fs_tables = pd.read_html(fs_page.text)"
   ]
  },
  {
   "cell_type": "code",
   "execution_count": 6,
   "metadata": {},
   "outputs": [
    {
     "output_type": "execute_result",
     "data": {
      "text/plain": [
       "                              IFRS(연결)    2017/12    2018/12    2019/12  \\\n",
       "0                                  매출액  2395754.0  2437714.0  2304009.0   \n",
       "1                                 매출원가  1292907.0  1323944.0  1472395.0   \n",
       "2                                매출총이익  1102847.0  1113770.0   831613.0   \n",
       "3                판매비와관리비계산에 참여한 계정 펼치기   566397.0   524903.0   553928.0   \n",
       "4                                 영업이익   536450.0   588867.0   277685.0   \n",
       "5                           영업이익(발표기준)   536450.0   588867.0   277685.0   \n",
       "6                   금융수익계산에 참여한 계정 펼치기    97374.0    99993.0   101616.0   \n",
       "7                   금융원가계산에 참여한 계정 펼치기    89789.0    86089.0    82749.0   \n",
       "8                   기타수익계산에 참여한 계정 펼치기    30107.0    14850.0    17787.0   \n",
       "9                   기타비용계산에 참여한 계정 펼치기    14196.0    11420.0    14147.0   \n",
       "10  종속기업,공동지배기업및관계기업관련손익계산에 참여한 계정 펼치기     2014.0     5398.0     4130.0   \n",
       "11                            세전계속사업이익   561960.0   611600.0   304322.0   \n",
       "12                               법인세비용   140092.0   168151.0    86933.0   \n",
       "13                              계속영업이익   421867.0   443449.0   217389.0   \n",
       "14                              중단영업이익        NaN        NaN        NaN   \n",
       "15                               당기순이익   421867.0   443449.0   217389.0   \n",
       "16                             지배주주순이익   413446.0   438909.0   215051.0   \n",
       "17                            비지배주주순이익     8422.0     4540.0     2338.0   \n",
       "\n",
       "      2020/06       전년동기  전년동기(%)  \n",
       "0   1082913.0  1085127.0     -0.2  \n",
       "1    667129.0   686911.0     -2.9  \n",
       "2    415784.0   398215.0      4.4  \n",
       "3    269848.0   269912.0     -0.0  \n",
       "4    145936.0   128303.0     13.7  \n",
       "5    145936.0   128303.0     13.7  \n",
       "6     55610.0    50681.0      9.7  \n",
       "7     49558.0    40602.0     22.1  \n",
       "8      6058.0     6819.0    -11.2  \n",
       "9     14249.0     5700.0    150.0  \n",
       "10     1469.0     1422.0      3.3  \n",
       "11   145265.0   140923.0      3.1  \n",
       "12    40865.0    38682.0      5.6  \n",
       "13   104400.0   102242.0      2.1  \n",
       "14        NaN        NaN      NaN  \n",
       "15   104400.0   102242.0      2.1  \n",
       "16   103786.0   101720.0      2.0  \n",
       "17      614.0      521.0     17.8  "
      ],
      "text/html": "<div>\n<style scoped>\n    .dataframe tbody tr th:only-of-type {\n        vertical-align: middle;\n    }\n\n    .dataframe tbody tr th {\n        vertical-align: top;\n    }\n\n    .dataframe thead th {\n        text-align: right;\n    }\n</style>\n<table border=\"1\" class=\"dataframe\">\n  <thead>\n    <tr style=\"text-align: right;\">\n      <th></th>\n      <th>IFRS(연결)</th>\n      <th>2017/12</th>\n      <th>2018/12</th>\n      <th>2019/12</th>\n      <th>2020/06</th>\n      <th>전년동기</th>\n      <th>전년동기(%)</th>\n    </tr>\n  </thead>\n  <tbody>\n    <tr>\n      <th>0</th>\n      <td>매출액</td>\n      <td>2395754.0</td>\n      <td>2437714.0</td>\n      <td>2304009.0</td>\n      <td>1082913.0</td>\n      <td>1085127.0</td>\n      <td>-0.2</td>\n    </tr>\n    <tr>\n      <th>1</th>\n      <td>매출원가</td>\n      <td>1292907.0</td>\n      <td>1323944.0</td>\n      <td>1472395.0</td>\n      <td>667129.0</td>\n      <td>686911.0</td>\n      <td>-2.9</td>\n    </tr>\n    <tr>\n      <th>2</th>\n      <td>매출총이익</td>\n      <td>1102847.0</td>\n      <td>1113770.0</td>\n      <td>831613.0</td>\n      <td>415784.0</td>\n      <td>398215.0</td>\n      <td>4.4</td>\n    </tr>\n    <tr>\n      <th>3</th>\n      <td>판매비와관리비계산에 참여한 계정 펼치기</td>\n      <td>566397.0</td>\n      <td>524903.0</td>\n      <td>553928.0</td>\n      <td>269848.0</td>\n      <td>269912.0</td>\n      <td>-0.0</td>\n    </tr>\n    <tr>\n      <th>4</th>\n      <td>영업이익</td>\n      <td>536450.0</td>\n      <td>588867.0</td>\n      <td>277685.0</td>\n      <td>145936.0</td>\n      <td>128303.0</td>\n      <td>13.7</td>\n    </tr>\n    <tr>\n      <th>5</th>\n      <td>영업이익(발표기준)</td>\n      <td>536450.0</td>\n      <td>588867.0</td>\n      <td>277685.0</td>\n      <td>145936.0</td>\n      <td>128303.0</td>\n      <td>13.7</td>\n    </tr>\n    <tr>\n      <th>6</th>\n      <td>금융수익계산에 참여한 계정 펼치기</td>\n      <td>97374.0</td>\n      <td>99993.0</td>\n      <td>101616.0</td>\n      <td>55610.0</td>\n      <td>50681.0</td>\n      <td>9.7</td>\n    </tr>\n    <tr>\n      <th>7</th>\n      <td>금융원가계산에 참여한 계정 펼치기</td>\n      <td>89789.0</td>\n      <td>86089.0</td>\n      <td>82749.0</td>\n      <td>49558.0</td>\n      <td>40602.0</td>\n      <td>22.1</td>\n    </tr>\n    <tr>\n      <th>8</th>\n      <td>기타수익계산에 참여한 계정 펼치기</td>\n      <td>30107.0</td>\n      <td>14850.0</td>\n      <td>17787.0</td>\n      <td>6058.0</td>\n      <td>6819.0</td>\n      <td>-11.2</td>\n    </tr>\n    <tr>\n      <th>9</th>\n      <td>기타비용계산에 참여한 계정 펼치기</td>\n      <td>14196.0</td>\n      <td>11420.0</td>\n      <td>14147.0</td>\n      <td>14249.0</td>\n      <td>5700.0</td>\n      <td>150.0</td>\n    </tr>\n    <tr>\n      <th>10</th>\n      <td>종속기업,공동지배기업및관계기업관련손익계산에 참여한 계정 펼치기</td>\n      <td>2014.0</td>\n      <td>5398.0</td>\n      <td>4130.0</td>\n      <td>1469.0</td>\n      <td>1422.0</td>\n      <td>3.3</td>\n    </tr>\n    <tr>\n      <th>11</th>\n      <td>세전계속사업이익</td>\n      <td>561960.0</td>\n      <td>611600.0</td>\n      <td>304322.0</td>\n      <td>145265.0</td>\n      <td>140923.0</td>\n      <td>3.1</td>\n    </tr>\n    <tr>\n      <th>12</th>\n      <td>법인세비용</td>\n      <td>140092.0</td>\n      <td>168151.0</td>\n      <td>86933.0</td>\n      <td>40865.0</td>\n      <td>38682.0</td>\n      <td>5.6</td>\n    </tr>\n    <tr>\n      <th>13</th>\n      <td>계속영업이익</td>\n      <td>421867.0</td>\n      <td>443449.0</td>\n      <td>217389.0</td>\n      <td>104400.0</td>\n      <td>102242.0</td>\n      <td>2.1</td>\n    </tr>\n    <tr>\n      <th>14</th>\n      <td>중단영업이익</td>\n      <td>NaN</td>\n      <td>NaN</td>\n      <td>NaN</td>\n      <td>NaN</td>\n      <td>NaN</td>\n      <td>NaN</td>\n    </tr>\n    <tr>\n      <th>15</th>\n      <td>당기순이익</td>\n      <td>421867.0</td>\n      <td>443449.0</td>\n      <td>217389.0</td>\n      <td>104400.0</td>\n      <td>102242.0</td>\n      <td>2.1</td>\n    </tr>\n    <tr>\n      <th>16</th>\n      <td>지배주주순이익</td>\n      <td>413446.0</td>\n      <td>438909.0</td>\n      <td>215051.0</td>\n      <td>103786.0</td>\n      <td>101720.0</td>\n      <td>2.0</td>\n    </tr>\n    <tr>\n      <th>17</th>\n      <td>비지배주주순이익</td>\n      <td>8422.0</td>\n      <td>4540.0</td>\n      <td>2338.0</td>\n      <td>614.0</td>\n      <td>521.0</td>\n      <td>17.8</td>\n    </tr>\n  </tbody>\n</table>\n</div>"
     },
     "metadata": {},
     "execution_count": 6
    }
   ],
   "source": [
    "fs_url = 'https://comp.fnguide.com/SVO2/asp/SVD_Finance.asp?pGB=1&gicode=A005930&cID=&MenuYn=Y&ReportGB=&NewMenuID=103&stkGb=701'\n",
    "fs_page = requests.get(fs_url)\n",
    "fs_tables = pd.read_html(fs_page.text)\n",
    "fs_tables[0]"
   ]
  },
  {
   "cell_type": "code",
   "execution_count": 10,
   "metadata": {},
   "outputs": [],
   "source": [
    "temp_df = fs_tables[0]\n",
    "temp_df = temp_df.set_index('IFRS(연결)')\n",
    "temp_df = temp_df[['2017/12', '2018/12', '2019/12', '2020/06']]"
   ]
  },
  {
   "cell_type": "code",
   "execution_count": 12,
   "metadata": {},
   "outputs": [],
   "source": [
    "temp_df = temp_df.loc[['매출액', '영업이익', '당기순이익']]"
   ]
  },
  {
   "cell_type": "code",
   "execution_count": 14,
   "metadata": {},
   "outputs": [],
   "source": [
    "temp_df2 = fs_tables[2]\n",
    "temp_df2 = temp_df2.set_index('IFRS(연결)')\n",
    "temp_df2 = temp_df2.loc[['자산', '부채', '자본']]\n",
    "\n",
    "temp_df3 = fs_tables[4]\n",
    "temp_df3 = temp_df3.set_index('IFRS(연결)')\n",
    "temp_df3 = temp_df3.loc[['영업활동으로인한현금흐름']]"
   ]
  },
  {
   "cell_type": "code",
   "execution_count": 15,
   "metadata": {},
   "outputs": [],
   "source": [
    "fs_df = pd.concat([temp_df, temp_df2, temp_df3])"
   ]
  },
  {
   "cell_type": "code",
   "execution_count": 16,
   "metadata": {},
   "outputs": [
    {
     "output_type": "execute_result",
     "data": {
      "text/plain": [
       "                2017/12    2018/12    2019/12    2020/06\n",
       "IFRS(연결)                                                \n",
       "매출액           2395754.0  2437714.0  2304009.0  1082913.0\n",
       "영업이익           536450.0   588867.0   277685.0   145936.0\n",
       "당기순이익          421867.0   443449.0   217389.0   104400.0\n",
       "자산            3017521.0  3393572.0  3525645.0  3579595.0\n",
       "부채             872607.0   916041.0   896841.0   881517.0\n",
       "자본            2144914.0  2477532.0  2628804.0  2698078.0\n",
       "영업활동으로인한현금흐름   621620.0   670319.0   453829.0   266280.0"
      ],
      "text/html": "<div>\n<style scoped>\n    .dataframe tbody tr th:only-of-type {\n        vertical-align: middle;\n    }\n\n    .dataframe tbody tr th {\n        vertical-align: top;\n    }\n\n    .dataframe thead th {\n        text-align: right;\n    }\n</style>\n<table border=\"1\" class=\"dataframe\">\n  <thead>\n    <tr style=\"text-align: right;\">\n      <th></th>\n      <th>2017/12</th>\n      <th>2018/12</th>\n      <th>2019/12</th>\n      <th>2020/06</th>\n    </tr>\n    <tr>\n      <th>IFRS(연결)</th>\n      <th></th>\n      <th></th>\n      <th></th>\n      <th></th>\n    </tr>\n  </thead>\n  <tbody>\n    <tr>\n      <th>매출액</th>\n      <td>2395754.0</td>\n      <td>2437714.0</td>\n      <td>2304009.0</td>\n      <td>1082913.0</td>\n    </tr>\n    <tr>\n      <th>영업이익</th>\n      <td>536450.0</td>\n      <td>588867.0</td>\n      <td>277685.0</td>\n      <td>145936.0</td>\n    </tr>\n    <tr>\n      <th>당기순이익</th>\n      <td>421867.0</td>\n      <td>443449.0</td>\n      <td>217389.0</td>\n      <td>104400.0</td>\n    </tr>\n    <tr>\n      <th>자산</th>\n      <td>3017521.0</td>\n      <td>3393572.0</td>\n      <td>3525645.0</td>\n      <td>3579595.0</td>\n    </tr>\n    <tr>\n      <th>부채</th>\n      <td>872607.0</td>\n      <td>916041.0</td>\n      <td>896841.0</td>\n      <td>881517.0</td>\n    </tr>\n    <tr>\n      <th>자본</th>\n      <td>2144914.0</td>\n      <td>2477532.0</td>\n      <td>2628804.0</td>\n      <td>2698078.0</td>\n    </tr>\n    <tr>\n      <th>영업활동으로인한현금흐름</th>\n      <td>621620.0</td>\n      <td>670319.0</td>\n      <td>453829.0</td>\n      <td>266280.0</td>\n    </tr>\n  </tbody>\n</table>\n</div>"
     },
     "metadata": {},
     "execution_count": 16
    }
   ],
   "source": [
    "fs_df"
   ]
  },
  {
   "cell_type": "code",
   "execution_count": null,
   "metadata": {},
   "outputs": [],
   "source": []
  }
 ]
}