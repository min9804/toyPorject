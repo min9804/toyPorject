{
 "metadata": {
  "language_info": {
   "codemirror_mode": {
    "name": "ipython",
    "version": 3
   },
   "file_extension": ".py",
   "mimetype": "text/x-python",
   "name": "python",
   "nbconvert_exporter": "python",
   "pygments_lexer": "ipython3",
   "version": "3.8.3-final"
  },
  "orig_nbformat": 2,
  "kernelspec": {
   "name": "Python 3.8.3 64-bit (conda)",
   "display_name": "Python 3.8.3 64-bit (conda)",
   "metadata": {
    "interpreter": {
     "hash": "5ad81c41d437143b132f6d101d6b2989c28a9b9157a87e906509e80cef648512"
    }
   }
  }
 },
 "nbformat": 4,
 "nbformat_minor": 2,
 "cells": [
  {
   "cell_type": "code",
   "execution_count": null,
   "metadata": {},
   "outputs": [],
   "source": [
    "import pandas as pd\n",
    "import requests\n",
    "import time\n",
    "import numpy as np\n",
    "import bs4"
   ]
  },
  {
   "cell_type": "code",
   "execution_count": 18,
   "metadata": {},
   "outputs": [],
   "source": [
    "def make_fs_dataframe(firm_code): #재무데이터 만드는 함수\n",
    "    fs_url = 'https://comp.fnguide.com/SVO2/asp/SVD_Finance.asp?pGB=1&cID=&MenuYn=Y&ReportGB=D&NewMenuID=103&stkGb=701&gicode=' + firm_code \n",
    "    fs_page = requests.get(fs_url) \n",
    "    fs_tables = pd.read_html(fs_page.text) \n",
    " \n",
    "    temp_df = fs_tables[0] \n",
    "    temp_df = temp_df.set_index(temp_df.columns[0]) \n",
    "    temp_df = temp_df[temp_df.columns[:4]] \n",
    "    temp_df = temp_df.loc[['매출액', '영업이익', '당기순이익']] \n",
    "\n",
    "    temp_df2 = fs_tables[2] \n",
    "    temp_df2 = temp_df2.set_index(temp_df2.columns[0]) \n",
    "    temp_df2 = temp_df2.loc[['자산', '자본', '부채']] \n",
    "\n",
    "    temp_df3 = fs_tables[4]\n",
    "    temp_df3 = temp_df3.set_index(temp_df3.columns[0])\n",
    "    temp_df3 = temp_df3.loc[['영업활동으로인한현금흐름']]\n",
    "\n",
    "    fs_df = pd.concat([temp_df, temp_df2, temp_df3])\n",
    " \n",
    "    return fs_df "
   ]
  },
  {
   "cell_type": "code",
   "execution_count": 19,
   "metadata": {},
   "outputs": [],
   "source": [
    "def make_fr_dataframe(firm_code): #재무비율 데이터 만들기함수\n",
    "    fr_url = 'https://comp.fnguide.com/SVO2/asp/SVD_FinanceRatio.asp?pGB=1&cID=&MenuYn=Y&ReportGB=D&NewMenuID=104&stkGb=701&gicode=' + firm_code \n",
    "    fr_page = requests.get(fr_url) \n",
    "    fr_tables = pd.read_html(fr_page.text) \n",
    "    \n",
    "    temp_df = fr_tables[0] \n",
    "    temp_df = temp_df.set_index(temp_df.columns[0]) \n",
    "    temp_df = temp_df.loc[['유동비율계산에 참여한 계정 펼치기',\n",
    "                           '부채비율계산에 참여한 계정 펼치기',\n",
    "                           '영업이익률계산에 참여한 계정 펼치기',\n",
    "                           'ROA계산에 참여한 계정 펼치기',\n",
    "                           'ROIC계산에 참여한 계정 펼치기']] \n",
    "    temp_df.index = ['유동비율', '부채비율', '영업이익률', 'ROA', 'ROIC']  \n",
    "    return temp_df"
   ]
  },
  {
   "cell_type": "code",
   "execution_count": 20,
   "metadata": {},
   "outputs": [],
   "source": [
    "def make_invest_dataframe(firm_code): #투자지표 만드는 함수\n",
    "    invest_url = 'https://comp.fnguide.com/SVO2/asp/SVD_Invest.asp?pGB=1&cID=&MenuYn=Y&ReportGB=D&NewMenuID=105&stkGb=701&gicode=' + firm_code \n",
    "    invest_page = requests.get(invest_url) \n",
    "    invest_tables = pd.read_html(invest_page.text) \n",
    "    temp_df = invest_tables[1] \n",
    "    \n",
    "    temp_df = temp_df.set_index(temp_df.columns[0]) \n",
    "    temp_df = temp_df.loc[['PER계산에 참여한 계정 펼치기',\n",
    "                           'PCR계산에 참여한 계정 펼치기',\n",
    "                           'PSR계산에 참여한 계정 펼치기',\n",
    "                           'PBR계산에 참여한 계정 펼치기',\n",
    "                          '총현금흐름']]  \n",
    "    temp_df.index = ['PER', 'PCR', 'PSR', 'PBR', '총현금흐름'] \n",
    "    return temp_df"
   ]
  },
  {
   "cell_type": "code",
   "execution_count": 21,
   "metadata": {},
   "outputs": [],
   "source": [
    "def change_df(firm_code, dataframe): #데이터프레임의 행과열을 바꾸는 함수 만듬 \n",
    "    for num, col in enumerate(dataframe.columns):\n",
    "        temp_df = pd.DataFrame({firm_code : dataframe[col]})\n",
    "        temp_df = temp_df.T\n",
    "        temp_df.columns = [[col]*len(dataframe), temp_df.columns]\n",
    "        if num == 0:\n",
    "            total_df = temp_df\n",
    "        else:\n",
    "            total_df = pd.merge(total_df, temp_df, how='outer', left_index=True, right_index=True)\n",
    "    \n",
    "    return total_df   "
   ]
  },
  {
   "cell_type": "code",
   "execution_count": null,
   "metadata": {},
   "outputs": [],
   "source": []
  },
  {
   "cell_type": "code",
   "execution_count": 29,
   "metadata": {},
   "outputs": [],
   "source": [
    "def come_code(): #종목코드 불러오기, 종목코드 전처리\n",
    "    path = r'C:\\Users\\gjals\\Desktop\\코딩\\data.xls'\n",
    "    code_data = pd.read_excel(path)  \n",
    "    code_data = code_data[['종목코드', '기업명']] \n",
    "\n",
    "    def make_code(x):  \n",
    "        x = str(x)  \n",
    "        return 'A' + '0' * (6-len(x)) + x\n",
    "\n",
    "    code_data['종목코드'] = code_data['종목코드'].apply(make_code)\n",
    "        \n",
    "    return code_data"
   ]
  },
  {
   "cell_type": "code",
   "execution_count": 23,
   "metadata": {},
   "outputs": [],
   "source": [
    "def make_total_fs_df(): #전종목 재무데이터 크롤링, 저장\n",
    "    for num, code in enumerate(code_data['종목코드']): \n",
    "        try: \n",
    "            print(num,code) \n",
    "            time.sleep(1) \n",
    "            try: \n",
    "                fs_df = make_fs_dataframe(code)  \n",
    "            except requests.exceptions.Timeout: \n",
    "                time.sleep(60) \n",
    "                fs_df = make_fs_dataframe(code) \n",
    "            fs_df_changed = change_df(code, fs_df) \n",
    "            if num == 0: \n",
    "                total_fs =fs_df_changed \n",
    "            else:\n",
    "                total_fs = pd.concat([total_fs, fs_df_changed]) \n",
    "        except ValueError: \n",
    "            continue \n",
    "        except KeyError: \n",
    "            continue \n",
    "\n",
    "    total_fs.to_excel(r'C:\\Users\\gjals\\Desktop\\코딩\\재무데이터test.xlsx')   "
   ]
  },
  {
   "cell_type": "code",
   "execution_count": 24,
   "metadata": {},
   "outputs": [],
   "source": [
    "def make_total_fr_df(): #전종목 재무비율데이터 크롤링, 저장\n",
    "    for num, code in enumerate(code_data['종목코드']): \n",
    "        try:\n",
    "            print(num, code)\n",
    "            time.sleep(1)\n",
    "            try:\n",
    "                fr_df = make_fr_dataframe(code)\n",
    "            except requests.exceptions.Timeout:\n",
    "                time.sleep(60)\n",
    "                fr_df = make_fr_dataframe(code)\n",
    "            fr_df_changed = change_df(code, fr_df)\n",
    "            if num == 0:\n",
    "                total_fr = fr_df_changed\n",
    "            else:\n",
    "                total_fr = pd.concat([total_fr, fr_df_changed])\n",
    "        except ValueError:\n",
    "            continue\n",
    "        except KeyError:\n",
    "            continue\n",
    "        \n",
    "    total_fr.to_excel(r'C:\\Users\\gjals\\Desktop\\코딩\\재무비율데이터test.xlsx')"
   ]
  },
  {
   "cell_type": "code",
   "execution_count": 25,
   "metadata": {},
   "outputs": [],
   "source": [
    "def make_total_invest_df(): #전종목 투자지표 크롤링, 저장\n",
    "    for num,code in enumerate(code_data['종목코드']):\n",
    "        try:\n",
    "            print(num, code)\n",
    "            time.sleep(1)\n",
    "            try:\n",
    "                invest_df = make_invest_dataframe(code)\n",
    "            except requests.exceptions.Timeout:\n",
    "                time.sleep(60)\n",
    "                invest_df = make_invest_dataframe(code)\n",
    "            invest_df_changed = change_df(code, invest_df)\n",
    "            if num == 0:\n",
    "                total_invest = invest_df_changed\n",
    "            else:\n",
    "                total_invest = pd.concat([total_invest, invest_df_changed])\n",
    "        except ValueError:\n",
    "            continue\n",
    "        except KeyError:\n",
    "            continue\n",
    "\n",
    "    total_invest.to_excel(r'C:\\Users\\gjals\\Desktop\\코딩\\투자지표데이터test.xlsx')"
   ]
  },
  {
   "cell_type": "code",
   "execution_count": null,
   "metadata": {},
   "outputs": [],
   "source": []
  },
  {
   "cell_type": "code",
   "execution_count": 26,
   "metadata": {},
   "outputs": [],
   "source": [
    "def make_price_dataframe(code, timeframe, count): #가격데이터 함수지정 종목코드, 시간, 갯수\n",
    "    url = 'https://fchart.stock.naver.com/sise.nhn?requestType=0'\n",
    "    price_url = url + '&symbol=' + code + '&timeframe=' + timeframe + '&count=' + count \n",
    "\n",
    "    price_data = requests.get(price_url) \n",
    "    price_data_bs = bs4.BeautifulSoup(price_data.text, 'lxml') \n",
    "    item_list = price_data_bs.find_all('item') \n",
    "    date_list =[] \n",
    "    price_list = [] \n",
    "    for item in item_list: \n",
    "        temp_data = item['data']\n",
    "        datas = temp_data.split('|') \n",
    "        date_list.append(datas[0]) \n",
    "        price_list.append(datas[4]) \n",
    "      \n",
    "    price_df = pd.DataFrame({code : price_list}, index=date_list) \n",
    "\n",
    "    return price_df"
   ]
  },
  {
   "cell_type": "code",
   "execution_count": 27,
   "metadata": {},
   "outputs": [],
   "source": [
    "def make_total_price_df(): #전종목 가격데이터 크롤링, 저장\n",
    "    for num, code in enumerate(code_data['종목코드']): \n",
    "        try: \n",
    "            print(num, code) \n",
    "            time.sleep(1) \n",
    "            try: \n",
    "                price_df = make_price_dataframe(code, 'day', '1500') \n",
    "            except requests.exception.Timeout: \n",
    "                time.sleep(60) \n",
    "                price_df = make_price_dataframe(code, 'day', '1500') \n",
    "            if num == 0: \n",
    "                total_price = price_df \n",
    "            else:\n",
    "                total_price = pd.merge(total_price, price_df, how='outer', right_index=True, left_index=True) \n",
    "        except ValueError: \n",
    "            continue \n",
    "        except KeyError: \n",
    "            continue \n",
    "    \n",
    "    total_price.index = pd.to_datetime(total_price.index) #날짜를 날짜형 인덱스로 바꿔줌 ex)20201029 -> 2020-10-29\n",
    "    total_price.to_excel(r'C:\\Users\\gjals\\Desktop\\코딩\\가격데이터test.xlsx') "
   ]
  },
  {
   "cell_type": "code",
   "execution_count": null,
   "metadata": {},
   "outputs": [],
   "source": []
  },
  {
   "cell_type": "code",
   "execution_count": null,
   "metadata": {},
   "outputs": [],
   "source": []
  },
  {
   "cell_type": "code",
   "execution_count": null,
   "metadata": {},
   "outputs": [],
   "source": [
    "#데이터 전처리 개선\n",
    "def get_finance_data(path):\n",
    "    data_path = path\n",
    "    raw_data = pd.read_excel(data_path)\n",
    "    big_col = list(raw_data.columns)\n",
    "    small_col = list(raw_data.iloc[0])\n",
    "    \n",
    "    big_col[0] = '종목'\n",
    "    small_col[0] = ''\n",
    "    new_big_col = []\n",
    "    for num, col in enumerate(big_col):\n",
    "        if 'Unnamed' in col:\n",
    "            new_big_col.append(new_big_col[num-1])\n",
    "        else:\n",
    "            new_big_col.append(big_col[num])\n",
    "\n",
    "    raw_data.columns = [new_big_col, small_col]\n",
    "    raw_data = raw_data.drop(0)\n",
    "    clean_df = raw_data.drop(1)\n",
    "\n",
    "    if clean_df.index[0]  == clean_df['종목'][2]:\n",
    "         pass\n",
    "    else:\n",
    "        for i in clean_df.index:\n",
    "            clean_df = clean_df.rename(index={i : clean_df['종목'][i]})\n",
    "\n",
    "    clean_df = clean_df.drop(clean_df.columns[0:1], axis=1, inplace=False)\n",
    "\n",
    "    return clean_df"
   ]
  },
  {
   "cell_type": "code",
   "execution_count": null,
   "metadata": {},
   "outputs": [],
   "source": [
    "fs_path = r'C:\\Users\\gjals\\Desktop\\코딩\\재무데이터.xlsx'\n",
    "fs_df = get_finance_data(fs_path)"
   ]
  },
  {
   "cell_type": "code",
   "execution_count": null,
   "metadata": {},
   "outputs": [],
   "source": [
    "fr_path = r'C:\\Users\\gjals\\Desktop\\코딩\\재무비율데이터.xlsx'\n",
    "fr_df = get_finance_data(fr_path)"
   ]
  },
  {
   "cell_type": "code",
   "execution_count": null,
   "metadata": {},
   "outputs": [],
   "source": [
    "invest_path = r'C:\\Users\\gjals\\Desktop\\코딩\\투자지표데이터.xlsx'\n",
    "invest_df = get_finance_data(invest_path)"
   ]
  },
  {
   "cell_type": "code",
   "execution_count": null,
   "metadata": {},
   "outputs": [],
   "source": []
  },
  {
   "cell_type": "code",
   "execution_count": null,
   "metadata": {},
   "outputs": [],
   "source": [
    "def check_IFRS(x): #N/A_IFRS(x)를 Nan으로 바꾸기\n",
    "    if x == 'N/A(IFRS)':\n",
    "        return np.NaN\n",
    "    else:\n",
    "        return x"
   ]
  },
  {
   "cell_type": "code",
   "execution_count": null,
   "metadata": {},
   "outputs": [],
   "source": [
    "def low_per(invest_df, index_date, num): #per기준으로 오름차순 정렬\n",
    "    invest_df[(index_date, 'PER')] = pd.to_numeric(invest_df[(index_date, 'PER')])\n",
    "    per_sorted = invest_df.sort_values(by=(index_date, 'PER'))\n",
    "    return per_sorted[index_date][:num]"
   ]
  },
  {
   "cell_type": "code",
   "execution_count": null,
   "metadata": {},
   "outputs": [],
   "source": [
    "def high_roa(fr_df, index_date, num): #roa기준으로 내림차순 정렬\n",
    "    fr_df[(index_date, 'ROA')] = fr_df[(index_date, 'ROA')].apply(check_IFRS)\n",
    "    fr_df[(index_date, 'ROA')] = pd.to_numeric(fr_df[(index_date, 'ROA')])\n",
    "    sorted_roa = fr_df.sort_values(by=(index_date, 'ROA'), ascending=False)\n",
    "    return sorted_roa[index_date][:num]"
   ]
  },
  {
   "cell_type": "code",
   "execution_count": null,
   "metadata": {},
   "outputs": [],
   "source": [
    "def magic_formula(fr_df, invest_df, index_date, num): #마법공식 저per, 고roa 합성 함수\n",
    "    per = low_per(invest_df, index_date, None)\n",
    "    roa = high_roa(fr_df, index_date, None)\n",
    "    per['per순위'] = per['PER'].rank()\n",
    "    roa['roa순위'] = roa['ROA'].rank(ascending=False)\n",
    "    magic = pd.merge(per, roa, how='outer', left_index=True, right_index=True)\n",
    "    magic['마법공식 순위'] = (magic['per순위'] + magic['roa순위']).rank().sort_values()\n",
    "    magic = magic.sort_values(by='마법공식 순위')\n",
    "    return magic[:num]"
   ]
  },
  {
   "cell_type": "code",
   "execution_count": null,
   "metadata": {},
   "outputs": [],
   "source": []
  },
  {
   "cell_type": "code",
   "execution_count": null,
   "metadata": {},
   "outputs": [],
   "source": [
    "def get_value_rank(invest_df, value_type, index_date, num): #저평가 지수 기준으로 정렬해 순위 만들어 주는 함수 \n",
    "    invest_df[(index_date, value_type)] = pd.to_numeric(invest_df[(index_date, value_type)])\n",
    "    value_sorted = invest_df.sort_values(by=(index_date, value_type))[index_date]\n",
    "    value_sorted[value_type + '순위'] = value_sorted[value_type].rank()\n",
    "    return value_sorted[[value_type, value_type + '순위']][:num]"
   ]
  },
  {
   "cell_type": "code",
   "execution_count": null,
   "metadata": {},
   "outputs": [],
   "source": [
    "def make_value_combo(value_list, invest_df, index_date, num): #저평가 지표 조합 함수\n",
    "\n",
    "    for i, value in enumerate(value_list):\n",
    "        temp_df = get_value_rank(invest_df, value, index_date, None)\n",
    "        if i == 0:\n",
    "            value_combo_df = temp_df\n",
    "            rank_combo = temp_df[value + '순위']\n",
    "        else:\n",
    "            value_combo_df = pd.merge(value_combo_df, temp_df, how='outer', right_index=True, left_index=True)\n",
    "            rank_combo = rank_combo + temp_df[value + '순위']\n",
    "\n",
    "    value_combo_df['종합순위'] = rank_combo.rank()\n",
    "    value_combo_df = value_combo_df.sort_values(by='종합순위')\n",
    "\n",
    "    return value_combo_df[:num]"
   ]
  },
  {
   "cell_type": "code",
   "execution_count": null,
   "metadata": {},
   "outputs": [],
   "source": [
    "def get_fscore(fs_df, index_date, num): #f스코어\n",
    "    fscore_df = fs_df[index_date]\n",
    "    fscore_df['당기순이익점수'] = fscore_df['당기순이익'] > 0\n",
    "    fscore_df['영업활동점수'] = fscore_df['영업활동으로인한현금흐름'] > 0\n",
    "    fscore_df['더큰영업활동점수'] = fscore_df['영업활동으로인한현금흐름'] > fscore_df['당기순이익']\n",
    "    fscore_df['종합점수'] = fscore_df[['당기순이익점수', '영업활동점수', '더큰영업활동점수']].sum(axis=1)\n",
    "    fscore_df = fscore_df[fscore_df['종합점수'] == 3]\n",
    "    return fscore_df[:num]"
   ]
  },
  {
   "cell_type": "code",
   "execution_count": null,
   "metadata": {},
   "outputs": [],
   "source": []
  },
  {
   "cell_type": "code",
   "execution_count": 13,
   "metadata": {},
   "outputs": [],
   "source": [
    "price_path = r'C:\\Users\\gjals\\Desktop\\코딩\\가격데이터.xlsx'  \n",
    "price_df = pd.read_excel(price_path)\n",
    "\n",
    "#가격데이터 전처리함수\n",
    "for i in range(0, 1500):\n",
    "    price_df = price_df.rename(index={i : price_df['Unnamed: 0'][i]})\n",
    "    \n",
    "price_df=price_df.drop(price_df.columns[0:1], axis=1, inplace=False)"
   ]
  },
  {
   "cell_type": "code",
   "execution_count": null,
   "metadata": {},
   "outputs": [],
   "source": [
    "def get_momentum_rank(price_df, index_date, date_range, num): #모멘텀 함수\n",
    "    momentum_df = pd.DataFrame(price_df.pct_change(date_range).loc[index_date])\n",
    "    momentum_df.columns = ['모멘텀']\n",
    "    momentum_df['모멘텀순위'] = momentum_df['모멘텀'].rank(ascending=False)\n",
    "    momentum_df = momentum_df.sort_values(by='모멘텀순위')\n",
    "    return momentum_df[:num]"
   ]
  },
  {
   "cell_type": "code",
   "execution_count": null,
   "metadata": {},
   "outputs": [],
   "source": [
    "def get_value_quality(invest_df, fs_df, index_date, num): #저평가 지수 + f스코어\n",
    "    value = make_value_combo(['PER', 'PBR', 'PSR', 'PCR'], invest_df, index_date, None)\n",
    "    quality = get_fscore(fs_df, index_date, None)\n",
    "    value_quality = pd.merge(value, quality, how='outer', right_index=True, left_index=True)\n",
    "    value_quality_filtered = value_quality[value_quality['종합점수'] == 3]\n",
    "    vq_df = value_quality_filtered.sort_values(by='종합순위')\n",
    "    return vq_df[:num]"
   ]
  },
  {
   "cell_type": "code",
   "execution_count": null,
   "metadata": {},
   "outputs": [],
   "source": []
  }
 ]
}