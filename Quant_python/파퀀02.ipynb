{
 "metadata": {
  "language_info": {
   "codemirror_mode": {
    "name": "ipython",
    "version": 3
   },
   "file_extension": ".py",
   "mimetype": "text/x-python",
   "name": "python",
   "nbconvert_exporter": "python",
   "pygments_lexer": "ipython3",
   "version": "3.8.3-final"
  },
  "orig_nbformat": 2,
  "kernelspec": {
   "name": "Python 3.8.3 64-bit ('base': conda)",
   "display_name": "Python 3.8.3 64-bit ('base': conda)",
   "metadata": {
    "interpreter": {
     "hash": "5ad81c41d437143b132f6d101d6b2989c28a9b9157a87e906509e80cef648512"
    }
   }
  }
 },
 "nbformat": 4,
 "nbformat_minor": 2,
 "cells": [
  {
   "cell_type": "code",
   "execution_count": 1,
   "metadata": {},
   "outputs": [],
   "source": [
    "import pandas as pd"
   ]
  },
  {
   "cell_type": "code",
   "execution_count": 2,
   "metadata": {},
   "outputs": [
    {
     "output_type": "execute_result",
     "data": {
      "text/plain": [
       "0    100\n",
       "1     50\n",
       "2    150\n",
       "dtype: int64"
      ]
     },
     "metadata": {},
     "execution_count": 2
    }
   ],
   "source": [
    "pd.Series([100, 50, 150])"
   ]
  },
  {
   "cell_type": "code",
   "execution_count": 4,
   "metadata": {},
   "outputs": [
    {
     "output_type": "execute_result",
     "data": {
      "text/plain": [
       "카카오     100\n",
       "삼성전자    500\n",
       "현대차     150\n",
       "dtype: int64"
      ]
     },
     "metadata": {},
     "execution_count": 4
    }
   ],
   "source": [
    "pd.Series([100, 500, 150], index=['카카오', '삼성전자', '현대차'])"
   ]
  },
  {
   "cell_type": "code",
   "execution_count": 5,
   "metadata": {},
   "outputs": [
    {
     "output_type": "stream",
     "name": "stdout",
     "text": [
      "100\n150\n"
     ]
    }
   ],
   "source": [
    "series_ex1 = pd.Series([100, 500, 150], index=['카카오', '삼성전자', '현대차'])\n",
    "print(series_ex1['카카오'])\n",
    "print(series_ex1['현대차'])"
   ]
  },
  {
   "cell_type": "code",
   "execution_count": 6,
   "metadata": {},
   "outputs": [
    {
     "output_type": "stream",
     "name": "stdout",
     "text": [
      "500\n"
     ]
    }
   ],
   "source": [
    "print(series_ex1[1])"
   ]
  },
  {
   "cell_type": "code",
   "execution_count": 23,
   "metadata": {},
   "outputs": [
    {
     "output_type": "execute_result",
     "data": {
      "text/plain": [
       "       가격  PER   ROA\n",
       "카카오   100  0.5  1.01\n",
       "삼성전자  500  1.2  3.10\n",
       "현대차   150  0.2  0.97"
      ],
      "text/html": "<div>\n<style scoped>\n    .dataframe tbody tr th:only-of-type {\n        vertical-align: middle;\n    }\n\n    .dataframe tbody tr th {\n        vertical-align: top;\n    }\n\n    .dataframe thead th {\n        text-align: right;\n    }\n</style>\n<table border=\"1\" class=\"dataframe\">\n  <thead>\n    <tr style=\"text-align: right;\">\n      <th></th>\n      <th>가격</th>\n      <th>PER</th>\n      <th>ROA</th>\n    </tr>\n  </thead>\n  <tbody>\n    <tr>\n      <th>카카오</th>\n      <td>100</td>\n      <td>0.5</td>\n      <td>1.01</td>\n    </tr>\n    <tr>\n      <th>삼성전자</th>\n      <td>500</td>\n      <td>1.2</td>\n      <td>3.10</td>\n    </tr>\n    <tr>\n      <th>현대차</th>\n      <td>150</td>\n      <td>0.2</td>\n      <td>0.97</td>\n    </tr>\n  </tbody>\n</table>\n</div>"
     },
     "metadata": {},
     "execution_count": 23
    }
   ],
   "source": [
    "pd.DataFrame({'가격':[100, 500, 150], 'PER':[0.5, 1.2, 0.2], 'ROA':[1.01, 3.1, 0.97]}, index=['카카오', '삼성전자', '현대차'])"
   ]
  },
  {
   "cell_type": "code",
   "execution_count": 24,
   "metadata": {},
   "outputs": [
    {
     "output_type": "execute_result",
     "data": {
      "text/plain": [
       "카카오     100\n",
       "삼성전자    500\n",
       "현대차     150\n",
       "Name: 가격, dtype: int64"
      ]
     },
     "metadata": {},
     "execution_count": 24
    }
   ],
   "source": [
    "df_ex1 = pd.DataFrame({'가격':[100, 500, 150], 'PER':[0.5, 1.2, 0.2], 'ROA':[1.01, 3.1, 0.97]}, index=['카카오', '삼성전자', '현대차'])\n",
    "df_ex1['가격']"
   ]
  },
  {
   "cell_type": "code",
   "execution_count": 25,
   "metadata": {},
   "outputs": [
    {
     "output_type": "execute_result",
     "data": {
      "text/plain": [
       "가격     100.00\n",
       "PER      0.50\n",
       "ROA      1.01\n",
       "Name: 카카오, dtype: float64"
      ]
     },
     "metadata": {},
     "execution_count": 25
    }
   ],
   "source": [
    "df_ex1.loc['카카오']"
   ]
  },
  {
   "cell_type": "code",
   "execution_count": 26,
   "metadata": {},
   "outputs": [],
   "source": [
    "df_ex2 = pd.DataFrame({'가격':[100, 140, 155, 70, 90], \n",
    "                       'PER':[1.1, 0.8, 0.7, 2.3, 3.9],\n",
    "                       '거래량':[1000, 800, 890, 700, 2000]},\n",
    "                     index=['a', 'b', 'c','d', 'e'])"
   ]
  },
  {
   "cell_type": "code",
   "execution_count": 27,
   "metadata": {},
   "outputs": [
    {
     "output_type": "execute_result",
     "data": {
      "text/plain": [
       "    가격  PER   거래량\n",
       "a  100  1.1  1000\n",
       "b  140  0.8   800\n",
       "c  155  0.7   890\n",
       "d   70  2.3   700\n",
       "e   90  3.9  2000"
      ],
      "text/html": "<div>\n<style scoped>\n    .dataframe tbody tr th:only-of-type {\n        vertical-align: middle;\n    }\n\n    .dataframe tbody tr th {\n        vertical-align: top;\n    }\n\n    .dataframe thead th {\n        text-align: right;\n    }\n</style>\n<table border=\"1\" class=\"dataframe\">\n  <thead>\n    <tr style=\"text-align: right;\">\n      <th></th>\n      <th>가격</th>\n      <th>PER</th>\n      <th>거래량</th>\n    </tr>\n  </thead>\n  <tbody>\n    <tr>\n      <th>a</th>\n      <td>100</td>\n      <td>1.1</td>\n      <td>1000</td>\n    </tr>\n    <tr>\n      <th>b</th>\n      <td>140</td>\n      <td>0.8</td>\n      <td>800</td>\n    </tr>\n    <tr>\n      <th>c</th>\n      <td>155</td>\n      <td>0.7</td>\n      <td>890</td>\n    </tr>\n    <tr>\n      <th>d</th>\n      <td>70</td>\n      <td>2.3</td>\n      <td>700</td>\n    </tr>\n    <tr>\n      <th>e</th>\n      <td>90</td>\n      <td>3.9</td>\n      <td>2000</td>\n    </tr>\n  </tbody>\n</table>\n</div>"
     },
     "metadata": {},
     "execution_count": 27
    }
   ],
   "source": [
    "df_ex2"
   ]
  },
  {
   "cell_type": "code",
   "execution_count": 29,
   "metadata": {},
   "outputs": [
    {
     "output_type": "execute_result",
     "data": {
      "text/plain": [
       "    가격  PER   거래량\n",
       "a  100  1.1  1000\n",
       "b  140  0.8   800\n",
       "c  155  0.7   890"
      ],
      "text/html": "<div>\n<style scoped>\n    .dataframe tbody tr th:only-of-type {\n        vertical-align: middle;\n    }\n\n    .dataframe tbody tr th {\n        vertical-align: top;\n    }\n\n    .dataframe thead th {\n        text-align: right;\n    }\n</style>\n<table border=\"1\" class=\"dataframe\">\n  <thead>\n    <tr style=\"text-align: right;\">\n      <th></th>\n      <th>가격</th>\n      <th>PER</th>\n      <th>거래량</th>\n    </tr>\n  </thead>\n  <tbody>\n    <tr>\n      <th>a</th>\n      <td>100</td>\n      <td>1.1</td>\n      <td>1000</td>\n    </tr>\n    <tr>\n      <th>b</th>\n      <td>140</td>\n      <td>0.8</td>\n      <td>800</td>\n    </tr>\n    <tr>\n      <th>c</th>\n      <td>155</td>\n      <td>0.7</td>\n      <td>890</td>\n    </tr>\n  </tbody>\n</table>\n</div>"
     },
     "metadata": {},
     "execution_count": 29
    }
   ],
   "source": [
    "df_ex2[df_ex2['가격'] >=100]"
   ]
  },
  {
   "cell_type": "code",
   "execution_count": 30,
   "metadata": {},
   "outputs": [
    {
     "output_type": "execute_result",
     "data": {
      "text/plain": [
       "    가격  PER  거래량\n",
       "b  140  0.8  800\n",
       "c  155  0.7  890\n",
       "d   70  2.3  700"
      ],
      "text/html": "<div>\n<style scoped>\n    .dataframe tbody tr th:only-of-type {\n        vertical-align: middle;\n    }\n\n    .dataframe tbody tr th {\n        vertical-align: top;\n    }\n\n    .dataframe thead th {\n        text-align: right;\n    }\n</style>\n<table border=\"1\" class=\"dataframe\">\n  <thead>\n    <tr style=\"text-align: right;\">\n      <th></th>\n      <th>가격</th>\n      <th>PER</th>\n      <th>거래량</th>\n    </tr>\n  </thead>\n  <tbody>\n    <tr>\n      <th>b</th>\n      <td>140</td>\n      <td>0.8</td>\n      <td>800</td>\n    </tr>\n    <tr>\n      <th>c</th>\n      <td>155</td>\n      <td>0.7</td>\n      <td>890</td>\n    </tr>\n    <tr>\n      <th>d</th>\n      <td>70</td>\n      <td>2.3</td>\n      <td>700</td>\n    </tr>\n  </tbody>\n</table>\n</div>"
     },
     "metadata": {},
     "execution_count": 30
    }
   ],
   "source": [
    "df_ex2[df_ex2['거래량'] < 1000]"
   ]
  },
  {
   "cell_type": "code",
   "execution_count": 31,
   "metadata": {},
   "outputs": [
    {
     "output_type": "execute_result",
     "data": {
      "text/plain": [
       "c    0.7\n",
       "b    0.8\n",
       "a    1.1\n",
       "d    2.3\n",
       "e    3.9\n",
       "Name: PER, dtype: float64"
      ]
     },
     "metadata": {},
     "execution_count": 31
    }
   ],
   "source": [
    "df_ex2['PER'].sort_values()"
   ]
  },
  {
   "cell_type": "code",
   "execution_count": 32,
   "metadata": {},
   "outputs": [
    {
     "output_type": "execute_result",
     "data": {
      "text/plain": [
       "e    3.9\n",
       "d    2.3\n",
       "a    1.1\n",
       "b    0.8\n",
       "c    0.7\n",
       "Name: PER, dtype: float64"
      ]
     },
     "metadata": {},
     "execution_count": 32
    }
   ],
   "source": [
    "df_ex2['PER'].sort_values(ascending=False)"
   ]
  },
  {
   "cell_type": "code",
   "execution_count": 37,
   "metadata": {},
   "outputs": [
    {
     "output_type": "execute_result",
     "data": {
      "text/plain": [
       "    가격  PER   거래량\n",
       "e   90  3.9  2000\n",
       "d   70  2.3   700\n",
       "a  100  1.1  1000\n",
       "b  140  0.8   800\n",
       "c  155  0.7   890"
      ],
      "text/html": "<div>\n<style scoped>\n    .dataframe tbody tr th:only-of-type {\n        vertical-align: middle;\n    }\n\n    .dataframe tbody tr th {\n        vertical-align: top;\n    }\n\n    .dataframe thead th {\n        text-align: right;\n    }\n</style>\n<table border=\"1\" class=\"dataframe\">\n  <thead>\n    <tr style=\"text-align: right;\">\n      <th></th>\n      <th>가격</th>\n      <th>PER</th>\n      <th>거래량</th>\n    </tr>\n  </thead>\n  <tbody>\n    <tr>\n      <th>e</th>\n      <td>90</td>\n      <td>3.9</td>\n      <td>2000</td>\n    </tr>\n    <tr>\n      <th>d</th>\n      <td>70</td>\n      <td>2.3</td>\n      <td>700</td>\n    </tr>\n    <tr>\n      <th>a</th>\n      <td>100</td>\n      <td>1.1</td>\n      <td>1000</td>\n    </tr>\n    <tr>\n      <th>b</th>\n      <td>140</td>\n      <td>0.8</td>\n      <td>800</td>\n    </tr>\n    <tr>\n      <th>c</th>\n      <td>155</td>\n      <td>0.7</td>\n      <td>890</td>\n    </tr>\n  </tbody>\n</table>\n</div>"
     },
     "metadata": {},
     "execution_count": 37
    }
   ],
   "source": [
    "df_ex2.sort_values(by='PER', ascending=False)"
   ]
  },
  {
   "cell_type": "code",
   "execution_count": 38,
   "metadata": {},
   "outputs": [
    {
     "output_type": "execute_result",
     "data": {
      "text/plain": [
       "a    4.0\n",
       "b    2.0\n",
       "c    3.0\n",
       "d    1.0\n",
       "e    5.0\n",
       "Name: 거래량, dtype: float64"
      ]
     },
     "metadata": {},
     "execution_count": 38
    }
   ],
   "source": [
    "df_ex2['거래량'].rank()"
   ]
  },
  {
   "cell_type": "code",
   "execution_count": 39,
   "metadata": {},
   "outputs": [
    {
     "output_type": "execute_result",
     "data": {
      "text/plain": [
       "a    2.0\n",
       "b    4.0\n",
       "c    3.0\n",
       "d    5.0\n",
       "e    1.0\n",
       "Name: 거래량, dtype: float64"
      ]
     },
     "metadata": {},
     "execution_count": 39
    }
   ],
   "source": [
    "df_ex2['거래량'].rank(ascending=False)"
   ]
  },
  {
   "cell_type": "code",
   "execution_count": 41,
   "metadata": {},
   "outputs": [
    {
     "output_type": "execute_result",
     "data": {
      "text/plain": [
       "             회사명     per\n",
       "0           삼성전자   15.23\n",
       "1         SK하이닉스   22.86\n",
       "2           셀트리온  103.09\n",
       "3           LG화학  103.67\n",
       "4            현대차   17.23\n",
       "...          ...     ...\n",
       "2210        엠투아이   42.00\n",
       "2211      이리츠코크렙   25.29\n",
       "2212     영림원소프트랩   58.82\n",
       "2213        신도기연   50.83\n",
       "2214  IBKS제14호스팩    0.00\n",
       "\n",
       "[2215 rows x 2 columns]"
      ],
      "text/html": "<div>\n<style scoped>\n    .dataframe tbody tr th:only-of-type {\n        vertical-align: middle;\n    }\n\n    .dataframe tbody tr th {\n        vertical-align: top;\n    }\n\n    .dataframe thead th {\n        text-align: right;\n    }\n</style>\n<table border=\"1\" class=\"dataframe\">\n  <thead>\n    <tr style=\"text-align: right;\">\n      <th></th>\n      <th>회사명</th>\n      <th>per</th>\n    </tr>\n  </thead>\n  <tbody>\n    <tr>\n      <th>0</th>\n      <td>삼성전자</td>\n      <td>15.23</td>\n    </tr>\n    <tr>\n      <th>1</th>\n      <td>SK하이닉스</td>\n      <td>22.86</td>\n    </tr>\n    <tr>\n      <th>2</th>\n      <td>셀트리온</td>\n      <td>103.09</td>\n    </tr>\n    <tr>\n      <th>3</th>\n      <td>LG화학</td>\n      <td>103.67</td>\n    </tr>\n    <tr>\n      <th>4</th>\n      <td>현대차</td>\n      <td>17.23</td>\n    </tr>\n    <tr>\n      <th>...</th>\n      <td>...</td>\n      <td>...</td>\n    </tr>\n    <tr>\n      <th>2210</th>\n      <td>엠투아이</td>\n      <td>42.00</td>\n    </tr>\n    <tr>\n      <th>2211</th>\n      <td>이리츠코크렙</td>\n      <td>25.29</td>\n    </tr>\n    <tr>\n      <th>2212</th>\n      <td>영림원소프트랩</td>\n      <td>58.82</td>\n    </tr>\n    <tr>\n      <th>2213</th>\n      <td>신도기연</td>\n      <td>50.83</td>\n    </tr>\n    <tr>\n      <th>2214</th>\n      <td>IBKS제14호스팩</td>\n      <td>0.00</td>\n    </tr>\n  </tbody>\n</table>\n<p>2215 rows × 2 columns</p>\n</div>"
     },
     "metadata": {},
     "execution_count": 41
    }
   ],
   "source": [
    "file_path = 'C:\\\\Users\\\\gjals\\Desktop\\\\코딩\\\\파이썬으로 퀀트투자 만들기\\\\per.xlsx'\n",
    "pd.read_excel(file_path, sheet_name='per')"
   ]
  },
  {
   "cell_type": "code",
   "execution_count": 44,
   "metadata": {},
   "outputs": [],
   "source": [
    "per_data = pd.read_excel(file_path, sheet_name='per', index_col=0)"
   ]
  },
  {
   "cell_type": "code",
   "execution_count": 45,
   "metadata": {},
   "outputs": [
    {
     "output_type": "execute_result",
     "data": {
      "text/plain": [
       "               per\n",
       "회사명               \n",
       "삼성전자         15.23\n",
       "SK하이닉스       22.86\n",
       "셀트리온        103.09\n",
       "LG화학        103.67\n",
       "현대차          17.23\n",
       "...            ...\n",
       "엠투아이         42.00\n",
       "이리츠코크렙       25.29\n",
       "영림원소프트랩      58.82\n",
       "신도기연         50.83\n",
       "IBKS제14호스팩    0.00\n",
       "\n",
       "[2215 rows x 1 columns]"
      ],
      "text/html": "<div>\n<style scoped>\n    .dataframe tbody tr th:only-of-type {\n        vertical-align: middle;\n    }\n\n    .dataframe tbody tr th {\n        vertical-align: top;\n    }\n\n    .dataframe thead th {\n        text-align: right;\n    }\n</style>\n<table border=\"1\" class=\"dataframe\">\n  <thead>\n    <tr style=\"text-align: right;\">\n      <th></th>\n      <th>per</th>\n    </tr>\n    <tr>\n      <th>회사명</th>\n      <th></th>\n    </tr>\n  </thead>\n  <tbody>\n    <tr>\n      <th>삼성전자</th>\n      <td>15.23</td>\n    </tr>\n    <tr>\n      <th>SK하이닉스</th>\n      <td>22.86</td>\n    </tr>\n    <tr>\n      <th>셀트리온</th>\n      <td>103.09</td>\n    </tr>\n    <tr>\n      <th>LG화학</th>\n      <td>103.67</td>\n    </tr>\n    <tr>\n      <th>현대차</th>\n      <td>17.23</td>\n    </tr>\n    <tr>\n      <th>...</th>\n      <td>...</td>\n    </tr>\n    <tr>\n      <th>엠투아이</th>\n      <td>42.00</td>\n    </tr>\n    <tr>\n      <th>이리츠코크렙</th>\n      <td>25.29</td>\n    </tr>\n    <tr>\n      <th>영림원소프트랩</th>\n      <td>58.82</td>\n    </tr>\n    <tr>\n      <th>신도기연</th>\n      <td>50.83</td>\n    </tr>\n    <tr>\n      <th>IBKS제14호스팩</th>\n      <td>0.00</td>\n    </tr>\n  </tbody>\n</table>\n<p>2215 rows × 1 columns</p>\n</div>"
     },
     "metadata": {},
     "execution_count": 45
    }
   ],
   "source": [
    "per_data"
   ]
  },
  {
   "cell_type": "code",
   "execution_count": 50,
   "metadata": {},
   "outputs": [],
   "source": [
    "filtered_per = per_data[per_data['per'] > 0]"
   ]
  },
  {
   "cell_type": "code",
   "execution_count": 51,
   "metadata": {},
   "outputs": [],
   "source": [
    "sorted_per = filtered_per.sort_values(by='per')"
   ]
  },
  {
   "cell_type": "code",
   "execution_count": 52,
   "metadata": {},
   "outputs": [
    {
     "output_type": "execute_result",
     "data": {
      "text/plain": [
       "              per\n",
       "회사명              \n",
       "KG ETS       1.15\n",
       "양지사          1.22\n",
       "이엠앤아이        1.24\n",
       "지와이커머스       1.28\n",
       "오가닉티코스메틱     1.40\n",
       "...           ...\n",
       "안국약품      1024.00\n",
       "로고스바이오    1129.00\n",
       "와이팜       1770.33\n",
       "유티아이      2047.00\n",
       "신풍제약      2743.44\n",
       "\n",
       "[1291 rows x 1 columns]"
      ],
      "text/html": "<div>\n<style scoped>\n    .dataframe tbody tr th:only-of-type {\n        vertical-align: middle;\n    }\n\n    .dataframe tbody tr th {\n        vertical-align: top;\n    }\n\n    .dataframe thead th {\n        text-align: right;\n    }\n</style>\n<table border=\"1\" class=\"dataframe\">\n  <thead>\n    <tr style=\"text-align: right;\">\n      <th></th>\n      <th>per</th>\n    </tr>\n    <tr>\n      <th>회사명</th>\n      <th></th>\n    </tr>\n  </thead>\n  <tbody>\n    <tr>\n      <th>KG ETS</th>\n      <td>1.15</td>\n    </tr>\n    <tr>\n      <th>양지사</th>\n      <td>1.22</td>\n    </tr>\n    <tr>\n      <th>이엠앤아이</th>\n      <td>1.24</td>\n    </tr>\n    <tr>\n      <th>지와이커머스</th>\n      <td>1.28</td>\n    </tr>\n    <tr>\n      <th>오가닉티코스메틱</th>\n      <td>1.40</td>\n    </tr>\n    <tr>\n      <th>...</th>\n      <td>...</td>\n    </tr>\n    <tr>\n      <th>안국약품</th>\n      <td>1024.00</td>\n    </tr>\n    <tr>\n      <th>로고스바이오</th>\n      <td>1129.00</td>\n    </tr>\n    <tr>\n      <th>와이팜</th>\n      <td>1770.33</td>\n    </tr>\n    <tr>\n      <th>유티아이</th>\n      <td>2047.00</td>\n    </tr>\n    <tr>\n      <th>신풍제약</th>\n      <td>2743.44</td>\n    </tr>\n  </tbody>\n</table>\n<p>1291 rows × 1 columns</p>\n</div>"
     },
     "metadata": {},
     "execution_count": 52
    }
   ],
   "source": [
    "sorted_per"
   ]
  },
  {
   "cell_type": "code",
   "execution_count": 53,
   "metadata": {},
   "outputs": [],
   "source": [
    "sorted_per['per랭킹'] = sorted_per['per'].rank()"
   ]
  },
  {
   "cell_type": "code",
   "execution_count": 55,
   "metadata": {},
   "outputs": [
    {
     "output_type": "execute_result",
     "data": {
      "text/plain": [
       "              per   per랭킹\n",
       "회사명                      \n",
       "KG ETS       1.15     1.0\n",
       "양지사          1.22     2.0\n",
       "이엠앤아이        1.24     3.0\n",
       "지와이커머스       1.28     4.0\n",
       "오가닉티코스메틱     1.40     5.0\n",
       "...           ...     ...\n",
       "안국약품      1024.00  1287.0\n",
       "로고스바이오    1129.00  1288.0\n",
       "와이팜       1770.33  1289.0\n",
       "유티아이      2047.00  1290.0\n",
       "신풍제약      2743.44  1291.0\n",
       "\n",
       "[1291 rows x 2 columns]"
      ],
      "text/html": "<div>\n<style scoped>\n    .dataframe tbody tr th:only-of-type {\n        vertical-align: middle;\n    }\n\n    .dataframe tbody tr th {\n        vertical-align: top;\n    }\n\n    .dataframe thead th {\n        text-align: right;\n    }\n</style>\n<table border=\"1\" class=\"dataframe\">\n  <thead>\n    <tr style=\"text-align: right;\">\n      <th></th>\n      <th>per</th>\n      <th>per랭킹</th>\n    </tr>\n    <tr>\n      <th>회사명</th>\n      <th></th>\n      <th></th>\n    </tr>\n  </thead>\n  <tbody>\n    <tr>\n      <th>KG ETS</th>\n      <td>1.15</td>\n      <td>1.0</td>\n    </tr>\n    <tr>\n      <th>양지사</th>\n      <td>1.22</td>\n      <td>2.0</td>\n    </tr>\n    <tr>\n      <th>이엠앤아이</th>\n      <td>1.24</td>\n      <td>3.0</td>\n    </tr>\n    <tr>\n      <th>지와이커머스</th>\n      <td>1.28</td>\n      <td>4.0</td>\n    </tr>\n    <tr>\n      <th>오가닉티코스메틱</th>\n      <td>1.40</td>\n      <td>5.0</td>\n    </tr>\n    <tr>\n      <th>...</th>\n      <td>...</td>\n      <td>...</td>\n    </tr>\n    <tr>\n      <th>안국약품</th>\n      <td>1024.00</td>\n      <td>1287.0</td>\n    </tr>\n    <tr>\n      <th>로고스바이오</th>\n      <td>1129.00</td>\n      <td>1288.0</td>\n    </tr>\n    <tr>\n      <th>와이팜</th>\n      <td>1770.33</td>\n      <td>1289.0</td>\n    </tr>\n    <tr>\n      <th>유티아이</th>\n      <td>2047.00</td>\n      <td>1290.0</td>\n    </tr>\n    <tr>\n      <th>신풍제약</th>\n      <td>2743.44</td>\n      <td>1291.0</td>\n    </tr>\n  </tbody>\n</table>\n<p>1291 rows × 2 columns</p>\n</div>"
     },
     "metadata": {},
     "execution_count": 55
    }
   ],
   "source": [
    "sorted_per"
   ]
  },
  {
   "cell_type": "code",
   "execution_count": 56,
   "metadata": {},
   "outputs": [],
   "source": [
    "roa_data = pd.read_excel(file_path, sheet_name='roa', index_col=0)"
   ]
  },
  {
   "cell_type": "code",
   "execution_count": 57,
   "metadata": {},
   "outputs": [],
   "source": [
    "filtered_roa = roa_data.dropna()"
   ]
  },
  {
   "cell_type": "code",
   "execution_count": 58,
   "metadata": {},
   "outputs": [
    {
     "output_type": "execute_result",
     "data": {
      "text/plain": [
       "            과거 ROA (%)\n",
       "회사명                   \n",
       "삼성전자              6.21\n",
       "SK하이닉스            3.41\n",
       "셀트리온              9.96\n",
       "LG화학              1.24\n",
       "현대차               1.00\n",
       "...                ...\n",
       "엠투아이              6.14\n",
       "이리츠코크렙            1.85\n",
       "영림원소프트랩           5.30\n",
       "신도기연              5.15\n",
       "IBKS제14호스팩        0.00\n",
       "\n",
       "[2215 rows x 1 columns]"
      ],
      "text/html": "<div>\n<style scoped>\n    .dataframe tbody tr th:only-of-type {\n        vertical-align: middle;\n    }\n\n    .dataframe tbody tr th {\n        vertical-align: top;\n    }\n\n    .dataframe thead th {\n        text-align: right;\n    }\n</style>\n<table border=\"1\" class=\"dataframe\">\n  <thead>\n    <tr style=\"text-align: right;\">\n      <th></th>\n      <th>과거 ROA (%)</th>\n    </tr>\n    <tr>\n      <th>회사명</th>\n      <th></th>\n    </tr>\n  </thead>\n  <tbody>\n    <tr>\n      <th>삼성전자</th>\n      <td>6.21</td>\n    </tr>\n    <tr>\n      <th>SK하이닉스</th>\n      <td>3.41</td>\n    </tr>\n    <tr>\n      <th>셀트리온</th>\n      <td>9.96</td>\n    </tr>\n    <tr>\n      <th>LG화학</th>\n      <td>1.24</td>\n    </tr>\n    <tr>\n      <th>현대차</th>\n      <td>1.00</td>\n    </tr>\n    <tr>\n      <th>...</th>\n      <td>...</td>\n    </tr>\n    <tr>\n      <th>엠투아이</th>\n      <td>6.14</td>\n    </tr>\n    <tr>\n      <th>이리츠코크렙</th>\n      <td>1.85</td>\n    </tr>\n    <tr>\n      <th>영림원소프트랩</th>\n      <td>5.30</td>\n    </tr>\n    <tr>\n      <th>신도기연</th>\n      <td>5.15</td>\n    </tr>\n    <tr>\n      <th>IBKS제14호스팩</th>\n      <td>0.00</td>\n    </tr>\n  </tbody>\n</table>\n<p>2215 rows × 1 columns</p>\n</div>"
     },
     "metadata": {},
     "execution_count": 58
    }
   ],
   "source": [
    "filtered_roa"
   ]
  },
  {
   "cell_type": "code",
   "execution_count": 59,
   "metadata": {},
   "outputs": [],
   "source": [
    "filtered_roa.columns = ['roa']"
   ]
  },
  {
   "cell_type": "code",
   "execution_count": 73,
   "metadata": {},
   "outputs": [
    {
     "output_type": "execute_result",
     "data": {
      "text/plain": [
       "             roa\n",
       "회사명             \n",
       "삼성전자        6.21\n",
       "SK하이닉스      3.41\n",
       "셀트리온        9.96\n",
       "LG화학        1.24\n",
       "현대차         1.00\n",
       "...          ...\n",
       "엠투아이        6.14\n",
       "이리츠코크렙      1.85\n",
       "영림원소프트랩     5.30\n",
       "신도기연        5.15\n",
       "IBKS제14호스팩  0.00\n",
       "\n",
       "[2215 rows x 1 columns]"
      ],
      "text/html": "<div>\n<style scoped>\n    .dataframe tbody tr th:only-of-type {\n        vertical-align: middle;\n    }\n\n    .dataframe tbody tr th {\n        vertical-align: top;\n    }\n\n    .dataframe thead th {\n        text-align: right;\n    }\n</style>\n<table border=\"1\" class=\"dataframe\">\n  <thead>\n    <tr style=\"text-align: right;\">\n      <th></th>\n      <th>roa</th>\n    </tr>\n    <tr>\n      <th>회사명</th>\n      <th></th>\n    </tr>\n  </thead>\n  <tbody>\n    <tr>\n      <th>삼성전자</th>\n      <td>6.21</td>\n    </tr>\n    <tr>\n      <th>SK하이닉스</th>\n      <td>3.41</td>\n    </tr>\n    <tr>\n      <th>셀트리온</th>\n      <td>9.96</td>\n    </tr>\n    <tr>\n      <th>LG화학</th>\n      <td>1.24</td>\n    </tr>\n    <tr>\n      <th>현대차</th>\n      <td>1.00</td>\n    </tr>\n    <tr>\n      <th>...</th>\n      <td>...</td>\n    </tr>\n    <tr>\n      <th>엠투아이</th>\n      <td>6.14</td>\n    </tr>\n    <tr>\n      <th>이리츠코크렙</th>\n      <td>1.85</td>\n    </tr>\n    <tr>\n      <th>영림원소프트랩</th>\n      <td>5.30</td>\n    </tr>\n    <tr>\n      <th>신도기연</th>\n      <td>5.15</td>\n    </tr>\n    <tr>\n      <th>IBKS제14호스팩</th>\n      <td>0.00</td>\n    </tr>\n  </tbody>\n</table>\n<p>2215 rows × 1 columns</p>\n</div>"
     },
     "metadata": {},
     "execution_count": 73
    }
   ],
   "source": [
    "filtered_roa"
   ]
  },
  {
   "cell_type": "code",
   "execution_count": 74,
   "metadata": {},
   "outputs": [],
   "source": [
    "sorted_roa = filtered_roa.sort_values(by='roa', ascending=False)\n",
    "\n",
    "sorted_roa['roa랭킹'] = sorted_roa.rank(ascending=False)"
   ]
  },
  {
   "cell_type": "code",
   "execution_count": 80,
   "metadata": {},
   "outputs": [],
   "source": [
    "total_df = pd.merge(sorted_per, sorted_roa, how='inner', left_index=True, right_index=True)"
   ]
  },
  {
   "cell_type": "code",
   "execution_count": 81,
   "metadata": {},
   "outputs": [
    {
     "output_type": "execute_result",
     "data": {
      "text/plain": [
       "              per   per랭킹     roa   roa랭킹\n",
       "회사명                                      \n",
       "KG ETS       1.15     1.0   28.52    13.0\n",
       "양지사          1.22     2.0   51.24     5.0\n",
       "이엠앤아이        1.24     3.0  292.86     1.0\n",
       "지와이커머스       1.28     4.0  133.52     2.0\n",
       "오가닉티코스메틱     1.40     5.0    9.08   215.0\n",
       "...           ...     ...     ...     ...\n",
       "안국약품      1024.00  1287.0    0.09  1289.0\n",
       "로고스바이오    1129.00  1288.0    0.40  1224.0\n",
       "와이팜       1770.33  1289.0    0.53  1190.5\n",
       "유티아이      2047.00  1290.0    0.12  1284.0\n",
       "신풍제약      2743.44  1291.0    0.46  1208.0\n",
       "\n",
       "[1291 rows x 4 columns]"
      ],
      "text/html": "<div>\n<style scoped>\n    .dataframe tbody tr th:only-of-type {\n        vertical-align: middle;\n    }\n\n    .dataframe tbody tr th {\n        vertical-align: top;\n    }\n\n    .dataframe thead th {\n        text-align: right;\n    }\n</style>\n<table border=\"1\" class=\"dataframe\">\n  <thead>\n    <tr style=\"text-align: right;\">\n      <th></th>\n      <th>per</th>\n      <th>per랭킹</th>\n      <th>roa</th>\n      <th>roa랭킹</th>\n    </tr>\n    <tr>\n      <th>회사명</th>\n      <th></th>\n      <th></th>\n      <th></th>\n      <th></th>\n    </tr>\n  </thead>\n  <tbody>\n    <tr>\n      <th>KG ETS</th>\n      <td>1.15</td>\n      <td>1.0</td>\n      <td>28.52</td>\n      <td>13.0</td>\n    </tr>\n    <tr>\n      <th>양지사</th>\n      <td>1.22</td>\n      <td>2.0</td>\n      <td>51.24</td>\n      <td>5.0</td>\n    </tr>\n    <tr>\n      <th>이엠앤아이</th>\n      <td>1.24</td>\n      <td>3.0</td>\n      <td>292.86</td>\n      <td>1.0</td>\n    </tr>\n    <tr>\n      <th>지와이커머스</th>\n      <td>1.28</td>\n      <td>4.0</td>\n      <td>133.52</td>\n      <td>2.0</td>\n    </tr>\n    <tr>\n      <th>오가닉티코스메틱</th>\n      <td>1.40</td>\n      <td>5.0</td>\n      <td>9.08</td>\n      <td>215.0</td>\n    </tr>\n    <tr>\n      <th>...</th>\n      <td>...</td>\n      <td>...</td>\n      <td>...</td>\n      <td>...</td>\n    </tr>\n    <tr>\n      <th>안국약품</th>\n      <td>1024.00</td>\n      <td>1287.0</td>\n      <td>0.09</td>\n      <td>1289.0</td>\n    </tr>\n    <tr>\n      <th>로고스바이오</th>\n      <td>1129.00</td>\n      <td>1288.0</td>\n      <td>0.40</td>\n      <td>1224.0</td>\n    </tr>\n    <tr>\n      <th>와이팜</th>\n      <td>1770.33</td>\n      <td>1289.0</td>\n      <td>0.53</td>\n      <td>1190.5</td>\n    </tr>\n    <tr>\n      <th>유티아이</th>\n      <td>2047.00</td>\n      <td>1290.0</td>\n      <td>0.12</td>\n      <td>1284.0</td>\n    </tr>\n    <tr>\n      <th>신풍제약</th>\n      <td>2743.44</td>\n      <td>1291.0</td>\n      <td>0.46</td>\n      <td>1208.0</td>\n    </tr>\n  </tbody>\n</table>\n<p>1291 rows × 4 columns</p>\n</div>"
     },
     "metadata": {},
     "execution_count": 81
    }
   ],
   "source": [
    "total_df"
   ]
  },
  {
   "cell_type": "code",
   "execution_count": 89,
   "metadata": {},
   "outputs": [
    {
     "output_type": "execute_result",
     "data": {
      "text/plain": [
       "              per   per랭킹     roa   roa랭킹    종합랭크\n",
       "회사명                                              \n",
       "이엠앤아이        1.24     3.0  292.86     1.0     1.0\n",
       "지와이커머스       1.28     4.0  133.52     2.0     2.0\n",
       "양지사          1.22     2.0   51.24     5.0     3.0\n",
       "미래아이앤지       1.43     6.0   39.36     6.0     4.0\n",
       "KG ETS       1.15     1.0   28.52    13.0     5.0\n",
       "...           ...     ...     ...     ...     ...\n",
       "알에스오토메이션   656.00  1280.0    0.14  1280.5  1287.0\n",
       "이아이디       572.50  1277.0    0.10  1287.0  1288.0\n",
       "코아시아       831.33  1282.0    0.09  1289.0  1289.0\n",
       "유티아이      2047.00  1290.0    0.12  1284.0  1290.0\n",
       "안국약품      1024.00  1287.0    0.09  1289.0  1291.0\n",
       "\n",
       "[1291 rows x 5 columns]"
      ],
      "text/html": "<div>\n<style scoped>\n    .dataframe tbody tr th:only-of-type {\n        vertical-align: middle;\n    }\n\n    .dataframe tbody tr th {\n        vertical-align: top;\n    }\n\n    .dataframe thead th {\n        text-align: right;\n    }\n</style>\n<table border=\"1\" class=\"dataframe\">\n  <thead>\n    <tr style=\"text-align: right;\">\n      <th></th>\n      <th>per</th>\n      <th>per랭킹</th>\n      <th>roa</th>\n      <th>roa랭킹</th>\n      <th>종합랭크</th>\n    </tr>\n    <tr>\n      <th>회사명</th>\n      <th></th>\n      <th></th>\n      <th></th>\n      <th></th>\n      <th></th>\n    </tr>\n  </thead>\n  <tbody>\n    <tr>\n      <th>이엠앤아이</th>\n      <td>1.24</td>\n      <td>3.0</td>\n      <td>292.86</td>\n      <td>1.0</td>\n      <td>1.0</td>\n    </tr>\n    <tr>\n      <th>지와이커머스</th>\n      <td>1.28</td>\n      <td>4.0</td>\n      <td>133.52</td>\n      <td>2.0</td>\n      <td>2.0</td>\n    </tr>\n    <tr>\n      <th>양지사</th>\n      <td>1.22</td>\n      <td>2.0</td>\n      <td>51.24</td>\n      <td>5.0</td>\n      <td>3.0</td>\n    </tr>\n    <tr>\n      <th>미래아이앤지</th>\n      <td>1.43</td>\n      <td>6.0</td>\n      <td>39.36</td>\n      <td>6.0</td>\n      <td>4.0</td>\n    </tr>\n    <tr>\n      <th>KG ETS</th>\n      <td>1.15</td>\n      <td>1.0</td>\n      <td>28.52</td>\n      <td>13.0</td>\n      <td>5.0</td>\n    </tr>\n    <tr>\n      <th>...</th>\n      <td>...</td>\n      <td>...</td>\n      <td>...</td>\n      <td>...</td>\n      <td>...</td>\n    </tr>\n    <tr>\n      <th>알에스오토메이션</th>\n      <td>656.00</td>\n      <td>1280.0</td>\n      <td>0.14</td>\n      <td>1280.5</td>\n      <td>1287.0</td>\n    </tr>\n    <tr>\n      <th>이아이디</th>\n      <td>572.50</td>\n      <td>1277.0</td>\n      <td>0.10</td>\n      <td>1287.0</td>\n      <td>1288.0</td>\n    </tr>\n    <tr>\n      <th>코아시아</th>\n      <td>831.33</td>\n      <td>1282.0</td>\n      <td>0.09</td>\n      <td>1289.0</td>\n      <td>1289.0</td>\n    </tr>\n    <tr>\n      <th>유티아이</th>\n      <td>2047.00</td>\n      <td>1290.0</td>\n      <td>0.12</td>\n      <td>1284.0</td>\n      <td>1290.0</td>\n    </tr>\n    <tr>\n      <th>안국약품</th>\n      <td>1024.00</td>\n      <td>1287.0</td>\n      <td>0.09</td>\n      <td>1289.0</td>\n      <td>1291.0</td>\n    </tr>\n  </tbody>\n</table>\n<p>1291 rows × 5 columns</p>\n</div>"
     },
     "metadata": {},
     "execution_count": 89
    }
   ],
   "source": [
    "total_df['종합랭크'] = (total_df['per랭킹'] + total_df['roa랭킹']).rank()\n",
    "total_df.sort_values(by='종합랭크')"
   ]
  }
 ]
}