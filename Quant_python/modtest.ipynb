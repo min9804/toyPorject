{
 "metadata": {
  "language_info": {
   "codemirror_mode": {
    "name": "ipython",
    "version": 3
   },
   "file_extension": ".py",
   "mimetype": "text/x-python",
   "name": "python",
   "nbconvert_exporter": "python",
   "pygments_lexer": "ipython3",
   "version": "3.8.3-final"
  },
  "orig_nbformat": 2,
  "kernelspec": {
   "name": "Python 3.8.3 64-bit ('base': conda)",
   "display_name": "Python 3.8.3 64-bit ('base': conda)",
   "metadata": {
    "interpreter": {
     "hash": "5ad81c41d437143b132f6d101d6b2989c28a9b9157a87e906509e80cef648512"
    }
   }
  }
 },
 "nbformat": 4,
 "nbformat_minor": 2,
 "cells": [
  {
   "cell_type": "code",
   "execution_count": 1,
   "metadata": {},
   "outputs": [],
   "source": [
    "from mod.magicquant import magic_by_pd"
   ]
  },
  {
   "cell_type": "code",
   "execution_count": 2,
   "metadata": {},
   "outputs": [
    {
     "output_type": "execute_result",
     "data": {
      "text/plain": [
       "              per   per랭킹     roa   roa랭킹    종합랭크\n",
       "회사명                                              \n",
       "이엠앤아이        1.24     3.0  292.86     1.0     1.0\n",
       "지와이커머스       1.28     4.0  133.52     2.0     2.0\n",
       "양지사          1.22     2.0   51.24     5.0     3.0\n",
       "미래아이앤지       1.43     6.0   39.36     6.0     4.0\n",
       "KG ETS       1.15     1.0   28.52    13.0     5.0\n",
       "...           ...     ...     ...     ...     ...\n",
       "알에스오토메이션   656.00  1280.0    0.14  1280.5  1287.0\n",
       "이아이디       572.50  1277.0    0.10  1287.0  1288.0\n",
       "코아시아       831.33  1282.0    0.09  1289.0  1289.0\n",
       "유티아이      2047.00  1290.0    0.12  1284.0  1290.0\n",
       "안국약품      1024.00  1287.0    0.09  1289.0  1291.0\n",
       "\n",
       "[1291 rows x 5 columns]"
      ],
      "text/html": "<div>\n<style scoped>\n    .dataframe tbody tr th:only-of-type {\n        vertical-align: middle;\n    }\n\n    .dataframe tbody tr th {\n        vertical-align: top;\n    }\n\n    .dataframe thead th {\n        text-align: right;\n    }\n</style>\n<table border=\"1\" class=\"dataframe\">\n  <thead>\n    <tr style=\"text-align: right;\">\n      <th></th>\n      <th>per</th>\n      <th>per랭킹</th>\n      <th>roa</th>\n      <th>roa랭킹</th>\n      <th>종합랭크</th>\n    </tr>\n    <tr>\n      <th>회사명</th>\n      <th></th>\n      <th></th>\n      <th></th>\n      <th></th>\n      <th></th>\n    </tr>\n  </thead>\n  <tbody>\n    <tr>\n      <th>이엠앤아이</th>\n      <td>1.24</td>\n      <td>3.0</td>\n      <td>292.86</td>\n      <td>1.0</td>\n      <td>1.0</td>\n    </tr>\n    <tr>\n      <th>지와이커머스</th>\n      <td>1.28</td>\n      <td>4.0</td>\n      <td>133.52</td>\n      <td>2.0</td>\n      <td>2.0</td>\n    </tr>\n    <tr>\n      <th>양지사</th>\n      <td>1.22</td>\n      <td>2.0</td>\n      <td>51.24</td>\n      <td>5.0</td>\n      <td>3.0</td>\n    </tr>\n    <tr>\n      <th>미래아이앤지</th>\n      <td>1.43</td>\n      <td>6.0</td>\n      <td>39.36</td>\n      <td>6.0</td>\n      <td>4.0</td>\n    </tr>\n    <tr>\n      <th>KG ETS</th>\n      <td>1.15</td>\n      <td>1.0</td>\n      <td>28.52</td>\n      <td>13.0</td>\n      <td>5.0</td>\n    </tr>\n    <tr>\n      <th>...</th>\n      <td>...</td>\n      <td>...</td>\n      <td>...</td>\n      <td>...</td>\n      <td>...</td>\n    </tr>\n    <tr>\n      <th>알에스오토메이션</th>\n      <td>656.00</td>\n      <td>1280.0</td>\n      <td>0.14</td>\n      <td>1280.5</td>\n      <td>1287.0</td>\n    </tr>\n    <tr>\n      <th>이아이디</th>\n      <td>572.50</td>\n      <td>1277.0</td>\n      <td>0.10</td>\n      <td>1287.0</td>\n      <td>1288.0</td>\n    </tr>\n    <tr>\n      <th>코아시아</th>\n      <td>831.33</td>\n      <td>1282.0</td>\n      <td>0.09</td>\n      <td>1289.0</td>\n      <td>1289.0</td>\n    </tr>\n    <tr>\n      <th>유티아이</th>\n      <td>2047.00</td>\n      <td>1290.0</td>\n      <td>0.12</td>\n      <td>1284.0</td>\n      <td>1290.0</td>\n    </tr>\n    <tr>\n      <th>안국약품</th>\n      <td>1024.00</td>\n      <td>1287.0</td>\n      <td>0.09</td>\n      <td>1289.0</td>\n      <td>1291.0</td>\n    </tr>\n  </tbody>\n</table>\n<p>1291 rows × 5 columns</p>\n</div>"
     },
     "metadata": {},
     "execution_count": 2
    }
   ],
   "source": [
    "magic_by_pd('C:\\\\Users\\\\gjals\\Desktop\\\\코딩\\\\파이썬으로 퀀트투자 만들기\\\\per.xlsx')"
   ]
  },
  {
   "cell_type": "code",
   "execution_count": null,
   "metadata": {},
   "outputs": [],
   "source": []
  }
 ]
}