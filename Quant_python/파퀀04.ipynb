{
 "metadata": {
  "language_info": {
   "codemirror_mode": {
    "name": "ipython",
    "version": 3
   },
   "file_extension": ".py",
   "mimetype": "text/x-python",
   "name": "python",
   "nbconvert_exporter": "python",
   "pygments_lexer": "ipython3",
   "version": "3.8.3-final"
  },
  "orig_nbformat": 2,
  "kernelspec": {
   "name": "python3",
   "display_name": "Python 3"
  }
 },
 "nbformat": 4,
 "nbformat_minor": 2,
 "cells": [
  {
   "cell_type": "code",
   "execution_count": 162,
   "metadata": {},
   "outputs": [
    {
     "output_type": "execute_result",
     "data": {
      "text/plain": [
       "     Unnamed: 0 2012/02 Unnamed: 2 Unnamed: 3 Unnamed: 4    Unnamed: 5  \\\n",
       "0           NaN   당기순이익        매출액         부채       영업이익  영업활동으로인한현금흐름   \n",
       "1           NaN     NaN        NaN        NaN        NaN           NaN   \n",
       "2       A060310     NaN        NaN        NaN        NaN           NaN   \n",
       "3       A095570     NaN        NaN        NaN        NaN           NaN   \n",
       "4       A006840     NaN        NaN        NaN        NaN           NaN   \n",
       "...         ...     ...        ...        ...        ...           ...   \n",
       "2253    A010240     NaN        NaN        NaN        NaN           NaN   \n",
       "2254    A189980     NaN        NaN        NaN        NaN           NaN   \n",
       "2255    A003280     NaN        NaN        NaN        NaN           NaN   \n",
       "2256    A037440     NaN        NaN        NaN        NaN           NaN   \n",
       "2257    A238490     NaN        NaN        NaN        NaN           NaN   \n",
       "\n",
       "     Unnamed: 6 Unnamed: 7 2013/02 Unnamed: 9  ...  Unnamed: 250 Unnamed: 251  \\\n",
       "0            자본         자산   당기순이익        매출액  ...  영업활동으로인한현금흐름           자본   \n",
       "1           NaN        NaN     NaN        NaN  ...           NaN          NaN   \n",
       "2           NaN        NaN     NaN        NaN  ...            -1          329   \n",
       "3           NaN        NaN     NaN        NaN  ...          -267         3356   \n",
       "4           NaN        NaN     NaN        NaN  ...         -1801        12061   \n",
       "...         ...        ...     ...        ...  ...           ...          ...   \n",
       "2253        NaN        NaN     NaN        NaN  ...             6          702   \n",
       "2254        NaN        NaN     NaN        NaN  ...            -7          649   \n",
       "2255        NaN        NaN     NaN        NaN  ...          -159          242   \n",
       "2256        NaN        NaN     NaN        NaN  ...           101          546   \n",
       "2257        NaN        NaN     NaN        NaN  ...           NaN          NaN   \n",
       "\n",
       "     Unnamed: 252 2020/08 Unnamed: 254 Unnamed: 255 Unnamed: 256  \\\n",
       "0              자산   당기순이익          매출액           부채         영업이익   \n",
       "1             NaN     NaN          NaN          NaN          NaN   \n",
       "2             488     NaN          NaN          NaN          NaN   \n",
       "3           17784     NaN          NaN          NaN          NaN   \n",
       "4           41396     NaN          NaN          NaN          NaN   \n",
       "...           ...     ...          ...          ...          ...   \n",
       "2253         1029     NaN          NaN          NaN          NaN   \n",
       "2254          937     NaN          NaN          NaN          NaN   \n",
       "2255         3674     NaN          NaN          NaN          NaN   \n",
       "2256         1596     NaN          NaN          NaN          NaN   \n",
       "2257          NaN     NaN          NaN          NaN          NaN   \n",
       "\n",
       "      Unnamed: 257 Unnamed: 258 Unnamed: 259  \n",
       "0     영업활동으로인한현금흐름           자본           자산  \n",
       "1              NaN          NaN          NaN  \n",
       "2              NaN          NaN          NaN  \n",
       "3              NaN          NaN          NaN  \n",
       "4              NaN          NaN          NaN  \n",
       "...            ...          ...          ...  \n",
       "2253           NaN          NaN          NaN  \n",
       "2254           NaN          NaN          NaN  \n",
       "2255           NaN          NaN          NaN  \n",
       "2256           NaN          NaN          NaN  \n",
       "2257           NaN          NaN          NaN  \n",
       "\n",
       "[2258 rows x 260 columns]"
      ],
      "text/html": "<div>\n<style scoped>\n    .dataframe tbody tr th:only-of-type {\n        vertical-align: middle;\n    }\n\n    .dataframe tbody tr th {\n        vertical-align: top;\n    }\n\n    .dataframe thead th {\n        text-align: right;\n    }\n</style>\n<table border=\"1\" class=\"dataframe\">\n  <thead>\n    <tr style=\"text-align: right;\">\n      <th></th>\n      <th>Unnamed: 0</th>\n      <th>2012/02</th>\n      <th>Unnamed: 2</th>\n      <th>Unnamed: 3</th>\n      <th>Unnamed: 4</th>\n      <th>Unnamed: 5</th>\n      <th>Unnamed: 6</th>\n      <th>Unnamed: 7</th>\n      <th>2013/02</th>\n      <th>Unnamed: 9</th>\n      <th>...</th>\n      <th>Unnamed: 250</th>\n      <th>Unnamed: 251</th>\n      <th>Unnamed: 252</th>\n      <th>2020/08</th>\n      <th>Unnamed: 254</th>\n      <th>Unnamed: 255</th>\n      <th>Unnamed: 256</th>\n      <th>Unnamed: 257</th>\n      <th>Unnamed: 258</th>\n      <th>Unnamed: 259</th>\n    </tr>\n  </thead>\n  <tbody>\n    <tr>\n      <th>0</th>\n      <td>NaN</td>\n      <td>당기순이익</td>\n      <td>매출액</td>\n      <td>부채</td>\n      <td>영업이익</td>\n      <td>영업활동으로인한현금흐름</td>\n      <td>자본</td>\n      <td>자산</td>\n      <td>당기순이익</td>\n      <td>매출액</td>\n      <td>...</td>\n      <td>영업활동으로인한현금흐름</td>\n      <td>자본</td>\n      <td>자산</td>\n      <td>당기순이익</td>\n      <td>매출액</td>\n      <td>부채</td>\n      <td>영업이익</td>\n      <td>영업활동으로인한현금흐름</td>\n      <td>자본</td>\n      <td>자산</td>\n    </tr>\n    <tr>\n      <th>1</th>\n      <td>NaN</td>\n      <td>NaN</td>\n      <td>NaN</td>\n      <td>NaN</td>\n      <td>NaN</td>\n      <td>NaN</td>\n      <td>NaN</td>\n      <td>NaN</td>\n      <td>NaN</td>\n      <td>NaN</td>\n      <td>...</td>\n      <td>NaN</td>\n      <td>NaN</td>\n      <td>NaN</td>\n      <td>NaN</td>\n      <td>NaN</td>\n      <td>NaN</td>\n      <td>NaN</td>\n      <td>NaN</td>\n      <td>NaN</td>\n      <td>NaN</td>\n    </tr>\n    <tr>\n      <th>2</th>\n      <td>A060310</td>\n      <td>NaN</td>\n      <td>NaN</td>\n      <td>NaN</td>\n      <td>NaN</td>\n      <td>NaN</td>\n      <td>NaN</td>\n      <td>NaN</td>\n      <td>NaN</td>\n      <td>NaN</td>\n      <td>...</td>\n      <td>-1</td>\n      <td>329</td>\n      <td>488</td>\n      <td>NaN</td>\n      <td>NaN</td>\n      <td>NaN</td>\n      <td>NaN</td>\n      <td>NaN</td>\n      <td>NaN</td>\n      <td>NaN</td>\n    </tr>\n    <tr>\n      <th>3</th>\n      <td>A095570</td>\n      <td>NaN</td>\n      <td>NaN</td>\n      <td>NaN</td>\n      <td>NaN</td>\n      <td>NaN</td>\n      <td>NaN</td>\n      <td>NaN</td>\n      <td>NaN</td>\n      <td>NaN</td>\n      <td>...</td>\n      <td>-267</td>\n      <td>3356</td>\n      <td>17784</td>\n      <td>NaN</td>\n      <td>NaN</td>\n      <td>NaN</td>\n      <td>NaN</td>\n      <td>NaN</td>\n      <td>NaN</td>\n      <td>NaN</td>\n    </tr>\n    <tr>\n      <th>4</th>\n      <td>A006840</td>\n      <td>NaN</td>\n      <td>NaN</td>\n      <td>NaN</td>\n      <td>NaN</td>\n      <td>NaN</td>\n      <td>NaN</td>\n      <td>NaN</td>\n      <td>NaN</td>\n      <td>NaN</td>\n      <td>...</td>\n      <td>-1801</td>\n      <td>12061</td>\n      <td>41396</td>\n      <td>NaN</td>\n      <td>NaN</td>\n      <td>NaN</td>\n      <td>NaN</td>\n      <td>NaN</td>\n      <td>NaN</td>\n      <td>NaN</td>\n    </tr>\n    <tr>\n      <th>...</th>\n      <td>...</td>\n      <td>...</td>\n      <td>...</td>\n      <td>...</td>\n      <td>...</td>\n      <td>...</td>\n      <td>...</td>\n      <td>...</td>\n      <td>...</td>\n      <td>...</td>\n      <td>...</td>\n      <td>...</td>\n      <td>...</td>\n      <td>...</td>\n      <td>...</td>\n      <td>...</td>\n      <td>...</td>\n      <td>...</td>\n      <td>...</td>\n      <td>...</td>\n      <td>...</td>\n    </tr>\n    <tr>\n      <th>2253</th>\n      <td>A010240</td>\n      <td>NaN</td>\n      <td>NaN</td>\n      <td>NaN</td>\n      <td>NaN</td>\n      <td>NaN</td>\n      <td>NaN</td>\n      <td>NaN</td>\n      <td>NaN</td>\n      <td>NaN</td>\n      <td>...</td>\n      <td>6</td>\n      <td>702</td>\n      <td>1029</td>\n      <td>NaN</td>\n      <td>NaN</td>\n      <td>NaN</td>\n      <td>NaN</td>\n      <td>NaN</td>\n      <td>NaN</td>\n      <td>NaN</td>\n    </tr>\n    <tr>\n      <th>2254</th>\n      <td>A189980</td>\n      <td>NaN</td>\n      <td>NaN</td>\n      <td>NaN</td>\n      <td>NaN</td>\n      <td>NaN</td>\n      <td>NaN</td>\n      <td>NaN</td>\n      <td>NaN</td>\n      <td>NaN</td>\n      <td>...</td>\n      <td>-7</td>\n      <td>649</td>\n      <td>937</td>\n      <td>NaN</td>\n      <td>NaN</td>\n      <td>NaN</td>\n      <td>NaN</td>\n      <td>NaN</td>\n      <td>NaN</td>\n      <td>NaN</td>\n    </tr>\n    <tr>\n      <th>2255</th>\n      <td>A003280</td>\n      <td>NaN</td>\n      <td>NaN</td>\n      <td>NaN</td>\n      <td>NaN</td>\n      <td>NaN</td>\n      <td>NaN</td>\n      <td>NaN</td>\n      <td>NaN</td>\n      <td>NaN</td>\n      <td>...</td>\n      <td>-159</td>\n      <td>242</td>\n      <td>3674</td>\n      <td>NaN</td>\n      <td>NaN</td>\n      <td>NaN</td>\n      <td>NaN</td>\n      <td>NaN</td>\n      <td>NaN</td>\n      <td>NaN</td>\n    </tr>\n    <tr>\n      <th>2256</th>\n      <td>A037440</td>\n      <td>NaN</td>\n      <td>NaN</td>\n      <td>NaN</td>\n      <td>NaN</td>\n      <td>NaN</td>\n      <td>NaN</td>\n      <td>NaN</td>\n      <td>NaN</td>\n      <td>NaN</td>\n      <td>...</td>\n      <td>101</td>\n      <td>546</td>\n      <td>1596</td>\n      <td>NaN</td>\n      <td>NaN</td>\n      <td>NaN</td>\n      <td>NaN</td>\n      <td>NaN</td>\n      <td>NaN</td>\n      <td>NaN</td>\n    </tr>\n    <tr>\n      <th>2257</th>\n      <td>A238490</td>\n      <td>NaN</td>\n      <td>NaN</td>\n      <td>NaN</td>\n      <td>NaN</td>\n      <td>NaN</td>\n      <td>NaN</td>\n      <td>NaN</td>\n      <td>NaN</td>\n      <td>NaN</td>\n      <td>...</td>\n      <td>NaN</td>\n      <td>NaN</td>\n      <td>NaN</td>\n      <td>NaN</td>\n      <td>NaN</td>\n      <td>NaN</td>\n      <td>NaN</td>\n      <td>NaN</td>\n      <td>NaN</td>\n      <td>NaN</td>\n    </tr>\n  </tbody>\n</table>\n<p>2258 rows × 260 columns</p>\n</div>"
     },
     "metadata": {},
     "execution_count": 162
    }
   ],
   "source": [
    "import pandas as pd\n",
    "\n",
    "fs_path = r'C:\\Users\\gjals\\Desktop\\코딩\\재무데이터.xlsx'\n",
    "pd.read_excel(fs_path)"
   ]
  },
  {
   "cell_type": "code",
   "execution_count": 163,
   "metadata": {},
   "outputs": [],
   "source": [
    "raw_data = pd.read_excel(fs_path)\n",
    "big_col = list(raw_data.columns)\n",
    "small_col = list(raw_data.iloc[0])"
   ]
  },
  {
   "cell_type": "code",
   "execution_count": 164,
   "metadata": {},
   "outputs": [],
   "source": [
    "big_col[0] = ''"
   ]
  },
  {
   "cell_type": "code",
   "execution_count": 165,
   "metadata": {},
   "outputs": [],
   "source": [
    "small_col[0] = '종목'"
   ]
  },
  {
   "cell_type": "code",
   "execution_count": 166,
   "metadata": {},
   "outputs": [],
   "source": [
    "new_big_col = []\n",
    "for num, col in enumerate(big_col):\n",
    "    if 'Unnamed' in col:\n",
    "        new_big_col.append(new_big_col[num-1])\n",
    "    else:\n",
    "        new_big_col.append(big_col[num])"
   ]
  },
  {
   "cell_type": "code",
   "execution_count": 167,
   "metadata": {},
   "outputs": [],
   "source": [
    "raw_data.columns = [new_big_col, small_col]"
   ]
  },
  {
   "cell_type": "code",
   "execution_count": 168,
   "metadata": {},
   "outputs": [
    {
     "output_type": "execute_result",
     "data": {
      "text/plain": [
       "              2012/02                                         2013/02       \\\n",
       "           종목   당기순이익  매출액   부채  영업이익  영업활동으로인한현금흐름   자본   자산   당기순이익  매출액   \n",
       "0         NaN   당기순이익  매출액   부채  영업이익  영업활동으로인한현금흐름   자본   자산   당기순이익  매출액   \n",
       "1         NaN     NaN  NaN  NaN   NaN           NaN  NaN  NaN     NaN  NaN   \n",
       "2     A060310     NaN  NaN  NaN   NaN           NaN  NaN  NaN     NaN  NaN   \n",
       "3     A095570     NaN  NaN  NaN   NaN           NaN  NaN  NaN     NaN  NaN   \n",
       "4     A006840     NaN  NaN  NaN   NaN           NaN  NaN  NaN     NaN  NaN   \n",
       "...       ...     ...  ...  ...   ...           ...  ...  ...     ...  ...   \n",
       "2253  A010240     NaN  NaN  NaN   NaN           NaN  NaN  NaN     NaN  NaN   \n",
       "2254  A189980     NaN  NaN  NaN   NaN           NaN  NaN  NaN     NaN  NaN   \n",
       "2255  A003280     NaN  NaN  NaN   NaN           NaN  NaN  NaN     NaN  NaN   \n",
       "2256  A037440     NaN  NaN  NaN   NaN           NaN  NaN  NaN     NaN  NaN   \n",
       "2257  A238490     NaN  NaN  NaN   NaN           NaN  NaN  NaN     NaN  NaN   \n",
       "\n",
       "      ...       2020/06               2020/08                                \\\n",
       "      ...  영업활동으로인한현금흐름     자본     자산   당기순이익  매출액   부채  영업이익  영업활동으로인한현금흐름   \n",
       "0     ...  영업활동으로인한현금흐름     자본     자산   당기순이익  매출액   부채  영업이익  영업활동으로인한현금흐름   \n",
       "1     ...           NaN    NaN    NaN     NaN  NaN  NaN   NaN           NaN   \n",
       "2     ...            -1    329    488     NaN  NaN  NaN   NaN           NaN   \n",
       "3     ...          -267   3356  17784     NaN  NaN  NaN   NaN           NaN   \n",
       "4     ...         -1801  12061  41396     NaN  NaN  NaN   NaN           NaN   \n",
       "...   ...           ...    ...    ...     ...  ...  ...   ...           ...   \n",
       "2253  ...             6    702   1029     NaN  NaN  NaN   NaN           NaN   \n",
       "2254  ...            -7    649    937     NaN  NaN  NaN   NaN           NaN   \n",
       "2255  ...          -159    242   3674     NaN  NaN  NaN   NaN           NaN   \n",
       "2256  ...           101    546   1596     NaN  NaN  NaN   NaN           NaN   \n",
       "2257  ...           NaN    NaN    NaN     NaN  NaN  NaN   NaN           NaN   \n",
       "\n",
       "                \n",
       "       자본   자산  \n",
       "0      자본   자산  \n",
       "1     NaN  NaN  \n",
       "2     NaN  NaN  \n",
       "3     NaN  NaN  \n",
       "4     NaN  NaN  \n",
       "...   ...  ...  \n",
       "2253  NaN  NaN  \n",
       "2254  NaN  NaN  \n",
       "2255  NaN  NaN  \n",
       "2256  NaN  NaN  \n",
       "2257  NaN  NaN  \n",
       "\n",
       "[2258 rows x 260 columns]"
      ],
      "text/html": "<div>\n<style scoped>\n    .dataframe tbody tr th:only-of-type {\n        vertical-align: middle;\n    }\n\n    .dataframe tbody tr th {\n        vertical-align: top;\n    }\n\n    .dataframe thead tr th {\n        text-align: left;\n    }\n</style>\n<table border=\"1\" class=\"dataframe\">\n  <thead>\n    <tr>\n      <th></th>\n      <th></th>\n      <th colspan=\"7\" halign=\"left\">2012/02</th>\n      <th colspan=\"2\" halign=\"left\">2013/02</th>\n      <th>...</th>\n      <th colspan=\"3\" halign=\"left\">2020/06</th>\n      <th colspan=\"7\" halign=\"left\">2020/08</th>\n    </tr>\n    <tr>\n      <th></th>\n      <th>종목</th>\n      <th>당기순이익</th>\n      <th>매출액</th>\n      <th>부채</th>\n      <th>영업이익</th>\n      <th>영업활동으로인한현금흐름</th>\n      <th>자본</th>\n      <th>자산</th>\n      <th>당기순이익</th>\n      <th>매출액</th>\n      <th>...</th>\n      <th>영업활동으로인한현금흐름</th>\n      <th>자본</th>\n      <th>자산</th>\n      <th>당기순이익</th>\n      <th>매출액</th>\n      <th>부채</th>\n      <th>영업이익</th>\n      <th>영업활동으로인한현금흐름</th>\n      <th>자본</th>\n      <th>자산</th>\n    </tr>\n  </thead>\n  <tbody>\n    <tr>\n      <th>0</th>\n      <td>NaN</td>\n      <td>당기순이익</td>\n      <td>매출액</td>\n      <td>부채</td>\n      <td>영업이익</td>\n      <td>영업활동으로인한현금흐름</td>\n      <td>자본</td>\n      <td>자산</td>\n      <td>당기순이익</td>\n      <td>매출액</td>\n      <td>...</td>\n      <td>영업활동으로인한현금흐름</td>\n      <td>자본</td>\n      <td>자산</td>\n      <td>당기순이익</td>\n      <td>매출액</td>\n      <td>부채</td>\n      <td>영업이익</td>\n      <td>영업활동으로인한현금흐름</td>\n      <td>자본</td>\n      <td>자산</td>\n    </tr>\n    <tr>\n      <th>1</th>\n      <td>NaN</td>\n      <td>NaN</td>\n      <td>NaN</td>\n      <td>NaN</td>\n      <td>NaN</td>\n      <td>NaN</td>\n      <td>NaN</td>\n      <td>NaN</td>\n      <td>NaN</td>\n      <td>NaN</td>\n      <td>...</td>\n      <td>NaN</td>\n      <td>NaN</td>\n      <td>NaN</td>\n      <td>NaN</td>\n      <td>NaN</td>\n      <td>NaN</td>\n      <td>NaN</td>\n      <td>NaN</td>\n      <td>NaN</td>\n      <td>NaN</td>\n    </tr>\n    <tr>\n      <th>2</th>\n      <td>A060310</td>\n      <td>NaN</td>\n      <td>NaN</td>\n      <td>NaN</td>\n      <td>NaN</td>\n      <td>NaN</td>\n      <td>NaN</td>\n      <td>NaN</td>\n      <td>NaN</td>\n      <td>NaN</td>\n      <td>...</td>\n      <td>-1</td>\n      <td>329</td>\n      <td>488</td>\n      <td>NaN</td>\n      <td>NaN</td>\n      <td>NaN</td>\n      <td>NaN</td>\n      <td>NaN</td>\n      <td>NaN</td>\n      <td>NaN</td>\n    </tr>\n    <tr>\n      <th>3</th>\n      <td>A095570</td>\n      <td>NaN</td>\n      <td>NaN</td>\n      <td>NaN</td>\n      <td>NaN</td>\n      <td>NaN</td>\n      <td>NaN</td>\n      <td>NaN</td>\n      <td>NaN</td>\n      <td>NaN</td>\n      <td>...</td>\n      <td>-267</td>\n      <td>3356</td>\n      <td>17784</td>\n      <td>NaN</td>\n      <td>NaN</td>\n      <td>NaN</td>\n      <td>NaN</td>\n      <td>NaN</td>\n      <td>NaN</td>\n      <td>NaN</td>\n    </tr>\n    <tr>\n      <th>4</th>\n      <td>A006840</td>\n      <td>NaN</td>\n      <td>NaN</td>\n      <td>NaN</td>\n      <td>NaN</td>\n      <td>NaN</td>\n      <td>NaN</td>\n      <td>NaN</td>\n      <td>NaN</td>\n      <td>NaN</td>\n      <td>...</td>\n      <td>-1801</td>\n      <td>12061</td>\n      <td>41396</td>\n      <td>NaN</td>\n      <td>NaN</td>\n      <td>NaN</td>\n      <td>NaN</td>\n      <td>NaN</td>\n      <td>NaN</td>\n      <td>NaN</td>\n    </tr>\n    <tr>\n      <th>...</th>\n      <td>...</td>\n      <td>...</td>\n      <td>...</td>\n      <td>...</td>\n      <td>...</td>\n      <td>...</td>\n      <td>...</td>\n      <td>...</td>\n      <td>...</td>\n      <td>...</td>\n      <td>...</td>\n      <td>...</td>\n      <td>...</td>\n      <td>...</td>\n      <td>...</td>\n      <td>...</td>\n      <td>...</td>\n      <td>...</td>\n      <td>...</td>\n      <td>...</td>\n      <td>...</td>\n    </tr>\n    <tr>\n      <th>2253</th>\n      <td>A010240</td>\n      <td>NaN</td>\n      <td>NaN</td>\n      <td>NaN</td>\n      <td>NaN</td>\n      <td>NaN</td>\n      <td>NaN</td>\n      <td>NaN</td>\n      <td>NaN</td>\n      <td>NaN</td>\n      <td>...</td>\n      <td>6</td>\n      <td>702</td>\n      <td>1029</td>\n      <td>NaN</td>\n      <td>NaN</td>\n      <td>NaN</td>\n      <td>NaN</td>\n      <td>NaN</td>\n      <td>NaN</td>\n      <td>NaN</td>\n    </tr>\n    <tr>\n      <th>2254</th>\n      <td>A189980</td>\n      <td>NaN</td>\n      <td>NaN</td>\n      <td>NaN</td>\n      <td>NaN</td>\n      <td>NaN</td>\n      <td>NaN</td>\n      <td>NaN</td>\n      <td>NaN</td>\n      <td>NaN</td>\n      <td>...</td>\n      <td>-7</td>\n      <td>649</td>\n      <td>937</td>\n      <td>NaN</td>\n      <td>NaN</td>\n      <td>NaN</td>\n      <td>NaN</td>\n      <td>NaN</td>\n      <td>NaN</td>\n      <td>NaN</td>\n    </tr>\n    <tr>\n      <th>2255</th>\n      <td>A003280</td>\n      <td>NaN</td>\n      <td>NaN</td>\n      <td>NaN</td>\n      <td>NaN</td>\n      <td>NaN</td>\n      <td>NaN</td>\n      <td>NaN</td>\n      <td>NaN</td>\n      <td>NaN</td>\n      <td>...</td>\n      <td>-159</td>\n      <td>242</td>\n      <td>3674</td>\n      <td>NaN</td>\n      <td>NaN</td>\n      <td>NaN</td>\n      <td>NaN</td>\n      <td>NaN</td>\n      <td>NaN</td>\n      <td>NaN</td>\n    </tr>\n    <tr>\n      <th>2256</th>\n      <td>A037440</td>\n      <td>NaN</td>\n      <td>NaN</td>\n      <td>NaN</td>\n      <td>NaN</td>\n      <td>NaN</td>\n      <td>NaN</td>\n      <td>NaN</td>\n      <td>NaN</td>\n      <td>NaN</td>\n      <td>...</td>\n      <td>101</td>\n      <td>546</td>\n      <td>1596</td>\n      <td>NaN</td>\n      <td>NaN</td>\n      <td>NaN</td>\n      <td>NaN</td>\n      <td>NaN</td>\n      <td>NaN</td>\n      <td>NaN</td>\n    </tr>\n    <tr>\n      <th>2257</th>\n      <td>A238490</td>\n      <td>NaN</td>\n      <td>NaN</td>\n      <td>NaN</td>\n      <td>NaN</td>\n      <td>NaN</td>\n      <td>NaN</td>\n      <td>NaN</td>\n      <td>NaN</td>\n      <td>NaN</td>\n      <td>...</td>\n      <td>NaN</td>\n      <td>NaN</td>\n      <td>NaN</td>\n      <td>NaN</td>\n      <td>NaN</td>\n      <td>NaN</td>\n      <td>NaN</td>\n      <td>NaN</td>\n      <td>NaN</td>\n      <td>NaN</td>\n    </tr>\n  </tbody>\n</table>\n<p>2258 rows × 260 columns</p>\n</div>"
     },
     "metadata": {},
     "execution_count": 168
    }
   ],
   "source": [
    "raw_data"
   ]
  },
  {
   "cell_type": "code",
   "execution_count": 169,
   "metadata": {},
   "outputs": [],
   "source": [
    "raw_data = raw_data.drop(0)"
   ]
  },
  {
   "cell_type": "code",
   "execution_count": 170,
   "metadata": {},
   "outputs": [],
   "source": [
    "fs_df = raw_data.drop(1)"
   ]
  },
  {
   "cell_type": "code",
   "execution_count": 171,
   "metadata": {},
   "outputs": [
    {
     "output_type": "execute_result",
     "data": {
      "text/plain": [
       "              2012/02                                       2013/02       ...  \\\n",
       "           종목   당기순이익  매출액   부채 영업이익 영업활동으로인한현금흐름   자본   자산   당기순이익  매출액  ...   \n",
       "2     A060310     NaN  NaN  NaN  NaN          NaN  NaN  NaN     NaN  NaN  ...   \n",
       "3     A095570     NaN  NaN  NaN  NaN          NaN  NaN  NaN     NaN  NaN  ...   \n",
       "4     A006840     NaN  NaN  NaN  NaN          NaN  NaN  NaN     NaN  NaN  ...   \n",
       "5     A054620     NaN  NaN  NaN  NaN          NaN  NaN  NaN     NaN  NaN  ...   \n",
       "6     A265520     NaN  NaN  NaN  NaN          NaN  NaN  NaN     NaN  NaN  ...   \n",
       "...       ...     ...  ...  ...  ...          ...  ...  ...     ...  ...  ...   \n",
       "2253  A010240     NaN  NaN  NaN  NaN          NaN  NaN  NaN     NaN  NaN  ...   \n",
       "2254  A189980     NaN  NaN  NaN  NaN          NaN  NaN  NaN     NaN  NaN  ...   \n",
       "2255  A003280     NaN  NaN  NaN  NaN          NaN  NaN  NaN     NaN  NaN  ...   \n",
       "2256  A037440     NaN  NaN  NaN  NaN          NaN  NaN  NaN     NaN  NaN  ...   \n",
       "2257  A238490     NaN  NaN  NaN  NaN          NaN  NaN  NaN     NaN  NaN  ...   \n",
       "\n",
       "          2020/06               2020/08                                        \n",
       "     영업활동으로인한현금흐름     자본     자산   당기순이익  매출액   부채 영업이익 영업활동으로인한현금흐름   자본   자산  \n",
       "2              -1    329    488     NaN  NaN  NaN  NaN          NaN  NaN  NaN  \n",
       "3            -267   3356  17784     NaN  NaN  NaN  NaN          NaN  NaN  NaN  \n",
       "4           -1801  12061  41396     NaN  NaN  NaN  NaN          NaN  NaN  NaN  \n",
       "5             -25   2073   2963     NaN  NaN  NaN  NaN          NaN  NaN  NaN  \n",
       "6              67   1264   4321     NaN  NaN  NaN  NaN          NaN  NaN  NaN  \n",
       "...           ...    ...    ...     ...  ...  ...  ...          ...  ...  ...  \n",
       "2253            6    702   1029     NaN  NaN  NaN  NaN          NaN  NaN  NaN  \n",
       "2254           -7    649    937     NaN  NaN  NaN  NaN          NaN  NaN  NaN  \n",
       "2255         -159    242   3674     NaN  NaN  NaN  NaN          NaN  NaN  NaN  \n",
       "2256          101    546   1596     NaN  NaN  NaN  NaN          NaN  NaN  NaN  \n",
       "2257          NaN    NaN    NaN     NaN  NaN  NaN  NaN          NaN  NaN  NaN  \n",
       "\n",
       "[2256 rows x 260 columns]"
      ],
      "text/html": "<div>\n<style scoped>\n    .dataframe tbody tr th:only-of-type {\n        vertical-align: middle;\n    }\n\n    .dataframe tbody tr th {\n        vertical-align: top;\n    }\n\n    .dataframe thead tr th {\n        text-align: left;\n    }\n</style>\n<table border=\"1\" class=\"dataframe\">\n  <thead>\n    <tr>\n      <th></th>\n      <th></th>\n      <th colspan=\"7\" halign=\"left\">2012/02</th>\n      <th colspan=\"2\" halign=\"left\">2013/02</th>\n      <th>...</th>\n      <th colspan=\"3\" halign=\"left\">2020/06</th>\n      <th colspan=\"7\" halign=\"left\">2020/08</th>\n    </tr>\n    <tr>\n      <th></th>\n      <th>종목</th>\n      <th>당기순이익</th>\n      <th>매출액</th>\n      <th>부채</th>\n      <th>영업이익</th>\n      <th>영업활동으로인한현금흐름</th>\n      <th>자본</th>\n      <th>자산</th>\n      <th>당기순이익</th>\n      <th>매출액</th>\n      <th>...</th>\n      <th>영업활동으로인한현금흐름</th>\n      <th>자본</th>\n      <th>자산</th>\n      <th>당기순이익</th>\n      <th>매출액</th>\n      <th>부채</th>\n      <th>영업이익</th>\n      <th>영업활동으로인한현금흐름</th>\n      <th>자본</th>\n      <th>자산</th>\n    </tr>\n  </thead>\n  <tbody>\n    <tr>\n      <th>2</th>\n      <td>A060310</td>\n      <td>NaN</td>\n      <td>NaN</td>\n      <td>NaN</td>\n      <td>NaN</td>\n      <td>NaN</td>\n      <td>NaN</td>\n      <td>NaN</td>\n      <td>NaN</td>\n      <td>NaN</td>\n      <td>...</td>\n      <td>-1</td>\n      <td>329</td>\n      <td>488</td>\n      <td>NaN</td>\n      <td>NaN</td>\n      <td>NaN</td>\n      <td>NaN</td>\n      <td>NaN</td>\n      <td>NaN</td>\n      <td>NaN</td>\n    </tr>\n    <tr>\n      <th>3</th>\n      <td>A095570</td>\n      <td>NaN</td>\n      <td>NaN</td>\n      <td>NaN</td>\n      <td>NaN</td>\n      <td>NaN</td>\n      <td>NaN</td>\n      <td>NaN</td>\n      <td>NaN</td>\n      <td>NaN</td>\n      <td>...</td>\n      <td>-267</td>\n      <td>3356</td>\n      <td>17784</td>\n      <td>NaN</td>\n      <td>NaN</td>\n      <td>NaN</td>\n      <td>NaN</td>\n      <td>NaN</td>\n      <td>NaN</td>\n      <td>NaN</td>\n    </tr>\n    <tr>\n      <th>4</th>\n      <td>A006840</td>\n      <td>NaN</td>\n      <td>NaN</td>\n      <td>NaN</td>\n      <td>NaN</td>\n      <td>NaN</td>\n      <td>NaN</td>\n      <td>NaN</td>\n      <td>NaN</td>\n      <td>NaN</td>\n      <td>...</td>\n      <td>-1801</td>\n      <td>12061</td>\n      <td>41396</td>\n      <td>NaN</td>\n      <td>NaN</td>\n      <td>NaN</td>\n      <td>NaN</td>\n      <td>NaN</td>\n      <td>NaN</td>\n      <td>NaN</td>\n    </tr>\n    <tr>\n      <th>5</th>\n      <td>A054620</td>\n      <td>NaN</td>\n      <td>NaN</td>\n      <td>NaN</td>\n      <td>NaN</td>\n      <td>NaN</td>\n      <td>NaN</td>\n      <td>NaN</td>\n      <td>NaN</td>\n      <td>NaN</td>\n      <td>...</td>\n      <td>-25</td>\n      <td>2073</td>\n      <td>2963</td>\n      <td>NaN</td>\n      <td>NaN</td>\n      <td>NaN</td>\n      <td>NaN</td>\n      <td>NaN</td>\n      <td>NaN</td>\n      <td>NaN</td>\n    </tr>\n    <tr>\n      <th>6</th>\n      <td>A265520</td>\n      <td>NaN</td>\n      <td>NaN</td>\n      <td>NaN</td>\n      <td>NaN</td>\n      <td>NaN</td>\n      <td>NaN</td>\n      <td>NaN</td>\n      <td>NaN</td>\n      <td>NaN</td>\n      <td>...</td>\n      <td>67</td>\n      <td>1264</td>\n      <td>4321</td>\n      <td>NaN</td>\n      <td>NaN</td>\n      <td>NaN</td>\n      <td>NaN</td>\n      <td>NaN</td>\n      <td>NaN</td>\n      <td>NaN</td>\n    </tr>\n    <tr>\n      <th>...</th>\n      <td>...</td>\n      <td>...</td>\n      <td>...</td>\n      <td>...</td>\n      <td>...</td>\n      <td>...</td>\n      <td>...</td>\n      <td>...</td>\n      <td>...</td>\n      <td>...</td>\n      <td>...</td>\n      <td>...</td>\n      <td>...</td>\n      <td>...</td>\n      <td>...</td>\n      <td>...</td>\n      <td>...</td>\n      <td>...</td>\n      <td>...</td>\n      <td>...</td>\n      <td>...</td>\n    </tr>\n    <tr>\n      <th>2253</th>\n      <td>A010240</td>\n      <td>NaN</td>\n      <td>NaN</td>\n      <td>NaN</td>\n      <td>NaN</td>\n      <td>NaN</td>\n      <td>NaN</td>\n      <td>NaN</td>\n      <td>NaN</td>\n      <td>NaN</td>\n      <td>...</td>\n      <td>6</td>\n      <td>702</td>\n      <td>1029</td>\n      <td>NaN</td>\n      <td>NaN</td>\n      <td>NaN</td>\n      <td>NaN</td>\n      <td>NaN</td>\n      <td>NaN</td>\n      <td>NaN</td>\n    </tr>\n    <tr>\n      <th>2254</th>\n      <td>A189980</td>\n      <td>NaN</td>\n      <td>NaN</td>\n      <td>NaN</td>\n      <td>NaN</td>\n      <td>NaN</td>\n      <td>NaN</td>\n      <td>NaN</td>\n      <td>NaN</td>\n      <td>NaN</td>\n      <td>...</td>\n      <td>-7</td>\n      <td>649</td>\n      <td>937</td>\n      <td>NaN</td>\n      <td>NaN</td>\n      <td>NaN</td>\n      <td>NaN</td>\n      <td>NaN</td>\n      <td>NaN</td>\n      <td>NaN</td>\n    </tr>\n    <tr>\n      <th>2255</th>\n      <td>A003280</td>\n      <td>NaN</td>\n      <td>NaN</td>\n      <td>NaN</td>\n      <td>NaN</td>\n      <td>NaN</td>\n      <td>NaN</td>\n      <td>NaN</td>\n      <td>NaN</td>\n      <td>NaN</td>\n      <td>...</td>\n      <td>-159</td>\n      <td>242</td>\n      <td>3674</td>\n      <td>NaN</td>\n      <td>NaN</td>\n      <td>NaN</td>\n      <td>NaN</td>\n      <td>NaN</td>\n      <td>NaN</td>\n      <td>NaN</td>\n    </tr>\n    <tr>\n      <th>2256</th>\n      <td>A037440</td>\n      <td>NaN</td>\n      <td>NaN</td>\n      <td>NaN</td>\n      <td>NaN</td>\n      <td>NaN</td>\n      <td>NaN</td>\n      <td>NaN</td>\n      <td>NaN</td>\n      <td>NaN</td>\n      <td>...</td>\n      <td>101</td>\n      <td>546</td>\n      <td>1596</td>\n      <td>NaN</td>\n      <td>NaN</td>\n      <td>NaN</td>\n      <td>NaN</td>\n      <td>NaN</td>\n      <td>NaN</td>\n      <td>NaN</td>\n    </tr>\n    <tr>\n      <th>2257</th>\n      <td>A238490</td>\n      <td>NaN</td>\n      <td>NaN</td>\n      <td>NaN</td>\n      <td>NaN</td>\n      <td>NaN</td>\n      <td>NaN</td>\n      <td>NaN</td>\n      <td>NaN</td>\n      <td>NaN</td>\n      <td>...</td>\n      <td>NaN</td>\n      <td>NaN</td>\n      <td>NaN</td>\n      <td>NaN</td>\n      <td>NaN</td>\n      <td>NaN</td>\n      <td>NaN</td>\n      <td>NaN</td>\n      <td>NaN</td>\n      <td>NaN</td>\n    </tr>\n  </tbody>\n</table>\n<p>2256 rows × 260 columns</p>\n</div>"
     },
     "metadata": {},
     "execution_count": 171
    }
   ],
   "source": [
    "fs_df"
   ]
  },
  {
   "cell_type": "code",
   "execution_count": 151,
   "metadata": {},
   "outputs": [
    {
     "output_type": "execute_result",
     "data": {
      "text/plain": [
       "Int64Index([   2,    3,    4,    5,    6,    7,    8,    9,   10,   11,\n",
       "            ...\n",
       "            2248, 2249, 2250, 2251, 2252, 2253, 2254, 2255, 2256, 2257],\n",
       "           dtype='int64', length=2256)"
      ]
     },
     "metadata": {},
     "execution_count": 151
    }
   ],
   "source": [
    "fs_df.index"
   ]
  },
  {
   "cell_type": "code",
   "execution_count": 245,
   "metadata": {},
   "outputs": [],
   "source": [
    "def get_finance_data(path):\n",
    "    data_path = path\n",
    "    raw_data = pd.read_excel(data_path)\n",
    "    big_col = list(raw_data.columns)\n",
    "    small_col = list(raw_data.iloc[0])\n",
    "    \n",
    "    big_col[0] = '종목'\n",
    "    small_col[0] = ''\n",
    "    new_big_col = []\n",
    "    for num, col in enumerate(big_col):\n",
    "        if 'Unnamed' in col:\n",
    "            new_big_col.append(new_big_col[num-1])\n",
    "        else:\n",
    "            new_big_col.append(big_col[num])\n",
    "\n",
    "    raw_data.columns = [new_big_col, small_col]\n",
    "    raw_data = raw_data.drop(0)\n",
    "    clean_df = raw_data.drop(1)\n",
    "\n",
    "    return clean_df"
   ]
  },
  {
   "cell_type": "code",
   "execution_count": 270,
   "metadata": {},
   "outputs": [],
   "source": [
    "#데이터 전처리 개선\n",
    "def get_finance_data(path):\n",
    "    data_path = path\n",
    "    raw_data = pd.read_excel(data_path)\n",
    "    big_col = list(raw_data.columns)\n",
    "    small_col = list(raw_data.iloc[0])\n",
    "    \n",
    "    big_col[0] = '종목'\n",
    "    small_col[0] = ''\n",
    "    new_big_col = []\n",
    "    for num, col in enumerate(big_col):\n",
    "        if 'Unnamed' in col:\n",
    "            new_big_col.append(new_big_col[num-1])\n",
    "        else:\n",
    "            new_big_col.append(big_col[num])\n",
    "\n",
    "    raw_data.columns = [new_big_col, small_col]\n",
    "    raw_data = raw_data.drop(0)\n",
    "    clean_df = raw_data.drop(1)\n",
    "\n",
    "    if clean_df.index[0]  == clean_df['종목'][2]:\n",
    "         pass\n",
    "    else:\n",
    "        for i in clean_df.index:\n",
    "            clean_df = clean_df.rename(index={i : clean_df['종목'][i]})\n",
    "\n",
    "    clean_df = clean_df.drop(clean_df.columns[0:1], axis=1, inplace=False)\n",
    "\n",
    "    return clean_df"
   ]
  },
  {
   "cell_type": "code",
   "execution_count": 397,
   "metadata": {},
   "outputs": [],
   "source": [
    "fs_path = r'C:\\Users\\gjals\\Desktop\\코딩\\재무데이터.xlsx'\n",
    "fs_df = get_finance_data(fs_path)"
   ]
  },
  {
   "cell_type": "code",
   "execution_count": 273,
   "metadata": {},
   "outputs": [],
   "source": [
    "fr_path = r'C:\\Users\\gjals\\Desktop\\코딩\\재무비율데이터.xlsx'\n",
    "fr_df = get_finance_data(fr_path)"
   ]
  },
  {
   "cell_type": "code",
   "execution_count": 274,
   "metadata": {},
   "outputs": [],
   "source": [
    "invest_path = r'C:\\Users\\gjals\\Desktop\\코딩\\투자지표데이터.xlsx'\n",
    "invest_df = get_finance_data(invest_path)"
   ]
  },
  {
   "cell_type": "code",
   "execution_count": 275,
   "metadata": {},
   "outputs": [
    {
     "output_type": "execute_result",
     "data": {
      "text/plain": [
       "        2011/02                      2012/02                       ...  \\\n",
       "            PBR  PCR  PER  PSR 총현금흐름     PBR  PCR  PER  PSR 총현금흐름  ...   \n",
       "A030960     NaN  NaN  NaN  NaN   NaN     NaN  NaN  NaN  NaN   NaN  ...   \n",
       "A021820     NaN  NaN  NaN  NaN   NaN     NaN  NaN  NaN  NaN   NaN  ...   \n",
       "A189690     NaN  NaN  NaN  NaN   NaN     NaN  NaN  NaN  NaN   NaN  ...   \n",
       "A178600     NaN  NaN  NaN  NaN   NaN     NaN  NaN  NaN  NaN   NaN  ...   \n",
       "A097870     NaN  NaN  NaN  NaN   NaN     NaN  NaN  NaN  NaN   NaN  ...   \n",
       "...         ...  ...  ...  ...   ...     ...  ...  ...  ...   ...  ...   \n",
       "A010240     NaN  NaN  NaN  NaN   NaN     NaN  NaN  NaN  NaN   NaN  ...   \n",
       "A189980     NaN  NaN  NaN  NaN   NaN     NaN  NaN  NaN  NaN   NaN  ...   \n",
       "A003280     NaN  NaN  NaN  NaN   NaN     NaN  NaN  NaN  NaN   NaN  ...   \n",
       "A037440     NaN  NaN  NaN  NaN   NaN     NaN  NaN  NaN  NaN   NaN  ...   \n",
       "A238490     NaN  NaN  NaN  NaN   NaN     NaN  NaN  NaN  NaN   NaN  ...   \n",
       "\n",
       "        2020/06                           2020/08                       \n",
       "            PBR    PCR    PER   PSR 총현금흐름     PBR  PCR  PER  PSR 총현금흐름  \n",
       "A030960    0.81   1.25   1.28  3.16    36     NaN  NaN  NaN  NaN   NaN  \n",
       "A021820    0.19   2.30  10.65  0.52   214     NaN  NaN  NaN  NaN   NaN  \n",
       "A189690    1.09  10.74  11.99  2.83    49     NaN  NaN  NaN  NaN   NaN  \n",
       "A178600    1.53   9.39  16.68  0.61    47     NaN  NaN  NaN  NaN   NaN  \n",
       "A097870    0.79  18.13  34.07  1.85    31     NaN  NaN  NaN  NaN   NaN  \n",
       "...         ...    ...    ...   ...   ...     ...  ...  ...  ...   ...  \n",
       "A010240    0.68    NaN    NaN   NaN    74     NaN  NaN  NaN  NaN   NaN  \n",
       "A189980    0.89    NaN    NaN   NaN    36     NaN  NaN  NaN  NaN   NaN  \n",
       "A003280    1.18    NaN    NaN   NaN    40     NaN  NaN  NaN  NaN   NaN  \n",
       "A037440    0.83    NaN    NaN   NaN    36     NaN  NaN  NaN  NaN   NaN  \n",
       "A238490     NaN    NaN    NaN   NaN   NaN     NaN  NaN  NaN  NaN   NaN  \n",
       "\n",
       "[2256 rows x 240 columns]"
      ],
      "text/html": "<div>\n<style scoped>\n    .dataframe tbody tr th:only-of-type {\n        vertical-align: middle;\n    }\n\n    .dataframe tbody tr th {\n        vertical-align: top;\n    }\n\n    .dataframe thead tr th {\n        text-align: left;\n    }\n</style>\n<table border=\"1\" class=\"dataframe\">\n  <thead>\n    <tr>\n      <th></th>\n      <th colspan=\"5\" halign=\"left\">2011/02</th>\n      <th colspan=\"5\" halign=\"left\">2012/02</th>\n      <th>...</th>\n      <th colspan=\"5\" halign=\"left\">2020/06</th>\n      <th colspan=\"5\" halign=\"left\">2020/08</th>\n    </tr>\n    <tr>\n      <th></th>\n      <th>PBR</th>\n      <th>PCR</th>\n      <th>PER</th>\n      <th>PSR</th>\n      <th>총현금흐름</th>\n      <th>PBR</th>\n      <th>PCR</th>\n      <th>PER</th>\n      <th>PSR</th>\n      <th>총현금흐름</th>\n      <th>...</th>\n      <th>PBR</th>\n      <th>PCR</th>\n      <th>PER</th>\n      <th>PSR</th>\n      <th>총현금흐름</th>\n      <th>PBR</th>\n      <th>PCR</th>\n      <th>PER</th>\n      <th>PSR</th>\n      <th>총현금흐름</th>\n    </tr>\n  </thead>\n  <tbody>\n    <tr>\n      <th>A030960</th>\n      <td>NaN</td>\n      <td>NaN</td>\n      <td>NaN</td>\n      <td>NaN</td>\n      <td>NaN</td>\n      <td>NaN</td>\n      <td>NaN</td>\n      <td>NaN</td>\n      <td>NaN</td>\n      <td>NaN</td>\n      <td>...</td>\n      <td>0.81</td>\n      <td>1.25</td>\n      <td>1.28</td>\n      <td>3.16</td>\n      <td>36</td>\n      <td>NaN</td>\n      <td>NaN</td>\n      <td>NaN</td>\n      <td>NaN</td>\n      <td>NaN</td>\n    </tr>\n    <tr>\n      <th>A021820</th>\n      <td>NaN</td>\n      <td>NaN</td>\n      <td>NaN</td>\n      <td>NaN</td>\n      <td>NaN</td>\n      <td>NaN</td>\n      <td>NaN</td>\n      <td>NaN</td>\n      <td>NaN</td>\n      <td>NaN</td>\n      <td>...</td>\n      <td>0.19</td>\n      <td>2.30</td>\n      <td>10.65</td>\n      <td>0.52</td>\n      <td>214</td>\n      <td>NaN</td>\n      <td>NaN</td>\n      <td>NaN</td>\n      <td>NaN</td>\n      <td>NaN</td>\n    </tr>\n    <tr>\n      <th>A189690</th>\n      <td>NaN</td>\n      <td>NaN</td>\n      <td>NaN</td>\n      <td>NaN</td>\n      <td>NaN</td>\n      <td>NaN</td>\n      <td>NaN</td>\n      <td>NaN</td>\n      <td>NaN</td>\n      <td>NaN</td>\n      <td>...</td>\n      <td>1.09</td>\n      <td>10.74</td>\n      <td>11.99</td>\n      <td>2.83</td>\n      <td>49</td>\n      <td>NaN</td>\n      <td>NaN</td>\n      <td>NaN</td>\n      <td>NaN</td>\n      <td>NaN</td>\n    </tr>\n    <tr>\n      <th>A178600</th>\n      <td>NaN</td>\n      <td>NaN</td>\n      <td>NaN</td>\n      <td>NaN</td>\n      <td>NaN</td>\n      <td>NaN</td>\n      <td>NaN</td>\n      <td>NaN</td>\n      <td>NaN</td>\n      <td>NaN</td>\n      <td>...</td>\n      <td>1.53</td>\n      <td>9.39</td>\n      <td>16.68</td>\n      <td>0.61</td>\n      <td>47</td>\n      <td>NaN</td>\n      <td>NaN</td>\n      <td>NaN</td>\n      <td>NaN</td>\n      <td>NaN</td>\n    </tr>\n    <tr>\n      <th>A097870</th>\n      <td>NaN</td>\n      <td>NaN</td>\n      <td>NaN</td>\n      <td>NaN</td>\n      <td>NaN</td>\n      <td>NaN</td>\n      <td>NaN</td>\n      <td>NaN</td>\n      <td>NaN</td>\n      <td>NaN</td>\n      <td>...</td>\n      <td>0.79</td>\n      <td>18.13</td>\n      <td>34.07</td>\n      <td>1.85</td>\n      <td>31</td>\n      <td>NaN</td>\n      <td>NaN</td>\n      <td>NaN</td>\n      <td>NaN</td>\n      <td>NaN</td>\n    </tr>\n    <tr>\n      <th>...</th>\n      <td>...</td>\n      <td>...</td>\n      <td>...</td>\n      <td>...</td>\n      <td>...</td>\n      <td>...</td>\n      <td>...</td>\n      <td>...</td>\n      <td>...</td>\n      <td>...</td>\n      <td>...</td>\n      <td>...</td>\n      <td>...</td>\n      <td>...</td>\n      <td>...</td>\n      <td>...</td>\n      <td>...</td>\n      <td>...</td>\n      <td>...</td>\n      <td>...</td>\n      <td>...</td>\n    </tr>\n    <tr>\n      <th>A010240</th>\n      <td>NaN</td>\n      <td>NaN</td>\n      <td>NaN</td>\n      <td>NaN</td>\n      <td>NaN</td>\n      <td>NaN</td>\n      <td>NaN</td>\n      <td>NaN</td>\n      <td>NaN</td>\n      <td>NaN</td>\n      <td>...</td>\n      <td>0.68</td>\n      <td>NaN</td>\n      <td>NaN</td>\n      <td>NaN</td>\n      <td>74</td>\n      <td>NaN</td>\n      <td>NaN</td>\n      <td>NaN</td>\n      <td>NaN</td>\n      <td>NaN</td>\n    </tr>\n    <tr>\n      <th>A189980</th>\n      <td>NaN</td>\n      <td>NaN</td>\n      <td>NaN</td>\n      <td>NaN</td>\n      <td>NaN</td>\n      <td>NaN</td>\n      <td>NaN</td>\n      <td>NaN</td>\n      <td>NaN</td>\n      <td>NaN</td>\n      <td>...</td>\n      <td>0.89</td>\n      <td>NaN</td>\n      <td>NaN</td>\n      <td>NaN</td>\n      <td>36</td>\n      <td>NaN</td>\n      <td>NaN</td>\n      <td>NaN</td>\n      <td>NaN</td>\n      <td>NaN</td>\n    </tr>\n    <tr>\n      <th>A003280</th>\n      <td>NaN</td>\n      <td>NaN</td>\n      <td>NaN</td>\n      <td>NaN</td>\n      <td>NaN</td>\n      <td>NaN</td>\n      <td>NaN</td>\n      <td>NaN</td>\n      <td>NaN</td>\n      <td>NaN</td>\n      <td>...</td>\n      <td>1.18</td>\n      <td>NaN</td>\n      <td>NaN</td>\n      <td>NaN</td>\n      <td>40</td>\n      <td>NaN</td>\n      <td>NaN</td>\n      <td>NaN</td>\n      <td>NaN</td>\n      <td>NaN</td>\n    </tr>\n    <tr>\n      <th>A037440</th>\n      <td>NaN</td>\n      <td>NaN</td>\n      <td>NaN</td>\n      <td>NaN</td>\n      <td>NaN</td>\n      <td>NaN</td>\n      <td>NaN</td>\n      <td>NaN</td>\n      <td>NaN</td>\n      <td>NaN</td>\n      <td>...</td>\n      <td>0.83</td>\n      <td>NaN</td>\n      <td>NaN</td>\n      <td>NaN</td>\n      <td>36</td>\n      <td>NaN</td>\n      <td>NaN</td>\n      <td>NaN</td>\n      <td>NaN</td>\n      <td>NaN</td>\n    </tr>\n    <tr>\n      <th>A238490</th>\n      <td>NaN</td>\n      <td>NaN</td>\n      <td>NaN</td>\n      <td>NaN</td>\n      <td>NaN</td>\n      <td>NaN</td>\n      <td>NaN</td>\n      <td>NaN</td>\n      <td>NaN</td>\n      <td>NaN</td>\n      <td>...</td>\n      <td>NaN</td>\n      <td>NaN</td>\n      <td>NaN</td>\n      <td>NaN</td>\n      <td>NaN</td>\n      <td>NaN</td>\n      <td>NaN</td>\n      <td>NaN</td>\n      <td>NaN</td>\n      <td>NaN</td>\n    </tr>\n  </tbody>\n</table>\n<p>2256 rows × 240 columns</p>\n</div>"
     },
     "metadata": {},
     "execution_count": 275
    }
   ],
   "source": [
    "invest_df.sort_values(by=('2020/06', 'PER'))"
   ]
  },
  {
   "cell_type": "code",
   "execution_count": 278,
   "metadata": {},
   "outputs": [],
   "source": [
    "invest_df[('2016/12', 'PER')] = pd.to_numeric(invest_df[('2016/12', 'PER')]) #tonumeric 해당 칼럼전체를 숫자형으로 바꿔 덮어 씌움\n",
    "per_sorted = invest_df.sort_values(by=('2016/12', 'PER'))"
   ]
  },
  {
   "cell_type": "code",
   "execution_count": 279,
   "metadata": {},
   "outputs": [
    {
     "output_type": "execute_result",
     "data": {
      "text/plain": [
       "        2011/02                      2012/02                       ...  \\\n",
       "            PBR  PCR  PER  PSR 총현금흐름     PBR  PCR  PER  PSR 총현금흐름  ...   \n",
       "A001470     NaN  NaN  NaN  NaN   NaN     NaN  NaN  NaN  NaN   NaN  ...   \n",
       "A064520     NaN  NaN  NaN  NaN   NaN     NaN  NaN  NaN  NaN   NaN  ...   \n",
       "A151910     NaN  NaN  NaN  NaN   NaN     NaN  NaN  NaN  NaN   NaN  ...   \n",
       "A084110     NaN  NaN  NaN  NaN   NaN     NaN  NaN  NaN  NaN   NaN  ...   \n",
       "A032940     NaN  NaN  NaN  NaN   NaN     NaN  NaN  NaN  NaN   NaN  ...   \n",
       "...         ...  ...  ...  ...   ...     ...  ...  ...  ...   ...  ...   \n",
       "A028080     NaN  NaN  NaN  NaN   NaN     NaN  NaN  NaN  NaN   NaN  ...   \n",
       "A212310     NaN  NaN  NaN  NaN   NaN     NaN  NaN  NaN  NaN   NaN  ...   \n",
       "A005010     NaN  NaN  NaN  NaN   NaN     NaN  NaN  NaN  NaN   NaN  ...   \n",
       "A003280     NaN  NaN  NaN  NaN   NaN     NaN  NaN  NaN  NaN   NaN  ...   \n",
       "A238490     NaN  NaN  NaN  NaN   NaN     NaN  NaN  NaN  NaN   NaN  ...   \n",
       "\n",
       "        2020/06                      2020/08                       \n",
       "            PBR  PCR  PER  PSR 총현금흐름     PBR  PCR  PER  PSR 총현금흐름  \n",
       "A001470    0.43  NaN  NaN  NaN    34     NaN  NaN  NaN  NaN   NaN  \n",
       "A064520    1.91  NaN  NaN  NaN    -5     NaN  NaN  NaN  NaN   NaN  \n",
       "A151910   13.19  NaN  NaN  NaN    29     NaN  NaN  NaN  NaN   NaN  \n",
       "A084110    0.91  NaN  NaN  NaN   438     NaN  NaN  NaN  NaN   NaN  \n",
       "A032940    0.62  NaN  NaN  NaN    61     NaN  NaN  NaN  NaN   NaN  \n",
       "...         ...  ...  ...  ...   ...     ...  ...  ...  ...   ...  \n",
       "A028080    0.23  NaN  NaN  NaN  -175     NaN  NaN  NaN  NaN   NaN  \n",
       "A212310     NaN  NaN  NaN  NaN   NaN     NaN  NaN  NaN  NaN   NaN  \n",
       "A005010    0.13  NaN  NaN  NaN    24     NaN  NaN  NaN  NaN   NaN  \n",
       "A003280    1.18  NaN  NaN  NaN    40     NaN  NaN  NaN  NaN   NaN  \n",
       "A238490     NaN  NaN  NaN  NaN   NaN     NaN  NaN  NaN  NaN   NaN  \n",
       "\n",
       "[2256 rows x 240 columns]"
      ],
      "text/html": "<div>\n<style scoped>\n    .dataframe tbody tr th:only-of-type {\n        vertical-align: middle;\n    }\n\n    .dataframe tbody tr th {\n        vertical-align: top;\n    }\n\n    .dataframe thead tr th {\n        text-align: left;\n    }\n</style>\n<table border=\"1\" class=\"dataframe\">\n  <thead>\n    <tr>\n      <th></th>\n      <th colspan=\"5\" halign=\"left\">2011/02</th>\n      <th colspan=\"5\" halign=\"left\">2012/02</th>\n      <th>...</th>\n      <th colspan=\"5\" halign=\"left\">2020/06</th>\n      <th colspan=\"5\" halign=\"left\">2020/08</th>\n    </tr>\n    <tr>\n      <th></th>\n      <th>PBR</th>\n      <th>PCR</th>\n      <th>PER</th>\n      <th>PSR</th>\n      <th>총현금흐름</th>\n      <th>PBR</th>\n      <th>PCR</th>\n      <th>PER</th>\n      <th>PSR</th>\n      <th>총현금흐름</th>\n      <th>...</th>\n      <th>PBR</th>\n      <th>PCR</th>\n      <th>PER</th>\n      <th>PSR</th>\n      <th>총현금흐름</th>\n      <th>PBR</th>\n      <th>PCR</th>\n      <th>PER</th>\n      <th>PSR</th>\n      <th>총현금흐름</th>\n    </tr>\n  </thead>\n  <tbody>\n    <tr>\n      <th>A001470</th>\n      <td>NaN</td>\n      <td>NaN</td>\n      <td>NaN</td>\n      <td>NaN</td>\n      <td>NaN</td>\n      <td>NaN</td>\n      <td>NaN</td>\n      <td>NaN</td>\n      <td>NaN</td>\n      <td>NaN</td>\n      <td>...</td>\n      <td>0.43</td>\n      <td>NaN</td>\n      <td>NaN</td>\n      <td>NaN</td>\n      <td>34</td>\n      <td>NaN</td>\n      <td>NaN</td>\n      <td>NaN</td>\n      <td>NaN</td>\n      <td>NaN</td>\n    </tr>\n    <tr>\n      <th>A064520</th>\n      <td>NaN</td>\n      <td>NaN</td>\n      <td>NaN</td>\n      <td>NaN</td>\n      <td>NaN</td>\n      <td>NaN</td>\n      <td>NaN</td>\n      <td>NaN</td>\n      <td>NaN</td>\n      <td>NaN</td>\n      <td>...</td>\n      <td>1.91</td>\n      <td>NaN</td>\n      <td>NaN</td>\n      <td>NaN</td>\n      <td>-5</td>\n      <td>NaN</td>\n      <td>NaN</td>\n      <td>NaN</td>\n      <td>NaN</td>\n      <td>NaN</td>\n    </tr>\n    <tr>\n      <th>A151910</th>\n      <td>NaN</td>\n      <td>NaN</td>\n      <td>NaN</td>\n      <td>NaN</td>\n      <td>NaN</td>\n      <td>NaN</td>\n      <td>NaN</td>\n      <td>NaN</td>\n      <td>NaN</td>\n      <td>NaN</td>\n      <td>...</td>\n      <td>13.19</td>\n      <td>NaN</td>\n      <td>NaN</td>\n      <td>NaN</td>\n      <td>29</td>\n      <td>NaN</td>\n      <td>NaN</td>\n      <td>NaN</td>\n      <td>NaN</td>\n      <td>NaN</td>\n    </tr>\n    <tr>\n      <th>A084110</th>\n      <td>NaN</td>\n      <td>NaN</td>\n      <td>NaN</td>\n      <td>NaN</td>\n      <td>NaN</td>\n      <td>NaN</td>\n      <td>NaN</td>\n      <td>NaN</td>\n      <td>NaN</td>\n      <td>NaN</td>\n      <td>...</td>\n      <td>0.91</td>\n      <td>NaN</td>\n      <td>NaN</td>\n      <td>NaN</td>\n      <td>438</td>\n      <td>NaN</td>\n      <td>NaN</td>\n      <td>NaN</td>\n      <td>NaN</td>\n      <td>NaN</td>\n    </tr>\n    <tr>\n      <th>A032940</th>\n      <td>NaN</td>\n      <td>NaN</td>\n      <td>NaN</td>\n      <td>NaN</td>\n      <td>NaN</td>\n      <td>NaN</td>\n      <td>NaN</td>\n      <td>NaN</td>\n      <td>NaN</td>\n      <td>NaN</td>\n      <td>...</td>\n      <td>0.62</td>\n      <td>NaN</td>\n      <td>NaN</td>\n      <td>NaN</td>\n      <td>61</td>\n      <td>NaN</td>\n      <td>NaN</td>\n      <td>NaN</td>\n      <td>NaN</td>\n      <td>NaN</td>\n    </tr>\n    <tr>\n      <th>...</th>\n      <td>...</td>\n      <td>...</td>\n      <td>...</td>\n      <td>...</td>\n      <td>...</td>\n      <td>...</td>\n      <td>...</td>\n      <td>...</td>\n      <td>...</td>\n      <td>...</td>\n      <td>...</td>\n      <td>...</td>\n      <td>...</td>\n      <td>...</td>\n      <td>...</td>\n      <td>...</td>\n      <td>...</td>\n      <td>...</td>\n      <td>...</td>\n      <td>...</td>\n      <td>...</td>\n    </tr>\n    <tr>\n      <th>A028080</th>\n      <td>NaN</td>\n      <td>NaN</td>\n      <td>NaN</td>\n      <td>NaN</td>\n      <td>NaN</td>\n      <td>NaN</td>\n      <td>NaN</td>\n      <td>NaN</td>\n      <td>NaN</td>\n      <td>NaN</td>\n      <td>...</td>\n      <td>0.23</td>\n      <td>NaN</td>\n      <td>NaN</td>\n      <td>NaN</td>\n      <td>-175</td>\n      <td>NaN</td>\n      <td>NaN</td>\n      <td>NaN</td>\n      <td>NaN</td>\n      <td>NaN</td>\n    </tr>\n    <tr>\n      <th>A212310</th>\n      <td>NaN</td>\n      <td>NaN</td>\n      <td>NaN</td>\n      <td>NaN</td>\n      <td>NaN</td>\n      <td>NaN</td>\n      <td>NaN</td>\n      <td>NaN</td>\n      <td>NaN</td>\n      <td>NaN</td>\n      <td>...</td>\n      <td>NaN</td>\n      <td>NaN</td>\n      <td>NaN</td>\n      <td>NaN</td>\n      <td>NaN</td>\n      <td>NaN</td>\n      <td>NaN</td>\n      <td>NaN</td>\n      <td>NaN</td>\n      <td>NaN</td>\n    </tr>\n    <tr>\n      <th>A005010</th>\n      <td>NaN</td>\n      <td>NaN</td>\n      <td>NaN</td>\n      <td>NaN</td>\n      <td>NaN</td>\n      <td>NaN</td>\n      <td>NaN</td>\n      <td>NaN</td>\n      <td>NaN</td>\n      <td>NaN</td>\n      <td>...</td>\n      <td>0.13</td>\n      <td>NaN</td>\n      <td>NaN</td>\n      <td>NaN</td>\n      <td>24</td>\n      <td>NaN</td>\n      <td>NaN</td>\n      <td>NaN</td>\n      <td>NaN</td>\n      <td>NaN</td>\n    </tr>\n    <tr>\n      <th>A003280</th>\n      <td>NaN</td>\n      <td>NaN</td>\n      <td>NaN</td>\n      <td>NaN</td>\n      <td>NaN</td>\n      <td>NaN</td>\n      <td>NaN</td>\n      <td>NaN</td>\n      <td>NaN</td>\n      <td>NaN</td>\n      <td>...</td>\n      <td>1.18</td>\n      <td>NaN</td>\n      <td>NaN</td>\n      <td>NaN</td>\n      <td>40</td>\n      <td>NaN</td>\n      <td>NaN</td>\n      <td>NaN</td>\n      <td>NaN</td>\n      <td>NaN</td>\n    </tr>\n    <tr>\n      <th>A238490</th>\n      <td>NaN</td>\n      <td>NaN</td>\n      <td>NaN</td>\n      <td>NaN</td>\n      <td>NaN</td>\n      <td>NaN</td>\n      <td>NaN</td>\n      <td>NaN</td>\n      <td>NaN</td>\n      <td>NaN</td>\n      <td>...</td>\n      <td>NaN</td>\n      <td>NaN</td>\n      <td>NaN</td>\n      <td>NaN</td>\n      <td>NaN</td>\n      <td>NaN</td>\n      <td>NaN</td>\n      <td>NaN</td>\n      <td>NaN</td>\n      <td>NaN</td>\n    </tr>\n  </tbody>\n</table>\n<p>2256 rows × 240 columns</p>\n</div>"
     },
     "metadata": {},
     "execution_count": 279
    }
   ],
   "source": [
    "per_sorted"
   ]
  },
  {
   "cell_type": "code",
   "execution_count": 280,
   "metadata": {},
   "outputs": [
    {
     "output_type": "execute_result",
     "data": {
      "text/plain": [
       "           PBR  PCR  PER  PSR 총현금흐름\n",
       "A001470   0.43  NaN  NaN  NaN    34\n",
       "A064520   1.91  NaN  NaN  NaN    -5\n",
       "A151910  13.19  NaN  NaN  NaN    29\n",
       "A084110   0.91  NaN  NaN  NaN   438\n",
       "A032940   0.62  NaN  NaN  NaN    61\n",
       "...        ...  ...  ...  ...   ...\n",
       "A028080   0.23  NaN  NaN  NaN  -175\n",
       "A212310    NaN  NaN  NaN  NaN   NaN\n",
       "A005010   0.13  NaN  NaN  NaN    24\n",
       "A003280   1.18  NaN  NaN  NaN    40\n",
       "A238490    NaN  NaN  NaN  NaN   NaN\n",
       "\n",
       "[2256 rows x 5 columns]"
      ],
      "text/html": "<div>\n<style scoped>\n    .dataframe tbody tr th:only-of-type {\n        vertical-align: middle;\n    }\n\n    .dataframe tbody tr th {\n        vertical-align: top;\n    }\n\n    .dataframe thead th {\n        text-align: right;\n    }\n</style>\n<table border=\"1\" class=\"dataframe\">\n  <thead>\n    <tr style=\"text-align: right;\">\n      <th></th>\n      <th>PBR</th>\n      <th>PCR</th>\n      <th>PER</th>\n      <th>PSR</th>\n      <th>총현금흐름</th>\n    </tr>\n  </thead>\n  <tbody>\n    <tr>\n      <th>A001470</th>\n      <td>0.43</td>\n      <td>NaN</td>\n      <td>NaN</td>\n      <td>NaN</td>\n      <td>34</td>\n    </tr>\n    <tr>\n      <th>A064520</th>\n      <td>1.91</td>\n      <td>NaN</td>\n      <td>NaN</td>\n      <td>NaN</td>\n      <td>-5</td>\n    </tr>\n    <tr>\n      <th>A151910</th>\n      <td>13.19</td>\n      <td>NaN</td>\n      <td>NaN</td>\n      <td>NaN</td>\n      <td>29</td>\n    </tr>\n    <tr>\n      <th>A084110</th>\n      <td>0.91</td>\n      <td>NaN</td>\n      <td>NaN</td>\n      <td>NaN</td>\n      <td>438</td>\n    </tr>\n    <tr>\n      <th>A032940</th>\n      <td>0.62</td>\n      <td>NaN</td>\n      <td>NaN</td>\n      <td>NaN</td>\n      <td>61</td>\n    </tr>\n    <tr>\n      <th>...</th>\n      <td>...</td>\n      <td>...</td>\n      <td>...</td>\n      <td>...</td>\n      <td>...</td>\n    </tr>\n    <tr>\n      <th>A028080</th>\n      <td>0.23</td>\n      <td>NaN</td>\n      <td>NaN</td>\n      <td>NaN</td>\n      <td>-175</td>\n    </tr>\n    <tr>\n      <th>A212310</th>\n      <td>NaN</td>\n      <td>NaN</td>\n      <td>NaN</td>\n      <td>NaN</td>\n      <td>NaN</td>\n    </tr>\n    <tr>\n      <th>A005010</th>\n      <td>0.13</td>\n      <td>NaN</td>\n      <td>NaN</td>\n      <td>NaN</td>\n      <td>24</td>\n    </tr>\n    <tr>\n      <th>A003280</th>\n      <td>1.18</td>\n      <td>NaN</td>\n      <td>NaN</td>\n      <td>NaN</td>\n      <td>40</td>\n    </tr>\n    <tr>\n      <th>A238490</th>\n      <td>NaN</td>\n      <td>NaN</td>\n      <td>NaN</td>\n      <td>NaN</td>\n      <td>NaN</td>\n    </tr>\n  </tbody>\n</table>\n<p>2256 rows × 5 columns</p>\n</div>"
     },
     "metadata": {},
     "execution_count": 280
    }
   ],
   "source": [
    "per_sorted['2020/06']"
   ]
  },
  {
   "cell_type": "code",
   "execution_count": 282,
   "metadata": {},
   "outputs": [
    {
     "output_type": "error",
     "ename": "ValueError",
     "evalue": "Unable to parse string \"N/A(IFRS)\" at position 258",
     "traceback": [
      "\u001b[1;31m---------------------------------------------------------------------------\u001b[0m",
      "\u001b[1;31mValueError\u001b[0m                                Traceback (most recent call last)",
      "\u001b[1;32mpandas\\_libs\\lib.pyx\u001b[0m in \u001b[0;36mpandas._libs.lib.maybe_convert_numeric\u001b[1;34m()\u001b[0m\n",
      "\u001b[1;31mValueError\u001b[0m: Unable to parse string \"N/A(IFRS)\"",
      "\nDuring handling of the above exception, another exception occurred:\n",
      "\u001b[1;31mValueError\u001b[0m                                Traceback (most recent call last)",
      "\u001b[1;32m<ipython-input-282-ac1dc9219c67>\u001b[0m in \u001b[0;36m<module>\u001b[1;34m\u001b[0m\n\u001b[1;32m----> 1\u001b[1;33m \u001b[0mfr_df\u001b[0m\u001b[1;33m[\u001b[0m\u001b[1;33m(\u001b[0m\u001b[1;34m'2016/12'\u001b[0m\u001b[1;33m,\u001b[0m \u001b[1;34m'ROA'\u001b[0m\u001b[1;33m)\u001b[0m\u001b[1;33m]\u001b[0m \u001b[1;33m=\u001b[0m \u001b[0mpd\u001b[0m\u001b[1;33m.\u001b[0m\u001b[0mto_numeric\u001b[0m\u001b[1;33m(\u001b[0m\u001b[0mfr_df\u001b[0m\u001b[1;33m[\u001b[0m\u001b[1;33m(\u001b[0m\u001b[1;34m'2016/12'\u001b[0m\u001b[1;33m,\u001b[0m \u001b[1;34m'ROA'\u001b[0m\u001b[1;33m)\u001b[0m\u001b[1;33m]\u001b[0m\u001b[1;33m)\u001b[0m\u001b[1;33m\u001b[0m\u001b[1;33m\u001b[0m\u001b[0m\n\u001b[0m",
      "\u001b[1;32m~\\anaconda3\\lib\\site-packages\\pandas\\core\\tools\\numeric.py\u001b[0m in \u001b[0;36mto_numeric\u001b[1;34m(arg, errors, downcast)\u001b[0m\n\u001b[0;32m    147\u001b[0m         \u001b[0mcoerce_numeric\u001b[0m \u001b[1;33m=\u001b[0m \u001b[0merrors\u001b[0m \u001b[1;32mnot\u001b[0m \u001b[1;32min\u001b[0m \u001b[1;33m(\u001b[0m\u001b[1;34m\"ignore\"\u001b[0m\u001b[1;33m,\u001b[0m \u001b[1;34m\"raise\"\u001b[0m\u001b[1;33m)\u001b[0m\u001b[1;33m\u001b[0m\u001b[1;33m\u001b[0m\u001b[0m\n\u001b[0;32m    148\u001b[0m         \u001b[1;32mtry\u001b[0m\u001b[1;33m:\u001b[0m\u001b[1;33m\u001b[0m\u001b[1;33m\u001b[0m\u001b[0m\n\u001b[1;32m--> 149\u001b[1;33m             values = lib.maybe_convert_numeric(\n\u001b[0m\u001b[0;32m    150\u001b[0m                 \u001b[0mvalues\u001b[0m\u001b[1;33m,\u001b[0m \u001b[0mset\u001b[0m\u001b[1;33m(\u001b[0m\u001b[1;33m)\u001b[0m\u001b[1;33m,\u001b[0m \u001b[0mcoerce_numeric\u001b[0m\u001b[1;33m=\u001b[0m\u001b[0mcoerce_numeric\u001b[0m\u001b[1;33m\u001b[0m\u001b[1;33m\u001b[0m\u001b[0m\n\u001b[0;32m    151\u001b[0m             )\n",
      "\u001b[1;32mpandas\\_libs\\lib.pyx\u001b[0m in \u001b[0;36mpandas._libs.lib.maybe_convert_numeric\u001b[1;34m()\u001b[0m\n",
      "\u001b[1;31mValueError\u001b[0m: Unable to parse string \"N/A(IFRS)\" at position 258"
     ]
    }
   ],
   "source": [
    "fr_df[('2016/12', 'ROA')] = pd.to_numeric(fr_df[('2016/12', 'ROA')])"
   ]
  },
  {
   "cell_type": "code",
   "execution_count": 283,
   "metadata": {},
   "outputs": [],
   "source": [
    "import numpy as np #numpy 모듈에서 NaN 타입의 데이터를제공\n",
    "\n",
    "def check_IFRS(x):\n",
    "    if x == 'N/A(IFRS)':\n",
    "        return np.NaN\n",
    "    else:\n",
    "        return x\n",
    "\n",
    "fr_df[('2016/12', 'ROA')] = fr_df[('2016/12', 'ROA')].apply(check_IFRS)"
   ]
  },
  {
   "cell_type": "code",
   "execution_count": 284,
   "metadata": {},
   "outputs": [],
   "source": [
    "fr_df[('2016/12', 'ROA')] = pd.to_numeric(fr_df[('2016/12', 'ROA')])\n",
    "sorted_roa = fr_df.sort_values(by=('2016/12', 'ROA'), ascending=False)"
   ]
  },
  {
   "cell_type": "code",
   "execution_count": 311,
   "metadata": {},
   "outputs": [],
   "source": [
    "def low_per(invest_df, index_date, num):\n",
    "    invest_df[(index_date, 'PER')] = pd.to_numeric(invest_df[(index_date, 'PER')])\n",
    "    per_sorted = invest_df.sort_values(by=(index_date, 'PER'))\n",
    "    return per_sorted[index_date][:num]"
   ]
  },
  {
   "cell_type": "code",
   "execution_count": 312,
   "metadata": {},
   "outputs": [
    {
     "output_type": "execute_result",
     "data": {
      "text/plain": [
       "          PBR   PCR   PER    PSR 총현금흐름\n",
       "A001470  0.24  0.11  0.11   0.07  -331\n",
       "A064520  0.00  0.04  0.17   0.00    79\n",
       "A151910  3.85  0.16  0.19   0.14  -454\n",
       "A084110  1.05  0.61  0.62   1.95   297\n",
       "A032940  0.58  0.84  0.86   1.11    38\n",
       "A101000  0.22  0.88  1.09   0.08   144\n",
       "A003080  0.71  1.49  1.51   1.95    19\n",
       "A005960  0.83  1.48  1.58   0.14   201\n",
       "A000230  1.77  1.65  1.72  11.25    87\n",
       "A030530  0.86  2.06  2.24   1.51   572"
      ],
      "text/html": "<div>\n<style scoped>\n    .dataframe tbody tr th:only-of-type {\n        vertical-align: middle;\n    }\n\n    .dataframe tbody tr th {\n        vertical-align: top;\n    }\n\n    .dataframe thead th {\n        text-align: right;\n    }\n</style>\n<table border=\"1\" class=\"dataframe\">\n  <thead>\n    <tr style=\"text-align: right;\">\n      <th></th>\n      <th>PBR</th>\n      <th>PCR</th>\n      <th>PER</th>\n      <th>PSR</th>\n      <th>총현금흐름</th>\n    </tr>\n  </thead>\n  <tbody>\n    <tr>\n      <th>A001470</th>\n      <td>0.24</td>\n      <td>0.11</td>\n      <td>0.11</td>\n      <td>0.07</td>\n      <td>-331</td>\n    </tr>\n    <tr>\n      <th>A064520</th>\n      <td>0.00</td>\n      <td>0.04</td>\n      <td>0.17</td>\n      <td>0.00</td>\n      <td>79</td>\n    </tr>\n    <tr>\n      <th>A151910</th>\n      <td>3.85</td>\n      <td>0.16</td>\n      <td>0.19</td>\n      <td>0.14</td>\n      <td>-454</td>\n    </tr>\n    <tr>\n      <th>A084110</th>\n      <td>1.05</td>\n      <td>0.61</td>\n      <td>0.62</td>\n      <td>1.95</td>\n      <td>297</td>\n    </tr>\n    <tr>\n      <th>A032940</th>\n      <td>0.58</td>\n      <td>0.84</td>\n      <td>0.86</td>\n      <td>1.11</td>\n      <td>38</td>\n    </tr>\n    <tr>\n      <th>A101000</th>\n      <td>0.22</td>\n      <td>0.88</td>\n      <td>1.09</td>\n      <td>0.08</td>\n      <td>144</td>\n    </tr>\n    <tr>\n      <th>A003080</th>\n      <td>0.71</td>\n      <td>1.49</td>\n      <td>1.51</td>\n      <td>1.95</td>\n      <td>19</td>\n    </tr>\n    <tr>\n      <th>A005960</th>\n      <td>0.83</td>\n      <td>1.48</td>\n      <td>1.58</td>\n      <td>0.14</td>\n      <td>201</td>\n    </tr>\n    <tr>\n      <th>A000230</th>\n      <td>1.77</td>\n      <td>1.65</td>\n      <td>1.72</td>\n      <td>11.25</td>\n      <td>87</td>\n    </tr>\n    <tr>\n      <th>A030530</th>\n      <td>0.86</td>\n      <td>2.06</td>\n      <td>2.24</td>\n      <td>1.51</td>\n      <td>572</td>\n    </tr>\n  </tbody>\n</table>\n</div>"
     },
     "metadata": {},
     "execution_count": 312
    }
   ],
   "source": [
    "low_per(invest_df, '2016/12', 10)"
   ]
  },
  {
   "cell_type": "code",
   "execution_count": null,
   "metadata": {},
   "outputs": [],
   "source": []
  },
  {
   "cell_type": "code",
   "execution_count": 313,
   "metadata": {},
   "outputs": [],
   "source": [
    "fr_df[('2016/12', 'ROA')] = pd.to_numeric(fr_df[('2016/12', 'ROA')])"
   ]
  },
  {
   "cell_type": "code",
   "execution_count": 314,
   "metadata": {},
   "outputs": [
    {
     "output_type": "execute_result",
     "data": {
      "text/plain": [
       "A060310     NaN\n",
       "A095570     0.9\n",
       "A006840     5.1\n",
       "A054620     6.4\n",
       "A265520     NaN\n",
       "           ... \n",
       "A010240     5.1\n",
       "A189980     4.7\n",
       "A003280    -2.0\n",
       "A037440     1.5\n",
       "A238490    13.6\n",
       "Name: (2016/12, ROA), Length: 2241, dtype: float64"
      ]
     },
     "metadata": {},
     "execution_count": 314
    }
   ],
   "source": [
    "fr_df[('2016/12', 'ROA')]"
   ]
  },
  {
   "cell_type": "code",
   "execution_count": 315,
   "metadata": {},
   "outputs": [],
   "source": [
    "import numpy as np\n",
    "\n",
    "def check_IFRS(x):\n",
    "    if x == 'N/A(IFRS)':\n",
    "        return np.NaN\n",
    "    else:\n",
    "        return x\n",
    "\n",
    "fr_df[('2016/12', 'ROA')] = fr_df[('2016/12', 'ROA')].apply(check_IFRS)"
   ]
  },
  {
   "cell_type": "code",
   "execution_count": 316,
   "metadata": {},
   "outputs": [],
   "source": [
    "fr_df[('2016/12', 'ROA')] = pd.to_numeric(fr_df[('2016/12', 'ROA')])\n",
    "sorted_roa = fr_df.sort_values(by=('2016/12', 'ROA'), ascending=False)"
   ]
  },
  {
   "cell_type": "code",
   "execution_count": 295,
   "metadata": {},
   "outputs": [
    {
     "output_type": "execute_result",
     "data": {
      "text/plain": [
       "A084110    120.8\n",
       "A299670     98.8\n",
       "A089970     89.4\n",
       "A225570     69.7\n",
       "A000230     58.5\n",
       "           ...  \n",
       "A298050      NaN\n",
       "A298020      NaN\n",
       "A298000      NaN\n",
       "A290270      NaN\n",
       "A243070      NaN\n",
       "Name: (2016/12, ROA), Length: 2241, dtype: float64"
      ]
     },
     "metadata": {},
     "execution_count": 295
    }
   ],
   "source": [
    "sorted_roa[('2016/12', 'ROA')]"
   ]
  },
  {
   "cell_type": "code",
   "execution_count": 317,
   "metadata": {},
   "outputs": [],
   "source": [
    "def high_roa(fr_df, index_date, num):\n",
    "    fr_df[(index_date, 'ROA')] = fr_df[(index_date, 'ROA')].apply(check_IFRS)\n",
    "    fr_df[(index_date, 'ROA')] = pd.to_numeric(fr_df[(index_date, 'ROA')])\n",
    "    sorted_roa = fr_df.sort_values(by=(index_date, 'ROA'), ascending=False)\n",
    "    return sorted_roa[index_date][:num]"
   ]
  },
  {
   "cell_type": "code",
   "execution_count": 318,
   "metadata": {},
   "outputs": [
    {
     "output_type": "execute_result",
     "data": {
      "text/plain": [
       "           ROA   ROIC   부채비율 영업이익률   유동비율\n",
       "A084110  120.8    8.2   22.7  17.7  244.2\n",
       "A299670   98.8  511.8   94.6  35.5  204.6\n",
       "A089970   89.4  182.6   78.5  24.8  154.3\n",
       "A225570   69.7  230.0   32.0  40.3  560.5\n",
       "A000230   58.5   -1.5   91.0  -9.2  162.5\n",
       "A035620   57.3   45.9   52.1  36.0  178.8\n",
       "A032940   53.1    6.9   50.7   3.7   61.2\n",
       "A003080   49.7    1.7   21.2   2.2  471.7\n",
       "A900310   45.8   70.4   24.9  57.8  373.4\n",
       "A260930   44.2  121.1  105.2  20.0  173.8"
      ],
      "text/html": "<div>\n<style scoped>\n    .dataframe tbody tr th:only-of-type {\n        vertical-align: middle;\n    }\n\n    .dataframe tbody tr th {\n        vertical-align: top;\n    }\n\n    .dataframe thead th {\n        text-align: right;\n    }\n</style>\n<table border=\"1\" class=\"dataframe\">\n  <thead>\n    <tr style=\"text-align: right;\">\n      <th></th>\n      <th>ROA</th>\n      <th>ROIC</th>\n      <th>부채비율</th>\n      <th>영업이익률</th>\n      <th>유동비율</th>\n    </tr>\n  </thead>\n  <tbody>\n    <tr>\n      <th>A084110</th>\n      <td>120.8</td>\n      <td>8.2</td>\n      <td>22.7</td>\n      <td>17.7</td>\n      <td>244.2</td>\n    </tr>\n    <tr>\n      <th>A299670</th>\n      <td>98.8</td>\n      <td>511.8</td>\n      <td>94.6</td>\n      <td>35.5</td>\n      <td>204.6</td>\n    </tr>\n    <tr>\n      <th>A089970</th>\n      <td>89.4</td>\n      <td>182.6</td>\n      <td>78.5</td>\n      <td>24.8</td>\n      <td>154.3</td>\n    </tr>\n    <tr>\n      <th>A225570</th>\n      <td>69.7</td>\n      <td>230.0</td>\n      <td>32.0</td>\n      <td>40.3</td>\n      <td>560.5</td>\n    </tr>\n    <tr>\n      <th>A000230</th>\n      <td>58.5</td>\n      <td>-1.5</td>\n      <td>91.0</td>\n      <td>-9.2</td>\n      <td>162.5</td>\n    </tr>\n    <tr>\n      <th>A035620</th>\n      <td>57.3</td>\n      <td>45.9</td>\n      <td>52.1</td>\n      <td>36.0</td>\n      <td>178.8</td>\n    </tr>\n    <tr>\n      <th>A032940</th>\n      <td>53.1</td>\n      <td>6.9</td>\n      <td>50.7</td>\n      <td>3.7</td>\n      <td>61.2</td>\n    </tr>\n    <tr>\n      <th>A003080</th>\n      <td>49.7</td>\n      <td>1.7</td>\n      <td>21.2</td>\n      <td>2.2</td>\n      <td>471.7</td>\n    </tr>\n    <tr>\n      <th>A900310</th>\n      <td>45.8</td>\n      <td>70.4</td>\n      <td>24.9</td>\n      <td>57.8</td>\n      <td>373.4</td>\n    </tr>\n    <tr>\n      <th>A260930</th>\n      <td>44.2</td>\n      <td>121.1</td>\n      <td>105.2</td>\n      <td>20.0</td>\n      <td>173.8</td>\n    </tr>\n  </tbody>\n</table>\n</div>"
     },
     "metadata": {},
     "execution_count": 318
    }
   ],
   "source": [
    "high_roa(fr_df, '2016/12', 10)"
   ]
  },
  {
   "cell_type": "code",
   "execution_count": null,
   "metadata": {},
   "outputs": [],
   "source": []
  },
  {
   "cell_type": "code",
   "execution_count": null,
   "metadata": {},
   "outputs": [],
   "source": []
  },
  {
   "cell_type": "code",
   "execution_count": 319,
   "metadata": {},
   "outputs": [],
   "source": [
    "date = '2016/12'\n",
    "per = low_per(invest_df, date, None)\n",
    "roa = high_roa(fr_df, date, None)"
   ]
  },
  {
   "cell_type": "code",
   "execution_count": 320,
   "metadata": {},
   "outputs": [],
   "source": [
    "per['per순위'] = per['PER'].rank()"
   ]
  },
  {
   "cell_type": "code",
   "execution_count": 321,
   "metadata": {},
   "outputs": [],
   "source": [
    "roa['roa순위'] = roa['ROA'].rank(ascending=False)"
   ]
  },
  {
   "cell_type": "code",
   "execution_count": 322,
   "metadata": {},
   "outputs": [
    {
     "output_type": "execute_result",
     "data": {
      "text/plain": [
       "A084110     5.0\n",
       "A032940    12.0\n",
       "A000230    14.0\n",
       "A003080    15.0\n",
       "A151910    29.0\n",
       "           ... \n",
       "A950160     NaN\n",
       "A950170     NaN\n",
       "A950180     NaN\n",
       "A950190     NaN\n",
       "A950200     NaN\n",
       "Length: 2256, dtype: float64"
      ]
     },
     "metadata": {},
     "execution_count": 322
    }
   ],
   "source": [
    "(per['per순위'] + roa['roa순위']).sort_values()"
   ]
  },
  {
   "cell_type": "code",
   "execution_count": 323,
   "metadata": {},
   "outputs": [
    {
     "output_type": "execute_result",
     "data": {
      "text/plain": [
       "A084110    1.0\n",
       "A032940    2.0\n",
       "A000230    3.0\n",
       "A003080    4.0\n",
       "A151910    5.0\n",
       "          ... \n",
       "A950160    NaN\n",
       "A950170    NaN\n",
       "A950180    NaN\n",
       "A950190    NaN\n",
       "A950200    NaN\n",
       "Length: 2256, dtype: float64"
      ]
     },
     "metadata": {},
     "execution_count": 323
    }
   ],
   "source": [
    "(per['per순위'] + roa['roa순위']).rank().sort_values()"
   ]
  },
  {
   "cell_type": "code",
   "execution_count": 324,
   "metadata": {},
   "outputs": [],
   "source": [
    "magic = pd.merge(per, roa, how='outer', left_index=True, right_index=True)\n",
    "magic['마법공식 순위'] = (magic['per순위'] + magic['roa순위']).rank().sort_values()\n",
    "magic = magic.sort_values(by='마법공식 순위')"
   ]
  },
  {
   "cell_type": "code",
   "execution_count": 325,
   "metadata": {},
   "outputs": [
    {
     "output_type": "execute_result",
     "data": {
      "text/plain": [
       "          PBR   PCR   PER    PSR 총현금흐름  per순위    ROA    ROIC   부채비율   영업이익률  \\\n",
       "A084110  1.05  0.61  0.62   1.95   297    4.0  120.8     8.2   22.7    17.7   \n",
       "A032940  0.58  0.84  0.86   1.11    38    5.0   53.1     6.9   50.7     3.7   \n",
       "A000230  1.77  1.65  1.72  11.25    87    9.0   58.5    -1.5   91.0    -9.2   \n",
       "A003080  0.71  1.49  1.51   1.95    19    7.0   49.7     1.7   21.2     2.2   \n",
       "A151910  3.85  0.16  0.19   0.14  -454    3.0   29.9  -162.0  188.4  -130.0   \n",
       "...       ...   ...   ...    ...   ...    ...    ...     ...    ...     ...   \n",
       "A950160   NaN   NaN   NaN    NaN   -19    NaN  -13.1   -82.5  234.7   -29.5   \n",
       "A950170   NaN   NaN   NaN    NaN   NaN    NaN    NaN     NaN    NaN     NaN   \n",
       "A950180   NaN   NaN   NaN    NaN   NaN    NaN    NaN     NaN    NaN     NaN   \n",
       "A950190   NaN   NaN   NaN    NaN   NaN    NaN    NaN     NaN    NaN     NaN   \n",
       "A950200   NaN   NaN   NaN    NaN   NaN    NaN    NaN     NaN    NaN     NaN   \n",
       "\n",
       "          유동비율   roa순위  마법공식 순위  \n",
       "A084110  244.2     1.0      1.0  \n",
       "A032940   61.2     7.0      2.0  \n",
       "A000230  162.5     5.0      3.0  \n",
       "A003080  471.7     8.0      4.0  \n",
       "A151910   72.9    26.0      5.0  \n",
       "...        ...     ...      ...  \n",
       "A950160  784.3  1833.5      NaN  \n",
       "A950170    NaN     NaN      NaN  \n",
       "A950180    NaN     NaN      NaN  \n",
       "A950190    NaN     NaN      NaN  \n",
       "A950200    NaN     NaN      NaN  \n",
       "\n",
       "[2256 rows x 13 columns]"
      ],
      "text/html": "<div>\n<style scoped>\n    .dataframe tbody tr th:only-of-type {\n        vertical-align: middle;\n    }\n\n    .dataframe tbody tr th {\n        vertical-align: top;\n    }\n\n    .dataframe thead th {\n        text-align: right;\n    }\n</style>\n<table border=\"1\" class=\"dataframe\">\n  <thead>\n    <tr style=\"text-align: right;\">\n      <th></th>\n      <th>PBR</th>\n      <th>PCR</th>\n      <th>PER</th>\n      <th>PSR</th>\n      <th>총현금흐름</th>\n      <th>per순위</th>\n      <th>ROA</th>\n      <th>ROIC</th>\n      <th>부채비율</th>\n      <th>영업이익률</th>\n      <th>유동비율</th>\n      <th>roa순위</th>\n      <th>마법공식 순위</th>\n    </tr>\n  </thead>\n  <tbody>\n    <tr>\n      <th>A084110</th>\n      <td>1.05</td>\n      <td>0.61</td>\n      <td>0.62</td>\n      <td>1.95</td>\n      <td>297</td>\n      <td>4.0</td>\n      <td>120.8</td>\n      <td>8.2</td>\n      <td>22.7</td>\n      <td>17.7</td>\n      <td>244.2</td>\n      <td>1.0</td>\n      <td>1.0</td>\n    </tr>\n    <tr>\n      <th>A032940</th>\n      <td>0.58</td>\n      <td>0.84</td>\n      <td>0.86</td>\n      <td>1.11</td>\n      <td>38</td>\n      <td>5.0</td>\n      <td>53.1</td>\n      <td>6.9</td>\n      <td>50.7</td>\n      <td>3.7</td>\n      <td>61.2</td>\n      <td>7.0</td>\n      <td>2.0</td>\n    </tr>\n    <tr>\n      <th>A000230</th>\n      <td>1.77</td>\n      <td>1.65</td>\n      <td>1.72</td>\n      <td>11.25</td>\n      <td>87</td>\n      <td>9.0</td>\n      <td>58.5</td>\n      <td>-1.5</td>\n      <td>91.0</td>\n      <td>-9.2</td>\n      <td>162.5</td>\n      <td>5.0</td>\n      <td>3.0</td>\n    </tr>\n    <tr>\n      <th>A003080</th>\n      <td>0.71</td>\n      <td>1.49</td>\n      <td>1.51</td>\n      <td>1.95</td>\n      <td>19</td>\n      <td>7.0</td>\n      <td>49.7</td>\n      <td>1.7</td>\n      <td>21.2</td>\n      <td>2.2</td>\n      <td>471.7</td>\n      <td>8.0</td>\n      <td>4.0</td>\n    </tr>\n    <tr>\n      <th>A151910</th>\n      <td>3.85</td>\n      <td>0.16</td>\n      <td>0.19</td>\n      <td>0.14</td>\n      <td>-454</td>\n      <td>3.0</td>\n      <td>29.9</td>\n      <td>-162.0</td>\n      <td>188.4</td>\n      <td>-130.0</td>\n      <td>72.9</td>\n      <td>26.0</td>\n      <td>5.0</td>\n    </tr>\n    <tr>\n      <th>...</th>\n      <td>...</td>\n      <td>...</td>\n      <td>...</td>\n      <td>...</td>\n      <td>...</td>\n      <td>...</td>\n      <td>...</td>\n      <td>...</td>\n      <td>...</td>\n      <td>...</td>\n      <td>...</td>\n      <td>...</td>\n      <td>...</td>\n    </tr>\n    <tr>\n      <th>A950160</th>\n      <td>NaN</td>\n      <td>NaN</td>\n      <td>NaN</td>\n      <td>NaN</td>\n      <td>-19</td>\n      <td>NaN</td>\n      <td>-13.1</td>\n      <td>-82.5</td>\n      <td>234.7</td>\n      <td>-29.5</td>\n      <td>784.3</td>\n      <td>1833.5</td>\n      <td>NaN</td>\n    </tr>\n    <tr>\n      <th>A950170</th>\n      <td>NaN</td>\n      <td>NaN</td>\n      <td>NaN</td>\n      <td>NaN</td>\n      <td>NaN</td>\n      <td>NaN</td>\n      <td>NaN</td>\n      <td>NaN</td>\n      <td>NaN</td>\n      <td>NaN</td>\n      <td>NaN</td>\n      <td>NaN</td>\n      <td>NaN</td>\n    </tr>\n    <tr>\n      <th>A950180</th>\n      <td>NaN</td>\n      <td>NaN</td>\n      <td>NaN</td>\n      <td>NaN</td>\n      <td>NaN</td>\n      <td>NaN</td>\n      <td>NaN</td>\n      <td>NaN</td>\n      <td>NaN</td>\n      <td>NaN</td>\n      <td>NaN</td>\n      <td>NaN</td>\n      <td>NaN</td>\n    </tr>\n    <tr>\n      <th>A950190</th>\n      <td>NaN</td>\n      <td>NaN</td>\n      <td>NaN</td>\n      <td>NaN</td>\n      <td>NaN</td>\n      <td>NaN</td>\n      <td>NaN</td>\n      <td>NaN</td>\n      <td>NaN</td>\n      <td>NaN</td>\n      <td>NaN</td>\n      <td>NaN</td>\n      <td>NaN</td>\n    </tr>\n    <tr>\n      <th>A950200</th>\n      <td>NaN</td>\n      <td>NaN</td>\n      <td>NaN</td>\n      <td>NaN</td>\n      <td>NaN</td>\n      <td>NaN</td>\n      <td>NaN</td>\n      <td>NaN</td>\n      <td>NaN</td>\n      <td>NaN</td>\n      <td>NaN</td>\n      <td>NaN</td>\n      <td>NaN</td>\n    </tr>\n  </tbody>\n</table>\n<p>2256 rows × 13 columns</p>\n</div>"
     },
     "metadata": {},
     "execution_count": 325
    }
   ],
   "source": [
    "magic"
   ]
  },
  {
   "cell_type": "code",
   "execution_count": 326,
   "metadata": {},
   "outputs": [],
   "source": [
    "def magic_formula(fr_df, invest_df, index_date, num):\n",
    "    per = low_per(invest_df, index_date, None)\n",
    "    roa = high_roa(fr_df, index_date, None)\n",
    "    per['per순위'] = per['PER'].rank()\n",
    "    roa['roa순위'] = roa['ROA'].rank(ascending=False)\n",
    "    magic = pd.merge(per, roa, how='outer', left_index=True, right_index=True)\n",
    "    magic['마법공식 순위'] = (magic['per순위'] + magic['roa순위']).rank().sort_values()\n",
    "    magic = magic.sort_values(by='마법공식 순위')\n",
    "    return magic[:num]"
   ]
  },
  {
   "cell_type": "code",
   "execution_count": 327,
   "metadata": {},
   "outputs": [
    {
     "output_type": "execute_result",
     "data": {
      "text/plain": [
       "          PBR   PCR   PER    PSR 총현금흐름  per순위    ROA    ROIC   부채비율   영업이익률  \\\n",
       "A084110  1.05  0.61  0.62   1.95   297    4.0  120.8     8.2   22.7    17.7   \n",
       "A032940  0.58  0.84  0.86   1.11    38    5.0   53.1     6.9   50.7     3.7   \n",
       "A000230  1.77  1.65  1.72  11.25    87    9.0   58.5    -1.5   91.0    -9.2   \n",
       "A003080  0.71  1.49  1.51   1.95    19    7.0   49.7     1.7   21.2     2.2   \n",
       "A151910  3.85  0.16  0.19   0.14  -454    3.0   29.9  -162.0  188.4  -130.0   \n",
       "A030530  0.86  2.06  2.24   1.51   572   10.0   27.2    14.0   18.2    13.7   \n",
       "A001470  0.24  0.11  0.11   0.07  -331    1.0   23.6     NaN  299.3    -9.0   \n",
       "A050120  0.99  3.03  3.12   1.98    28   17.0   26.8    12.0   46.7     6.3   \n",
       "A010640  1.33  3.18  3.35   1.35     2   19.0   25.7    -0.8   97.5    -0.9   \n",
       "A036620  2.72  3.65  3.81   3.14    -4   27.5   24.2    -8.0  175.7    -7.1   \n",
       "\n",
       "           유동비율  roa순위  마법공식 순위  \n",
       "A084110   244.2    1.0      1.0  \n",
       "A032940    61.2    7.0      2.0  \n",
       "A000230   162.5    5.0      3.0  \n",
       "A003080   471.7    8.0      4.0  \n",
       "A151910    72.9   26.0      5.0  \n",
       "A030530   163.7   32.0      6.0  \n",
       "A001470   136.0   43.0      7.0  \n",
       "A050120  1493.9   33.0      8.0  \n",
       "A010640    36.0   37.0      9.0  \n",
       "A036620    46.6   39.0     10.0  "
      ],
      "text/html": "<div>\n<style scoped>\n    .dataframe tbody tr th:only-of-type {\n        vertical-align: middle;\n    }\n\n    .dataframe tbody tr th {\n        vertical-align: top;\n    }\n\n    .dataframe thead th {\n        text-align: right;\n    }\n</style>\n<table border=\"1\" class=\"dataframe\">\n  <thead>\n    <tr style=\"text-align: right;\">\n      <th></th>\n      <th>PBR</th>\n      <th>PCR</th>\n      <th>PER</th>\n      <th>PSR</th>\n      <th>총현금흐름</th>\n      <th>per순위</th>\n      <th>ROA</th>\n      <th>ROIC</th>\n      <th>부채비율</th>\n      <th>영업이익률</th>\n      <th>유동비율</th>\n      <th>roa순위</th>\n      <th>마법공식 순위</th>\n    </tr>\n  </thead>\n  <tbody>\n    <tr>\n      <th>A084110</th>\n      <td>1.05</td>\n      <td>0.61</td>\n      <td>0.62</td>\n      <td>1.95</td>\n      <td>297</td>\n      <td>4.0</td>\n      <td>120.8</td>\n      <td>8.2</td>\n      <td>22.7</td>\n      <td>17.7</td>\n      <td>244.2</td>\n      <td>1.0</td>\n      <td>1.0</td>\n    </tr>\n    <tr>\n      <th>A032940</th>\n      <td>0.58</td>\n      <td>0.84</td>\n      <td>0.86</td>\n      <td>1.11</td>\n      <td>38</td>\n      <td>5.0</td>\n      <td>53.1</td>\n      <td>6.9</td>\n      <td>50.7</td>\n      <td>3.7</td>\n      <td>61.2</td>\n      <td>7.0</td>\n      <td>2.0</td>\n    </tr>\n    <tr>\n      <th>A000230</th>\n      <td>1.77</td>\n      <td>1.65</td>\n      <td>1.72</td>\n      <td>11.25</td>\n      <td>87</td>\n      <td>9.0</td>\n      <td>58.5</td>\n      <td>-1.5</td>\n      <td>91.0</td>\n      <td>-9.2</td>\n      <td>162.5</td>\n      <td>5.0</td>\n      <td>3.0</td>\n    </tr>\n    <tr>\n      <th>A003080</th>\n      <td>0.71</td>\n      <td>1.49</td>\n      <td>1.51</td>\n      <td>1.95</td>\n      <td>19</td>\n      <td>7.0</td>\n      <td>49.7</td>\n      <td>1.7</td>\n      <td>21.2</td>\n      <td>2.2</td>\n      <td>471.7</td>\n      <td>8.0</td>\n      <td>4.0</td>\n    </tr>\n    <tr>\n      <th>A151910</th>\n      <td>3.85</td>\n      <td>0.16</td>\n      <td>0.19</td>\n      <td>0.14</td>\n      <td>-454</td>\n      <td>3.0</td>\n      <td>29.9</td>\n      <td>-162.0</td>\n      <td>188.4</td>\n      <td>-130.0</td>\n      <td>72.9</td>\n      <td>26.0</td>\n      <td>5.0</td>\n    </tr>\n    <tr>\n      <th>A030530</th>\n      <td>0.86</td>\n      <td>2.06</td>\n      <td>2.24</td>\n      <td>1.51</td>\n      <td>572</td>\n      <td>10.0</td>\n      <td>27.2</td>\n      <td>14.0</td>\n      <td>18.2</td>\n      <td>13.7</td>\n      <td>163.7</td>\n      <td>32.0</td>\n      <td>6.0</td>\n    </tr>\n    <tr>\n      <th>A001470</th>\n      <td>0.24</td>\n      <td>0.11</td>\n      <td>0.11</td>\n      <td>0.07</td>\n      <td>-331</td>\n      <td>1.0</td>\n      <td>23.6</td>\n      <td>NaN</td>\n      <td>299.3</td>\n      <td>-9.0</td>\n      <td>136.0</td>\n      <td>43.0</td>\n      <td>7.0</td>\n    </tr>\n    <tr>\n      <th>A050120</th>\n      <td>0.99</td>\n      <td>3.03</td>\n      <td>3.12</td>\n      <td>1.98</td>\n      <td>28</td>\n      <td>17.0</td>\n      <td>26.8</td>\n      <td>12.0</td>\n      <td>46.7</td>\n      <td>6.3</td>\n      <td>1493.9</td>\n      <td>33.0</td>\n      <td>8.0</td>\n    </tr>\n    <tr>\n      <th>A010640</th>\n      <td>1.33</td>\n      <td>3.18</td>\n      <td>3.35</td>\n      <td>1.35</td>\n      <td>2</td>\n      <td>19.0</td>\n      <td>25.7</td>\n      <td>-0.8</td>\n      <td>97.5</td>\n      <td>-0.9</td>\n      <td>36.0</td>\n      <td>37.0</td>\n      <td>9.0</td>\n    </tr>\n    <tr>\n      <th>A036620</th>\n      <td>2.72</td>\n      <td>3.65</td>\n      <td>3.81</td>\n      <td>3.14</td>\n      <td>-4</td>\n      <td>27.5</td>\n      <td>24.2</td>\n      <td>-8.0</td>\n      <td>175.7</td>\n      <td>-7.1</td>\n      <td>46.6</td>\n      <td>39.0</td>\n      <td>10.0</td>\n    </tr>\n  </tbody>\n</table>\n</div>"
     },
     "metadata": {},
     "execution_count": 327
    }
   ],
   "source": [
    "magic_formula(fr_df, invest_df, '2016/12', 10)"
   ]
  },
  {
   "cell_type": "code",
   "execution_count": null,
   "metadata": {},
   "outputs": [],
   "source": []
  },
  {
   "cell_type": "code",
   "execution_count": null,
   "metadata": {},
   "outputs": [],
   "source": []
  },
  {
   "cell_type": "code",
   "execution_count": 328,
   "metadata": {},
   "outputs": [],
   "source": [
    "def get_value_rank(invest_df, value_type, index_date, num):\n",
    "    invest_df[(index_date, value_type)] = pd.to_numeric(invest_df[(index_date, value_type)])\n",
    "    value_sorted = invest_df.sort_values(by=(index_date, value_type))[index_date]\n",
    "    value_sorted[value_type + '순위'] = value_sorted[value_type].rank()\n",
    "    return value_sorted[[value_type, value_type + '순위']][:num]"
   ]
  },
  {
   "cell_type": "code",
   "execution_count": 329,
   "metadata": {},
   "outputs": [
    {
     "output_type": "execute_result",
     "data": {
      "text/plain": [
       "          PSR  PSR순위\n",
       "A064520  0.00    1.0\n",
       "A037400  0.03    2.5\n",
       "A016380  0.03    2.5\n",
       "A011810  0.04    5.0\n",
       "A082850  0.04    5.0\n",
       "A042660  0.04    5.0\n",
       "A083470  0.05    8.5\n",
       "A071970  0.05    8.5\n",
       "A024900  0.05    8.5\n",
       "A038110  0.05    8.5"
      ],
      "text/html": "<div>\n<style scoped>\n    .dataframe tbody tr th:only-of-type {\n        vertical-align: middle;\n    }\n\n    .dataframe tbody tr th {\n        vertical-align: top;\n    }\n\n    .dataframe thead th {\n        text-align: right;\n    }\n</style>\n<table border=\"1\" class=\"dataframe\">\n  <thead>\n    <tr style=\"text-align: right;\">\n      <th></th>\n      <th>PSR</th>\n      <th>PSR순위</th>\n    </tr>\n  </thead>\n  <tbody>\n    <tr>\n      <th>A064520</th>\n      <td>0.00</td>\n      <td>1.0</td>\n    </tr>\n    <tr>\n      <th>A037400</th>\n      <td>0.03</td>\n      <td>2.5</td>\n    </tr>\n    <tr>\n      <th>A016380</th>\n      <td>0.03</td>\n      <td>2.5</td>\n    </tr>\n    <tr>\n      <th>A011810</th>\n      <td>0.04</td>\n      <td>5.0</td>\n    </tr>\n    <tr>\n      <th>A082850</th>\n      <td>0.04</td>\n      <td>5.0</td>\n    </tr>\n    <tr>\n      <th>A042660</th>\n      <td>0.04</td>\n      <td>5.0</td>\n    </tr>\n    <tr>\n      <th>A083470</th>\n      <td>0.05</td>\n      <td>8.5</td>\n    </tr>\n    <tr>\n      <th>A071970</th>\n      <td>0.05</td>\n      <td>8.5</td>\n    </tr>\n    <tr>\n      <th>A024900</th>\n      <td>0.05</td>\n      <td>8.5</td>\n    </tr>\n    <tr>\n      <th>A038110</th>\n      <td>0.05</td>\n      <td>8.5</td>\n    </tr>\n  </tbody>\n</table>\n</div>"
     },
     "metadata": {},
     "execution_count": 329
    }
   ],
   "source": [
    "get_value_rank(invest_df, 'PSR', '2016/12', 10)"
   ]
  },
  {
   "cell_type": "code",
   "execution_count": 330,
   "metadata": {},
   "outputs": [],
   "source": [
    "date = '2016/12'\n",
    "per = get_value_rank(invest_df, 'PER', date, None)\n",
    "pbr = get_value_rank(invest_df, 'PBR', date, None)\n",
    "value_combo = pd.merge(per, pbr, how='outer', right_index=True, left_index=True)\n",
    "value_combo['종합순위'] = (value_combo['PER순위'] + value_combo['PBR순위']).rank()\n",
    "value_combo = value_combo.sort_values(by='종합순위')"
   ]
  },
  {
   "cell_type": "code",
   "execution_count": 331,
   "metadata": {},
   "outputs": [
    {
     "output_type": "execute_result",
     "data": {
      "text/plain": [
       "          PER  PER순위   PBR  PBR순위  종합순위\n",
       "A064520  0.17    2.0  0.00    1.0   1.0\n",
       "A001470  0.11    1.0  0.24    8.0   2.0\n",
       "A101000  1.09    6.0  0.22    6.0   3.0\n",
       "A076340  2.42   12.0  0.34   27.5   4.0\n",
       "A019010  4.13   37.0  0.26   11.0   5.0\n",
       "A003300  4.45   45.0  0.24    8.0   6.0\n",
       "A015760  4.01   32.0  0.39   46.0   7.5\n",
       "A001940  4.94   59.0  0.30   19.0   7.5\n",
       "A900080  4.76   53.0  0.34   27.5   9.0\n",
       "A058650  5.73   80.5  0.30   19.0  10.0\n",
       "A007860  3.15   18.0  0.46   82.0  11.0\n",
       "A001620  4.74   52.0  0.40   49.0  12.0\n",
       "A037350  3.47   22.0  0.46   82.0  13.0\n",
       "A196490  4.09   35.0  0.45   73.0  14.0\n",
       "A183190  5.70   79.0  0.36   34.0  15.0\n",
       "A013870  5.04   63.0  0.43   60.0  16.0\n",
       "A012860  4.81   56.0  0.45   73.0  17.0\n",
       "A016590  6.03   97.5  0.37   37.0  18.0\n",
       "A003100  5.80   86.5  0.40   49.0  19.0\n",
       "A023600  4.10   36.0  0.48  102.5  20.0"
      ],
      "text/html": "<div>\n<style scoped>\n    .dataframe tbody tr th:only-of-type {\n        vertical-align: middle;\n    }\n\n    .dataframe tbody tr th {\n        vertical-align: top;\n    }\n\n    .dataframe thead th {\n        text-align: right;\n    }\n</style>\n<table border=\"1\" class=\"dataframe\">\n  <thead>\n    <tr style=\"text-align: right;\">\n      <th></th>\n      <th>PER</th>\n      <th>PER순위</th>\n      <th>PBR</th>\n      <th>PBR순위</th>\n      <th>종합순위</th>\n    </tr>\n  </thead>\n  <tbody>\n    <tr>\n      <th>A064520</th>\n      <td>0.17</td>\n      <td>2.0</td>\n      <td>0.00</td>\n      <td>1.0</td>\n      <td>1.0</td>\n    </tr>\n    <tr>\n      <th>A001470</th>\n      <td>0.11</td>\n      <td>1.0</td>\n      <td>0.24</td>\n      <td>8.0</td>\n      <td>2.0</td>\n    </tr>\n    <tr>\n      <th>A101000</th>\n      <td>1.09</td>\n      <td>6.0</td>\n      <td>0.22</td>\n      <td>6.0</td>\n      <td>3.0</td>\n    </tr>\n    <tr>\n      <th>A076340</th>\n      <td>2.42</td>\n      <td>12.0</td>\n      <td>0.34</td>\n      <td>27.5</td>\n      <td>4.0</td>\n    </tr>\n    <tr>\n      <th>A019010</th>\n      <td>4.13</td>\n      <td>37.0</td>\n      <td>0.26</td>\n      <td>11.0</td>\n      <td>5.0</td>\n    </tr>\n    <tr>\n      <th>A003300</th>\n      <td>4.45</td>\n      <td>45.0</td>\n      <td>0.24</td>\n      <td>8.0</td>\n      <td>6.0</td>\n    </tr>\n    <tr>\n      <th>A015760</th>\n      <td>4.01</td>\n      <td>32.0</td>\n      <td>0.39</td>\n      <td>46.0</td>\n      <td>7.5</td>\n    </tr>\n    <tr>\n      <th>A001940</th>\n      <td>4.94</td>\n      <td>59.0</td>\n      <td>0.30</td>\n      <td>19.0</td>\n      <td>7.5</td>\n    </tr>\n    <tr>\n      <th>A900080</th>\n      <td>4.76</td>\n      <td>53.0</td>\n      <td>0.34</td>\n      <td>27.5</td>\n      <td>9.0</td>\n    </tr>\n    <tr>\n      <th>A058650</th>\n      <td>5.73</td>\n      <td>80.5</td>\n      <td>0.30</td>\n      <td>19.0</td>\n      <td>10.0</td>\n    </tr>\n    <tr>\n      <th>A007860</th>\n      <td>3.15</td>\n      <td>18.0</td>\n      <td>0.46</td>\n      <td>82.0</td>\n      <td>11.0</td>\n    </tr>\n    <tr>\n      <th>A001620</th>\n      <td>4.74</td>\n      <td>52.0</td>\n      <td>0.40</td>\n      <td>49.0</td>\n      <td>12.0</td>\n    </tr>\n    <tr>\n      <th>A037350</th>\n      <td>3.47</td>\n      <td>22.0</td>\n      <td>0.46</td>\n      <td>82.0</td>\n      <td>13.0</td>\n    </tr>\n    <tr>\n      <th>A196490</th>\n      <td>4.09</td>\n      <td>35.0</td>\n      <td>0.45</td>\n      <td>73.0</td>\n      <td>14.0</td>\n    </tr>\n    <tr>\n      <th>A183190</th>\n      <td>5.70</td>\n      <td>79.0</td>\n      <td>0.36</td>\n      <td>34.0</td>\n      <td>15.0</td>\n    </tr>\n    <tr>\n      <th>A013870</th>\n      <td>5.04</td>\n      <td>63.0</td>\n      <td>0.43</td>\n      <td>60.0</td>\n      <td>16.0</td>\n    </tr>\n    <tr>\n      <th>A012860</th>\n      <td>4.81</td>\n      <td>56.0</td>\n      <td>0.45</td>\n      <td>73.0</td>\n      <td>17.0</td>\n    </tr>\n    <tr>\n      <th>A016590</th>\n      <td>6.03</td>\n      <td>97.5</td>\n      <td>0.37</td>\n      <td>37.0</td>\n      <td>18.0</td>\n    </tr>\n    <tr>\n      <th>A003100</th>\n      <td>5.80</td>\n      <td>86.5</td>\n      <td>0.40</td>\n      <td>49.0</td>\n      <td>19.0</td>\n    </tr>\n    <tr>\n      <th>A023600</th>\n      <td>4.10</td>\n      <td>36.0</td>\n      <td>0.48</td>\n      <td>102.5</td>\n      <td>20.0</td>\n    </tr>\n  </tbody>\n</table>\n</div>"
     },
     "metadata": {},
     "execution_count": 331
    }
   ],
   "source": [
    "value_combo[:20]"
   ]
  },
  {
   "cell_type": "code",
   "execution_count": 336,
   "metadata": {},
   "outputs": [],
   "source": [
    "def make_value_combo(value_list, invest_df, index_date, num):\n",
    "\n",
    "    for i, value in enumerate(value_list):\n",
    "        temp_df = get_value_rank(invest_df, value, index_date, None)\n",
    "        if i == 0:\n",
    "            value_combo_df = temp_df\n",
    "            rank_combo = temp_df[value + '순위']\n",
    "        else:\n",
    "            value_combo_df = pd.merge(value_combo_df, temp_df, how='outer', right_index=True, left_index=True)\n",
    "            rank_combo = rank_combo + temp_df[value + '순위']\n",
    "\n",
    "    value_combo_df['종합순위'] = rank_combo.rank()\n",
    "    value_combo_df = value_combo_df.sort_values(by='종합순위')\n",
    "\n",
    "    return value_combo_df[:num]"
   ]
  },
  {
   "cell_type": "code",
   "execution_count": 333,
   "metadata": {},
   "outputs": [
    {
     "output_type": "execute_result",
     "data": {
      "text/plain": [
       "          PER  PER순위   PSR  PSR순위   PBR  PBR순위   PCR  PCR순위  종합순위\n",
       "A064520  0.17    2.0  0.00    1.0  0.00    1.0  0.04    1.0   1.0\n",
       "A001470  0.11    1.0  0.07   15.5  0.24    8.0  0.11    2.0   2.0\n",
       "A101000  1.09    6.0  0.08   21.5  0.22    6.0  0.88    8.0   3.0\n",
       "A076340  2.42   12.0  0.13   54.0  0.34   27.5  1.94   35.0   4.0\n",
       "A007860  3.15   18.0  0.08   21.5  0.46   82.0  1.13   10.0   5.0\n",
       "A001620  4.74   52.0  0.11   39.0  0.40   49.0  1.52   21.0   6.0\n",
       "A058650  5.73   80.5  0.13   54.0  0.30   19.0  1.77   27.5   7.0\n",
       "A012860  4.81   56.0  0.11   39.0  0.45   73.0  1.47   17.0   8.0\n",
       "A010100  6.40  117.5  0.07   15.5  0.36   34.0  2.04   39.0   9.0\n",
       "A053700  5.45   75.5  0.10   32.0  0.48  102.5  1.51   20.0  10.0"
      ],
      "text/html": "<div>\n<style scoped>\n    .dataframe tbody tr th:only-of-type {\n        vertical-align: middle;\n    }\n\n    .dataframe tbody tr th {\n        vertical-align: top;\n    }\n\n    .dataframe thead th {\n        text-align: right;\n    }\n</style>\n<table border=\"1\" class=\"dataframe\">\n  <thead>\n    <tr style=\"text-align: right;\">\n      <th></th>\n      <th>PER</th>\n      <th>PER순위</th>\n      <th>PSR</th>\n      <th>PSR순위</th>\n      <th>PBR</th>\n      <th>PBR순위</th>\n      <th>PCR</th>\n      <th>PCR순위</th>\n      <th>종합순위</th>\n    </tr>\n  </thead>\n  <tbody>\n    <tr>\n      <th>A064520</th>\n      <td>0.17</td>\n      <td>2.0</td>\n      <td>0.00</td>\n      <td>1.0</td>\n      <td>0.00</td>\n      <td>1.0</td>\n      <td>0.04</td>\n      <td>1.0</td>\n      <td>1.0</td>\n    </tr>\n    <tr>\n      <th>A001470</th>\n      <td>0.11</td>\n      <td>1.0</td>\n      <td>0.07</td>\n      <td>15.5</td>\n      <td>0.24</td>\n      <td>8.0</td>\n      <td>0.11</td>\n      <td>2.0</td>\n      <td>2.0</td>\n    </tr>\n    <tr>\n      <th>A101000</th>\n      <td>1.09</td>\n      <td>6.0</td>\n      <td>0.08</td>\n      <td>21.5</td>\n      <td>0.22</td>\n      <td>6.0</td>\n      <td>0.88</td>\n      <td>8.0</td>\n      <td>3.0</td>\n    </tr>\n    <tr>\n      <th>A076340</th>\n      <td>2.42</td>\n      <td>12.0</td>\n      <td>0.13</td>\n      <td>54.0</td>\n      <td>0.34</td>\n      <td>27.5</td>\n      <td>1.94</td>\n      <td>35.0</td>\n      <td>4.0</td>\n    </tr>\n    <tr>\n      <th>A007860</th>\n      <td>3.15</td>\n      <td>18.0</td>\n      <td>0.08</td>\n      <td>21.5</td>\n      <td>0.46</td>\n      <td>82.0</td>\n      <td>1.13</td>\n      <td>10.0</td>\n      <td>5.0</td>\n    </tr>\n    <tr>\n      <th>A001620</th>\n      <td>4.74</td>\n      <td>52.0</td>\n      <td>0.11</td>\n      <td>39.0</td>\n      <td>0.40</td>\n      <td>49.0</td>\n      <td>1.52</td>\n      <td>21.0</td>\n      <td>6.0</td>\n    </tr>\n    <tr>\n      <th>A058650</th>\n      <td>5.73</td>\n      <td>80.5</td>\n      <td>0.13</td>\n      <td>54.0</td>\n      <td>0.30</td>\n      <td>19.0</td>\n      <td>1.77</td>\n      <td>27.5</td>\n      <td>7.0</td>\n    </tr>\n    <tr>\n      <th>A012860</th>\n      <td>4.81</td>\n      <td>56.0</td>\n      <td>0.11</td>\n      <td>39.0</td>\n      <td>0.45</td>\n      <td>73.0</td>\n      <td>1.47</td>\n      <td>17.0</td>\n      <td>8.0</td>\n    </tr>\n    <tr>\n      <th>A010100</th>\n      <td>6.40</td>\n      <td>117.5</td>\n      <td>0.07</td>\n      <td>15.5</td>\n      <td>0.36</td>\n      <td>34.0</td>\n      <td>2.04</td>\n      <td>39.0</td>\n      <td>9.0</td>\n    </tr>\n    <tr>\n      <th>A053700</th>\n      <td>5.45</td>\n      <td>75.5</td>\n      <td>0.10</td>\n      <td>32.0</td>\n      <td>0.48</td>\n      <td>102.5</td>\n      <td>1.51</td>\n      <td>20.0</td>\n      <td>10.0</td>\n    </tr>\n  </tbody>\n</table>\n</div>"
     },
     "metadata": {},
     "execution_count": 333
    }
   ],
   "source": [
    "make_value_combo(['PER', 'PSR', 'PBR', 'PCR'], invest_df, '2016/12', 10)"
   ]
  },
  {
   "cell_type": "code",
   "execution_count": null,
   "metadata": {},
   "outputs": [],
   "source": []
  },
  {
   "cell_type": "code",
   "execution_count": 337,
   "metadata": {},
   "outputs": [
    {
     "output_type": "execute_result",
     "data": {
      "text/plain": [
       "A060310    False\n",
       "A095570     True\n",
       "A006840     True\n",
       "A054620     True\n",
       "A265520     True\n",
       "           ...  \n",
       "A010240     True\n",
       "A189980     True\n",
       "A003280    False\n",
       "A037440     True\n",
       "A238490     True\n",
       "Name: 당기순이익, Length: 2256, dtype: bool"
      ]
     },
     "metadata": {},
     "execution_count": 337
    }
   ],
   "source": [
    "date = '2017/12'\n",
    "fs_df_dt = fs_df[date]\n",
    "fs_df_dt['당기순이익'] > 0"
   ]
  },
  {
   "cell_type": "code",
   "execution_count": 338,
   "metadata": {},
   "outputs": [],
   "source": [
    "date = '2017/12'\n",
    "fscore_df = fs_df[date]\n",
    "fscore_df['당기순이익점수'] = fscore_df['당기순이익'] > 0\n",
    "fscore_df['영업활동점수'] = fscore_df['영업활동으로인한현금흐름'] > 0\n",
    "fscore_df['더큰영업활동점수'] = fscore_df['영업활동으로인한현금흐름'] > fscore_df['당기순이익']"
   ]
  },
  {
   "cell_type": "code",
   "execution_count": 339,
   "metadata": {},
   "outputs": [
    {
     "output_type": "execute_result",
     "data": {
      "text/plain": [
       "         당기순이익점수  영업활동점수  더큰영업활동점수\n",
       "A060310    False   False     False\n",
       "A095570     True   False     False\n",
       "A006840     True    True      True\n",
       "A054620     True    True     False\n",
       "A265520     True    True      True\n",
       "...          ...     ...       ...\n",
       "A010240     True    True     False\n",
       "A189980     True    True      True\n",
       "A003280    False   False      True\n",
       "A037440     True    True      True\n",
       "A238490     True    True     False\n",
       "\n",
       "[2256 rows x 3 columns]"
      ],
      "text/html": "<div>\n<style scoped>\n    .dataframe tbody tr th:only-of-type {\n        vertical-align: middle;\n    }\n\n    .dataframe tbody tr th {\n        vertical-align: top;\n    }\n\n    .dataframe thead th {\n        text-align: right;\n    }\n</style>\n<table border=\"1\" class=\"dataframe\">\n  <thead>\n    <tr style=\"text-align: right;\">\n      <th></th>\n      <th>당기순이익점수</th>\n      <th>영업활동점수</th>\n      <th>더큰영업활동점수</th>\n    </tr>\n  </thead>\n  <tbody>\n    <tr>\n      <th>A060310</th>\n      <td>False</td>\n      <td>False</td>\n      <td>False</td>\n    </tr>\n    <tr>\n      <th>A095570</th>\n      <td>True</td>\n      <td>False</td>\n      <td>False</td>\n    </tr>\n    <tr>\n      <th>A006840</th>\n      <td>True</td>\n      <td>True</td>\n      <td>True</td>\n    </tr>\n    <tr>\n      <th>A054620</th>\n      <td>True</td>\n      <td>True</td>\n      <td>False</td>\n    </tr>\n    <tr>\n      <th>A265520</th>\n      <td>True</td>\n      <td>True</td>\n      <td>True</td>\n    </tr>\n    <tr>\n      <th>...</th>\n      <td>...</td>\n      <td>...</td>\n      <td>...</td>\n    </tr>\n    <tr>\n      <th>A010240</th>\n      <td>True</td>\n      <td>True</td>\n      <td>False</td>\n    </tr>\n    <tr>\n      <th>A189980</th>\n      <td>True</td>\n      <td>True</td>\n      <td>True</td>\n    </tr>\n    <tr>\n      <th>A003280</th>\n      <td>False</td>\n      <td>False</td>\n      <td>True</td>\n    </tr>\n    <tr>\n      <th>A037440</th>\n      <td>True</td>\n      <td>True</td>\n      <td>True</td>\n    </tr>\n    <tr>\n      <th>A238490</th>\n      <td>True</td>\n      <td>True</td>\n      <td>False</td>\n    </tr>\n  </tbody>\n</table>\n<p>2256 rows × 3 columns</p>\n</div>"
     },
     "metadata": {},
     "execution_count": 339
    }
   ],
   "source": [
    "fscore_df[['당기순이익점수', '영업활동점수', '더큰영업활동점수']]"
   ]
  },
  {
   "cell_type": "code",
   "execution_count": 340,
   "metadata": {},
   "outputs": [
    {
     "output_type": "execute_result",
     "data": {
      "text/plain": [
       "A060310    0\n",
       "A095570    1\n",
       "A006840    3\n",
       "A054620    2\n",
       "A265520    3\n",
       "          ..\n",
       "A010240    2\n",
       "A189980    3\n",
       "A003280    1\n",
       "A037440    3\n",
       "A238490    2\n",
       "Length: 2256, dtype: int64"
      ]
     },
     "metadata": {},
     "execution_count": 340
    }
   ],
   "source": [
    "fscore_df[['당기순이익점수', '영업활동점수', '더큰영업활동점수']].sum(axis=1)"
   ]
  },
  {
   "cell_type": "code",
   "execution_count": 344,
   "metadata": {},
   "outputs": [],
   "source": [
    "def get_fscore(fs_df, index_date, num):\n",
    "    fscore_df = fs_df[index_date]\n",
    "    fscore_df['당기순이익점수'] = fscore_df['당기순이익'] > 0\n",
    "    fscore_df['영업활동점수'] = fscore_df['영업활동으로인한현금흐름'] > 0\n",
    "    fscore_df['더큰영업활동점수'] = fscore_df['영업활동으로인한현금흐름'] > fscore_df['당기순이익']\n",
    "    fscore_df['종합점수'] = fscore_df[['당기순이익점수', '영업활동점수', '더큰영업활동점수']].sum(axis=1)\n",
    "    fscore_df = fscore_df[fscore_df['종합점수'] == 3]\n",
    "    return fscore_df[:num]"
   ]
  },
  {
   "cell_type": "code",
   "execution_count": 342,
   "metadata": {},
   "outputs": [
    {
     "output_type": "execute_result",
     "data": {
      "text/plain": [
       "         당기순이익     매출액      부채   영업이익 영업활동으로인한현금흐름      자본      자산  당기순이익점수  \\\n",
       "A006840   1854   33925   17927   2656         2809   11521   29448     True   \n",
       "A265520    191    9624    3785    262          557     895    4680     True   \n",
       "A211270      1     300     217     27           71     821    1037     True   \n",
       "A001460     62    1958    3465    172          235    3993    7458     True   \n",
       "A001040  11377  268986  173332  13260        22404  119922  293254     True   \n",
       "...        ...     ...     ...    ...          ...     ...     ...      ...   \n",
       "A079980    232   11983    4930    266          746    4073    9003     True   \n",
       "A065510     35     704     567     91           99     842    1409     True   \n",
       "A069260   1101    7158    2828   1526         1564    5988    8816     True   \n",
       "A189980     26     449     128     29           56     574     702     True   \n",
       "A037440     37    1595     830     87           85     516    1346     True   \n",
       "\n",
       "         영업활동점수  더큰영업활동점수  종합점수  \n",
       "A006840    True      True     3  \n",
       "A265520    True      True     3  \n",
       "A211270    True      True     3  \n",
       "A001460    True      True     3  \n",
       "A001040    True      True     3  \n",
       "...         ...       ...   ...  \n",
       "A079980    True      True     3  \n",
       "A065510    True      True     3  \n",
       "A069260    True      True     3  \n",
       "A189980    True      True     3  \n",
       "A037440    True      True     3  \n",
       "\n",
       "[842 rows x 11 columns]"
      ],
      "text/html": "<div>\n<style scoped>\n    .dataframe tbody tr th:only-of-type {\n        vertical-align: middle;\n    }\n\n    .dataframe tbody tr th {\n        vertical-align: top;\n    }\n\n    .dataframe thead th {\n        text-align: right;\n    }\n</style>\n<table border=\"1\" class=\"dataframe\">\n  <thead>\n    <tr style=\"text-align: right;\">\n      <th></th>\n      <th>당기순이익</th>\n      <th>매출액</th>\n      <th>부채</th>\n      <th>영업이익</th>\n      <th>영업활동으로인한현금흐름</th>\n      <th>자본</th>\n      <th>자산</th>\n      <th>당기순이익점수</th>\n      <th>영업활동점수</th>\n      <th>더큰영업활동점수</th>\n      <th>종합점수</th>\n    </tr>\n  </thead>\n  <tbody>\n    <tr>\n      <th>A006840</th>\n      <td>1854</td>\n      <td>33925</td>\n      <td>17927</td>\n      <td>2656</td>\n      <td>2809</td>\n      <td>11521</td>\n      <td>29448</td>\n      <td>True</td>\n      <td>True</td>\n      <td>True</td>\n      <td>3</td>\n    </tr>\n    <tr>\n      <th>A265520</th>\n      <td>191</td>\n      <td>9624</td>\n      <td>3785</td>\n      <td>262</td>\n      <td>557</td>\n      <td>895</td>\n      <td>4680</td>\n      <td>True</td>\n      <td>True</td>\n      <td>True</td>\n      <td>3</td>\n    </tr>\n    <tr>\n      <th>A211270</th>\n      <td>1</td>\n      <td>300</td>\n      <td>217</td>\n      <td>27</td>\n      <td>71</td>\n      <td>821</td>\n      <td>1037</td>\n      <td>True</td>\n      <td>True</td>\n      <td>True</td>\n      <td>3</td>\n    </tr>\n    <tr>\n      <th>A001460</th>\n      <td>62</td>\n      <td>1958</td>\n      <td>3465</td>\n      <td>172</td>\n      <td>235</td>\n      <td>3993</td>\n      <td>7458</td>\n      <td>True</td>\n      <td>True</td>\n      <td>True</td>\n      <td>3</td>\n    </tr>\n    <tr>\n      <th>A001040</th>\n      <td>11377</td>\n      <td>268986</td>\n      <td>173332</td>\n      <td>13260</td>\n      <td>22404</td>\n      <td>119922</td>\n      <td>293254</td>\n      <td>True</td>\n      <td>True</td>\n      <td>True</td>\n      <td>3</td>\n    </tr>\n    <tr>\n      <th>...</th>\n      <td>...</td>\n      <td>...</td>\n      <td>...</td>\n      <td>...</td>\n      <td>...</td>\n      <td>...</td>\n      <td>...</td>\n      <td>...</td>\n      <td>...</td>\n      <td>...</td>\n      <td>...</td>\n    </tr>\n    <tr>\n      <th>A079980</th>\n      <td>232</td>\n      <td>11983</td>\n      <td>4930</td>\n      <td>266</td>\n      <td>746</td>\n      <td>4073</td>\n      <td>9003</td>\n      <td>True</td>\n      <td>True</td>\n      <td>True</td>\n      <td>3</td>\n    </tr>\n    <tr>\n      <th>A065510</th>\n      <td>35</td>\n      <td>704</td>\n      <td>567</td>\n      <td>91</td>\n      <td>99</td>\n      <td>842</td>\n      <td>1409</td>\n      <td>True</td>\n      <td>True</td>\n      <td>True</td>\n      <td>3</td>\n    </tr>\n    <tr>\n      <th>A069260</th>\n      <td>1101</td>\n      <td>7158</td>\n      <td>2828</td>\n      <td>1526</td>\n      <td>1564</td>\n      <td>5988</td>\n      <td>8816</td>\n      <td>True</td>\n      <td>True</td>\n      <td>True</td>\n      <td>3</td>\n    </tr>\n    <tr>\n      <th>A189980</th>\n      <td>26</td>\n      <td>449</td>\n      <td>128</td>\n      <td>29</td>\n      <td>56</td>\n      <td>574</td>\n      <td>702</td>\n      <td>True</td>\n      <td>True</td>\n      <td>True</td>\n      <td>3</td>\n    </tr>\n    <tr>\n      <th>A037440</th>\n      <td>37</td>\n      <td>1595</td>\n      <td>830</td>\n      <td>87</td>\n      <td>85</td>\n      <td>516</td>\n      <td>1346</td>\n      <td>True</td>\n      <td>True</td>\n      <td>True</td>\n      <td>3</td>\n    </tr>\n  </tbody>\n</table>\n<p>842 rows × 11 columns</p>\n</div>"
     },
     "metadata": {},
     "execution_count": 342
    }
   ],
   "source": [
    "get_fscore(fs_df, '2017/12', None)"
   ]
  },
  {
   "cell_type": "code",
   "execution_count": null,
   "metadata": {},
   "outputs": [],
   "source": []
  },
  {
   "cell_type": "code",
   "execution_count": 88,
   "metadata": {},
   "outputs": [],
   "source": [
    "#모멘텀"
   ]
  },
  {
   "cell_type": "code",
   "execution_count": 398,
   "metadata": {},
   "outputs": [],
   "source": [
    "import pandas as pd\n",
    "price_path = r'C:\\Users\\gjals\\Desktop\\코딩\\가격데이터.xlsx'\n",
    "price_df = pd.read_excel(price_path)\n",
    "\n",
    "#가격데이터 전처리함수\n",
    "for i in range(0, 1500):\n",
    "     price_df = price_df.rename(index={i : price_df['Unnamed: 0'][i]})\n",
    "price_df=price_df.drop(price_df.columns[0:1], axis=1, inplace=False)"
   ]
  },
  {
   "cell_type": "code",
   "execution_count": 399,
   "metadata": {},
   "outputs": [
    {
     "output_type": "execute_result",
     "data": {
      "text/plain": [
       "            060310  095570  006840  054620   265520  211270  027410    282330  \\\n",
       "2014-09-19    3105     NaN   62200    5685      NaN     NaN   16289       NaN   \n",
       "2014-09-22    3140     NaN   64000    5528      NaN     NaN   16186       NaN   \n",
       "2014-09-23    3115     NaN   63400    5394      NaN     NaN   16495       NaN   \n",
       "2014-09-24    3095     NaN   64100    5432      NaN     NaN   16521       NaN   \n",
       "2014-09-25    3100     NaN   64400    5402      NaN     NaN   16289       NaN   \n",
       "...            ...     ...     ...     ...      ...     ...     ...       ...   \n",
       "2020-10-21    2070  3775.0   17700    7950  22600.0  7100.0    4200  136000.0   \n",
       "2020-10-22    2085  3755.0   17950    7770  22200.0  7020.0    4230  135000.0   \n",
       "2020-10-23    2065  3660.0   18250    7660  21950.0  7000.0    4225  133500.0   \n",
       "2020-10-26    2050  3570.0   18150    7230  21550.0  6720.0    4310  129000.0   \n",
       "2020-10-27    2075  3485.0   17800    7160  21450.0  6770.0    4300  125000.0   \n",
       "\n",
       "            138930  001460  ...  084110    145020  069260  024060  010240  \\\n",
       "2014-09-19   16819  281500  ...   36447       NaN   24250    2600    2048   \n",
       "2014-09-22   16867  280500  ...   36994       NaN   24100    2580    2000   \n",
       "2014-09-23   16963  282000  ...   36927       NaN   24050    2765    1988   \n",
       "2014-09-24   17059  284000  ...   37200       NaN   24050    2660    1965   \n",
       "2014-09-25   16915  288500  ...   36583       NaN   24150    2740    1968   \n",
       "...            ...     ...  ...     ...       ...     ...     ...     ...   \n",
       "2020-10-21    5610  226000  ...   30800  197900.0   23300    6170    5500   \n",
       "2020-10-22    5770  231000  ...   30000  219900.0   23000    6100    5310   \n",
       "2020-10-23    5910  230000  ...   30000  211600.0   23300    6130    5210   \n",
       "2020-10-26    5810  240500  ...   29050  189000.0   22700    5950    5180   \n",
       "2020-10-27    5600  243500  ...   28600  185800.0   23700    5930    5230   \n",
       "\n",
       "            189980  000540  003280  037440   238490  \n",
       "2014-09-19     NaN    4405    3324    5550      NaN  \n",
       "2014-09-22     NaN    4415    3201    5530      NaN  \n",
       "2014-09-23     NaN    4450    3185    5500      NaN  \n",
       "2014-09-24     NaN    4300    3236    5520      NaN  \n",
       "2014-09-25     NaN    4270    3194    5420      NaN  \n",
       "...            ...     ...     ...     ...      ...  \n",
       "2020-10-21  1585.0    2845     258    3760  13750.0  \n",
       "2020-10-22  1590.0    2885     258    3760  13400.0  \n",
       "2020-10-23  1580.0    2970     258    3760  13350.0  \n",
       "2020-10-26  1500.0    2865     258    3700  12700.0  \n",
       "2020-10-27  1500.0    2810     258    3685  12600.0  \n",
       "\n",
       "[1500 rows x 2383 columns]"
      ],
      "text/html": "<div>\n<style scoped>\n    .dataframe tbody tr th:only-of-type {\n        vertical-align: middle;\n    }\n\n    .dataframe tbody tr th {\n        vertical-align: top;\n    }\n\n    .dataframe thead th {\n        text-align: right;\n    }\n</style>\n<table border=\"1\" class=\"dataframe\">\n  <thead>\n    <tr style=\"text-align: right;\">\n      <th></th>\n      <th>060310</th>\n      <th>095570</th>\n      <th>006840</th>\n      <th>054620</th>\n      <th>265520</th>\n      <th>211270</th>\n      <th>027410</th>\n      <th>282330</th>\n      <th>138930</th>\n      <th>001460</th>\n      <th>...</th>\n      <th>084110</th>\n      <th>145020</th>\n      <th>069260</th>\n      <th>024060</th>\n      <th>010240</th>\n      <th>189980</th>\n      <th>000540</th>\n      <th>003280</th>\n      <th>037440</th>\n      <th>238490</th>\n    </tr>\n  </thead>\n  <tbody>\n    <tr>\n      <th>2014-09-19</th>\n      <td>3105</td>\n      <td>NaN</td>\n      <td>62200</td>\n      <td>5685</td>\n      <td>NaN</td>\n      <td>NaN</td>\n      <td>16289</td>\n      <td>NaN</td>\n      <td>16819</td>\n      <td>281500</td>\n      <td>...</td>\n      <td>36447</td>\n      <td>NaN</td>\n      <td>24250</td>\n      <td>2600</td>\n      <td>2048</td>\n      <td>NaN</td>\n      <td>4405</td>\n      <td>3324</td>\n      <td>5550</td>\n      <td>NaN</td>\n    </tr>\n    <tr>\n      <th>2014-09-22</th>\n      <td>3140</td>\n      <td>NaN</td>\n      <td>64000</td>\n      <td>5528</td>\n      <td>NaN</td>\n      <td>NaN</td>\n      <td>16186</td>\n      <td>NaN</td>\n      <td>16867</td>\n      <td>280500</td>\n      <td>...</td>\n      <td>36994</td>\n      <td>NaN</td>\n      <td>24100</td>\n      <td>2580</td>\n      <td>2000</td>\n      <td>NaN</td>\n      <td>4415</td>\n      <td>3201</td>\n      <td>5530</td>\n      <td>NaN</td>\n    </tr>\n    <tr>\n      <th>2014-09-23</th>\n      <td>3115</td>\n      <td>NaN</td>\n      <td>63400</td>\n      <td>5394</td>\n      <td>NaN</td>\n      <td>NaN</td>\n      <td>16495</td>\n      <td>NaN</td>\n      <td>16963</td>\n      <td>282000</td>\n      <td>...</td>\n      <td>36927</td>\n      <td>NaN</td>\n      <td>24050</td>\n      <td>2765</td>\n      <td>1988</td>\n      <td>NaN</td>\n      <td>4450</td>\n      <td>3185</td>\n      <td>5500</td>\n      <td>NaN</td>\n    </tr>\n    <tr>\n      <th>2014-09-24</th>\n      <td>3095</td>\n      <td>NaN</td>\n      <td>64100</td>\n      <td>5432</td>\n      <td>NaN</td>\n      <td>NaN</td>\n      <td>16521</td>\n      <td>NaN</td>\n      <td>17059</td>\n      <td>284000</td>\n      <td>...</td>\n      <td>37200</td>\n      <td>NaN</td>\n      <td>24050</td>\n      <td>2660</td>\n      <td>1965</td>\n      <td>NaN</td>\n      <td>4300</td>\n      <td>3236</td>\n      <td>5520</td>\n      <td>NaN</td>\n    </tr>\n    <tr>\n      <th>2014-09-25</th>\n      <td>3100</td>\n      <td>NaN</td>\n      <td>64400</td>\n      <td>5402</td>\n      <td>NaN</td>\n      <td>NaN</td>\n      <td>16289</td>\n      <td>NaN</td>\n      <td>16915</td>\n      <td>288500</td>\n      <td>...</td>\n      <td>36583</td>\n      <td>NaN</td>\n      <td>24150</td>\n      <td>2740</td>\n      <td>1968</td>\n      <td>NaN</td>\n      <td>4270</td>\n      <td>3194</td>\n      <td>5420</td>\n      <td>NaN</td>\n    </tr>\n    <tr>\n      <th>...</th>\n      <td>...</td>\n      <td>...</td>\n      <td>...</td>\n      <td>...</td>\n      <td>...</td>\n      <td>...</td>\n      <td>...</td>\n      <td>...</td>\n      <td>...</td>\n      <td>...</td>\n      <td>...</td>\n      <td>...</td>\n      <td>...</td>\n      <td>...</td>\n      <td>...</td>\n      <td>...</td>\n      <td>...</td>\n      <td>...</td>\n      <td>...</td>\n      <td>...</td>\n      <td>...</td>\n    </tr>\n    <tr>\n      <th>2020-10-21</th>\n      <td>2070</td>\n      <td>3775.0</td>\n      <td>17700</td>\n      <td>7950</td>\n      <td>22600.0</td>\n      <td>7100.0</td>\n      <td>4200</td>\n      <td>136000.0</td>\n      <td>5610</td>\n      <td>226000</td>\n      <td>...</td>\n      <td>30800</td>\n      <td>197900.0</td>\n      <td>23300</td>\n      <td>6170</td>\n      <td>5500</td>\n      <td>1585.0</td>\n      <td>2845</td>\n      <td>258</td>\n      <td>3760</td>\n      <td>13750.0</td>\n    </tr>\n    <tr>\n      <th>2020-10-22</th>\n      <td>2085</td>\n      <td>3755.0</td>\n      <td>17950</td>\n      <td>7770</td>\n      <td>22200.0</td>\n      <td>7020.0</td>\n      <td>4230</td>\n      <td>135000.0</td>\n      <td>5770</td>\n      <td>231000</td>\n      <td>...</td>\n      <td>30000</td>\n      <td>219900.0</td>\n      <td>23000</td>\n      <td>6100</td>\n      <td>5310</td>\n      <td>1590.0</td>\n      <td>2885</td>\n      <td>258</td>\n      <td>3760</td>\n      <td>13400.0</td>\n    </tr>\n    <tr>\n      <th>2020-10-23</th>\n      <td>2065</td>\n      <td>3660.0</td>\n      <td>18250</td>\n      <td>7660</td>\n      <td>21950.0</td>\n      <td>7000.0</td>\n      <td>4225</td>\n      <td>133500.0</td>\n      <td>5910</td>\n      <td>230000</td>\n      <td>...</td>\n      <td>30000</td>\n      <td>211600.0</td>\n      <td>23300</td>\n      <td>6130</td>\n      <td>5210</td>\n      <td>1580.0</td>\n      <td>2970</td>\n      <td>258</td>\n      <td>3760</td>\n      <td>13350.0</td>\n    </tr>\n    <tr>\n      <th>2020-10-26</th>\n      <td>2050</td>\n      <td>3570.0</td>\n      <td>18150</td>\n      <td>7230</td>\n      <td>21550.0</td>\n      <td>6720.0</td>\n      <td>4310</td>\n      <td>129000.0</td>\n      <td>5810</td>\n      <td>240500</td>\n      <td>...</td>\n      <td>29050</td>\n      <td>189000.0</td>\n      <td>22700</td>\n      <td>5950</td>\n      <td>5180</td>\n      <td>1500.0</td>\n      <td>2865</td>\n      <td>258</td>\n      <td>3700</td>\n      <td>12700.0</td>\n    </tr>\n    <tr>\n      <th>2020-10-27</th>\n      <td>2075</td>\n      <td>3485.0</td>\n      <td>17800</td>\n      <td>7160</td>\n      <td>21450.0</td>\n      <td>6770.0</td>\n      <td>4300</td>\n      <td>125000.0</td>\n      <td>5600</td>\n      <td>243500</td>\n      <td>...</td>\n      <td>28600</td>\n      <td>185800.0</td>\n      <td>23700</td>\n      <td>5930</td>\n      <td>5230</td>\n      <td>1500.0</td>\n      <td>2810</td>\n      <td>258</td>\n      <td>3685</td>\n      <td>12600.0</td>\n    </tr>\n  </tbody>\n</table>\n<p>1500 rows × 2383 columns</p>\n</div>"
     },
     "metadata": {},
     "execution_count": 399
    }
   ],
   "source": [
    "price_df"
   ]
  },
  {
   "cell_type": "code",
   "execution_count": 400,
   "metadata": {},
   "outputs": [
    {
     "output_type": "execute_result",
     "data": {
      "text/plain": [
       "              060310    095570    006840    054620    265520    211270  \\\n",
       "2014-09-19       NaN       NaN       NaN       NaN       NaN       NaN   \n",
       "2014-09-22       NaN       NaN       NaN       NaN       NaN       NaN   \n",
       "2014-09-23       NaN       NaN       NaN       NaN       NaN       NaN   \n",
       "2014-09-24       NaN       NaN       NaN       NaN       NaN       NaN   \n",
       "2014-09-25       NaN       NaN       NaN       NaN       NaN       NaN   \n",
       "...              ...       ...       ...       ...       ...       ...   \n",
       "2020-10-21 -0.388479 -0.117991 -0.475556 -0.242857 -0.205624  0.077390   \n",
       "2020-10-22 -0.382222 -0.131792 -0.460150 -0.230693 -0.198556  0.055639   \n",
       "2020-10-23 -0.386330 -0.137809 -0.454410 -0.256311 -0.218861  0.068702   \n",
       "2020-10-26 -0.388972 -0.155030 -0.450000 -0.317925 -0.227599  0.033846   \n",
       "2020-10-27 -0.372163 -0.166268 -0.445483 -0.301463 -0.211397  0.039939   \n",
       "\n",
       "              027410    282330    138930    001460  ...    084110    145020  \\\n",
       "2014-09-19       NaN       NaN       NaN       NaN  ...       NaN       NaN   \n",
       "2014-09-22       NaN       NaN       NaN       NaN  ...       NaN       NaN   \n",
       "2014-09-23       NaN       NaN       NaN       NaN  ...       NaN       NaN   \n",
       "2014-09-24       NaN       NaN       NaN       NaN  ...       NaN       NaN   \n",
       "2014-09-25       NaN       NaN       NaN       NaN  ...       NaN       NaN   \n",
       "...              ...       ...       ...       ...  ...       ...       ...   \n",
       "2020-10-21 -0.324759 -0.300771 -0.218663 -0.056367  ...  0.080436  0.568457   \n",
       "2020-10-22 -0.318841 -0.298701 -0.196379 -0.035491  ...  0.045369  0.688953   \n",
       "2020-10-23 -0.310767 -0.299213 -0.181440 -0.031579  ...  0.057679  0.653797   \n",
       "2020-10-26 -0.299187 -0.335052 -0.198621  0.010504  ...  0.020731  0.484274   \n",
       "2020-10-27 -0.283333 -0.343832 -0.215686  0.020964  ...  0.006617  0.435314   \n",
       "\n",
       "              069260    024060    010240    189980    000540    003280  \\\n",
       "2014-09-19       NaN       NaN       NaN       NaN       NaN       NaN   \n",
       "2014-09-22       NaN       NaN       NaN       NaN       NaN       NaN   \n",
       "2014-09-23       NaN       NaN       NaN       NaN       NaN       NaN   \n",
       "2014-09-24       NaN       NaN       NaN       NaN       NaN       NaN   \n",
       "2014-09-25       NaN       NaN       NaN       NaN       NaN       NaN   \n",
       "...              ...       ...       ...       ...       ...       ...   \n",
       "2020-10-21  0.030973  0.014803  0.143451 -0.070381 -0.099684 -0.373786   \n",
       "2020-10-22  0.015453  0.008264  0.099379 -0.024540 -0.082671 -0.381295   \n",
       "2020-10-23  0.021930  0.037225  0.084287 -0.045317 -0.054140 -0.376812   \n",
       "2020-10-26 -0.010893  0.017094  0.099788 -0.093656 -0.086124 -0.364532   \n",
       "2020-10-27  0.048673  0.034904  0.136957 -0.082569 -0.097913 -0.358209   \n",
       "\n",
       "              037440    238490  \n",
       "2014-09-19       NaN       NaN  \n",
       "2014-09-22       NaN       NaN  \n",
       "2014-09-23       NaN       NaN  \n",
       "2014-09-24       NaN       NaN  \n",
       "2014-09-25       NaN       NaN  \n",
       "...              ...       ...  \n",
       "2020-10-21 -0.162584  0.089281  \n",
       "2020-10-22 -0.162584  0.096384  \n",
       "2020-10-23 -0.163515  0.051347  \n",
       "2020-10-26 -0.190372 -0.050396  \n",
       "2020-10-27 -0.186534 -0.024994  \n",
       "\n",
       "[1500 rows x 2383 columns]"
      ],
      "text/html": "<div>\n<style scoped>\n    .dataframe tbody tr th:only-of-type {\n        vertical-align: middle;\n    }\n\n    .dataframe tbody tr th {\n        vertical-align: top;\n    }\n\n    .dataframe thead th {\n        text-align: right;\n    }\n</style>\n<table border=\"1\" class=\"dataframe\">\n  <thead>\n    <tr style=\"text-align: right;\">\n      <th></th>\n      <th>060310</th>\n      <th>095570</th>\n      <th>006840</th>\n      <th>054620</th>\n      <th>265520</th>\n      <th>211270</th>\n      <th>027410</th>\n      <th>282330</th>\n      <th>138930</th>\n      <th>001460</th>\n      <th>...</th>\n      <th>084110</th>\n      <th>145020</th>\n      <th>069260</th>\n      <th>024060</th>\n      <th>010240</th>\n      <th>189980</th>\n      <th>000540</th>\n      <th>003280</th>\n      <th>037440</th>\n      <th>238490</th>\n    </tr>\n  </thead>\n  <tbody>\n    <tr>\n      <th>2014-09-19</th>\n      <td>NaN</td>\n      <td>NaN</td>\n      <td>NaN</td>\n      <td>NaN</td>\n      <td>NaN</td>\n      <td>NaN</td>\n      <td>NaN</td>\n      <td>NaN</td>\n      <td>NaN</td>\n      <td>NaN</td>\n      <td>...</td>\n      <td>NaN</td>\n      <td>NaN</td>\n      <td>NaN</td>\n      <td>NaN</td>\n      <td>NaN</td>\n      <td>NaN</td>\n      <td>NaN</td>\n      <td>NaN</td>\n      <td>NaN</td>\n      <td>NaN</td>\n    </tr>\n    <tr>\n      <th>2014-09-22</th>\n      <td>NaN</td>\n      <td>NaN</td>\n      <td>NaN</td>\n      <td>NaN</td>\n      <td>NaN</td>\n      <td>NaN</td>\n      <td>NaN</td>\n      <td>NaN</td>\n      <td>NaN</td>\n      <td>NaN</td>\n      <td>...</td>\n      <td>NaN</td>\n      <td>NaN</td>\n      <td>NaN</td>\n      <td>NaN</td>\n      <td>NaN</td>\n      <td>NaN</td>\n      <td>NaN</td>\n      <td>NaN</td>\n      <td>NaN</td>\n      <td>NaN</td>\n    </tr>\n    <tr>\n      <th>2014-09-23</th>\n      <td>NaN</td>\n      <td>NaN</td>\n      <td>NaN</td>\n      <td>NaN</td>\n      <td>NaN</td>\n      <td>NaN</td>\n      <td>NaN</td>\n      <td>NaN</td>\n      <td>NaN</td>\n      <td>NaN</td>\n      <td>...</td>\n      <td>NaN</td>\n      <td>NaN</td>\n      <td>NaN</td>\n      <td>NaN</td>\n      <td>NaN</td>\n      <td>NaN</td>\n      <td>NaN</td>\n      <td>NaN</td>\n      <td>NaN</td>\n      <td>NaN</td>\n    </tr>\n    <tr>\n      <th>2014-09-24</th>\n      <td>NaN</td>\n      <td>NaN</td>\n      <td>NaN</td>\n      <td>NaN</td>\n      <td>NaN</td>\n      <td>NaN</td>\n      <td>NaN</td>\n      <td>NaN</td>\n      <td>NaN</td>\n      <td>NaN</td>\n      <td>...</td>\n      <td>NaN</td>\n      <td>NaN</td>\n      <td>NaN</td>\n      <td>NaN</td>\n      <td>NaN</td>\n      <td>NaN</td>\n      <td>NaN</td>\n      <td>NaN</td>\n      <td>NaN</td>\n      <td>NaN</td>\n    </tr>\n    <tr>\n      <th>2014-09-25</th>\n      <td>NaN</td>\n      <td>NaN</td>\n      <td>NaN</td>\n      <td>NaN</td>\n      <td>NaN</td>\n      <td>NaN</td>\n      <td>NaN</td>\n      <td>NaN</td>\n      <td>NaN</td>\n      <td>NaN</td>\n      <td>...</td>\n      <td>NaN</td>\n      <td>NaN</td>\n      <td>NaN</td>\n      <td>NaN</td>\n      <td>NaN</td>\n      <td>NaN</td>\n      <td>NaN</td>\n      <td>NaN</td>\n      <td>NaN</td>\n      <td>NaN</td>\n    </tr>\n    <tr>\n      <th>...</th>\n      <td>...</td>\n      <td>...</td>\n      <td>...</td>\n      <td>...</td>\n      <td>...</td>\n      <td>...</td>\n      <td>...</td>\n      <td>...</td>\n      <td>...</td>\n      <td>...</td>\n      <td>...</td>\n      <td>...</td>\n      <td>...</td>\n      <td>...</td>\n      <td>...</td>\n      <td>...</td>\n      <td>...</td>\n      <td>...</td>\n      <td>...</td>\n      <td>...</td>\n      <td>...</td>\n    </tr>\n    <tr>\n      <th>2020-10-21</th>\n      <td>-0.388479</td>\n      <td>-0.117991</td>\n      <td>-0.475556</td>\n      <td>-0.242857</td>\n      <td>-0.205624</td>\n      <td>0.077390</td>\n      <td>-0.324759</td>\n      <td>-0.300771</td>\n      <td>-0.218663</td>\n      <td>-0.056367</td>\n      <td>...</td>\n      <td>0.080436</td>\n      <td>0.568457</td>\n      <td>0.030973</td>\n      <td>0.014803</td>\n      <td>0.143451</td>\n      <td>-0.070381</td>\n      <td>-0.099684</td>\n      <td>-0.373786</td>\n      <td>-0.162584</td>\n      <td>0.089281</td>\n    </tr>\n    <tr>\n      <th>2020-10-22</th>\n      <td>-0.382222</td>\n      <td>-0.131792</td>\n      <td>-0.460150</td>\n      <td>-0.230693</td>\n      <td>-0.198556</td>\n      <td>0.055639</td>\n      <td>-0.318841</td>\n      <td>-0.298701</td>\n      <td>-0.196379</td>\n      <td>-0.035491</td>\n      <td>...</td>\n      <td>0.045369</td>\n      <td>0.688953</td>\n      <td>0.015453</td>\n      <td>0.008264</td>\n      <td>0.099379</td>\n      <td>-0.024540</td>\n      <td>-0.082671</td>\n      <td>-0.381295</td>\n      <td>-0.162584</td>\n      <td>0.096384</td>\n    </tr>\n    <tr>\n      <th>2020-10-23</th>\n      <td>-0.386330</td>\n      <td>-0.137809</td>\n      <td>-0.454410</td>\n      <td>-0.256311</td>\n      <td>-0.218861</td>\n      <td>0.068702</td>\n      <td>-0.310767</td>\n      <td>-0.299213</td>\n      <td>-0.181440</td>\n      <td>-0.031579</td>\n      <td>...</td>\n      <td>0.057679</td>\n      <td>0.653797</td>\n      <td>0.021930</td>\n      <td>0.037225</td>\n      <td>0.084287</td>\n      <td>-0.045317</td>\n      <td>-0.054140</td>\n      <td>-0.376812</td>\n      <td>-0.163515</td>\n      <td>0.051347</td>\n    </tr>\n    <tr>\n      <th>2020-10-26</th>\n      <td>-0.388972</td>\n      <td>-0.155030</td>\n      <td>-0.450000</td>\n      <td>-0.317925</td>\n      <td>-0.227599</td>\n      <td>0.033846</td>\n      <td>-0.299187</td>\n      <td>-0.335052</td>\n      <td>-0.198621</td>\n      <td>0.010504</td>\n      <td>...</td>\n      <td>0.020731</td>\n      <td>0.484274</td>\n      <td>-0.010893</td>\n      <td>0.017094</td>\n      <td>0.099788</td>\n      <td>-0.093656</td>\n      <td>-0.086124</td>\n      <td>-0.364532</td>\n      <td>-0.190372</td>\n      <td>-0.050396</td>\n    </tr>\n    <tr>\n      <th>2020-10-27</th>\n      <td>-0.372163</td>\n      <td>-0.166268</td>\n      <td>-0.445483</td>\n      <td>-0.301463</td>\n      <td>-0.211397</td>\n      <td>0.039939</td>\n      <td>-0.283333</td>\n      <td>-0.343832</td>\n      <td>-0.215686</td>\n      <td>0.020964</td>\n      <td>...</td>\n      <td>0.006617</td>\n      <td>0.435314</td>\n      <td>0.048673</td>\n      <td>0.034904</td>\n      <td>0.136957</td>\n      <td>-0.082569</td>\n      <td>-0.097913</td>\n      <td>-0.358209</td>\n      <td>-0.186534</td>\n      <td>-0.024994</td>\n    </tr>\n  </tbody>\n</table>\n<p>1500 rows × 2383 columns</p>\n</div>"
     },
     "metadata": {},
     "execution_count": 400
    }
   ],
   "source": [
    "price_df.pct_change(250)"
   ]
  },
  {
   "cell_type": "code",
   "execution_count": 401,
   "metadata": {},
   "outputs": [
    {
     "output_type": "execute_result",
     "data": {
      "text/plain": [
       "060310    0.237778\n",
       "095570   -0.310710\n",
       "006840   -0.063545\n",
       "054620    1.407187\n",
       "265520         NaN\n",
       "            ...   \n",
       "189980   -0.602542\n",
       "000540   -0.132319\n",
       "003280   -0.227635\n",
       "037440    0.280397\n",
       "238490         NaN\n",
       "Name: 2016-12-29 00:00:00, Length: 2383, dtype: float64"
      ]
     },
     "metadata": {},
     "execution_count": 401
    }
   ],
   "source": [
    "price_df.pct_change(250).loc['2016-12-29']"
   ]
  },
  {
   "cell_type": "code",
   "execution_count": 402,
   "metadata": {},
   "outputs": [],
   "source": [
    "momentum_df = pd.DataFrame(price_df.pct_change(250).loc['2016-12-29'])\n",
    "momentum_df.columns = ['모멘텀']\n",
    "momentum_df['모멘텀순위'] = momentum_df['모멘텀'].rank(ascending=False)\n",
    "momentum_df = momentum_df.sort_values(by='모멘텀순위')"
   ]
  },
  {
   "cell_type": "code",
   "execution_count": 403,
   "metadata": {},
   "outputs": [
    {
     "output_type": "execute_result",
     "data": {
      "text/plain": [
       "             모멘텀  모멘텀순위\n",
       "225530  5.816741    1.0\n",
       "065060  4.498208    2.0\n",
       "049120  4.452941    3.0\n",
       "014200  3.949622    4.0\n",
       "063760  3.400000    5.0\n",
       "...          ...    ...\n",
       "284420       NaN    NaN\n",
       "212310       NaN    NaN\n",
       "243070       NaN    NaN\n",
       "145020       NaN    NaN\n",
       "238490       NaN    NaN\n",
       "\n",
       "[2383 rows x 2 columns]"
      ],
      "text/html": "<div>\n<style scoped>\n    .dataframe tbody tr th:only-of-type {\n        vertical-align: middle;\n    }\n\n    .dataframe tbody tr th {\n        vertical-align: top;\n    }\n\n    .dataframe thead th {\n        text-align: right;\n    }\n</style>\n<table border=\"1\" class=\"dataframe\">\n  <thead>\n    <tr style=\"text-align: right;\">\n      <th></th>\n      <th>모멘텀</th>\n      <th>모멘텀순위</th>\n    </tr>\n  </thead>\n  <tbody>\n    <tr>\n      <th>225530</th>\n      <td>5.816741</td>\n      <td>1.0</td>\n    </tr>\n    <tr>\n      <th>065060</th>\n      <td>4.498208</td>\n      <td>2.0</td>\n    </tr>\n    <tr>\n      <th>049120</th>\n      <td>4.452941</td>\n      <td>3.0</td>\n    </tr>\n    <tr>\n      <th>014200</th>\n      <td>3.949622</td>\n      <td>4.0</td>\n    </tr>\n    <tr>\n      <th>063760</th>\n      <td>3.400000</td>\n      <td>5.0</td>\n    </tr>\n    <tr>\n      <th>...</th>\n      <td>...</td>\n      <td>...</td>\n    </tr>\n    <tr>\n      <th>284420</th>\n      <td>NaN</td>\n      <td>NaN</td>\n    </tr>\n    <tr>\n      <th>212310</th>\n      <td>NaN</td>\n      <td>NaN</td>\n    </tr>\n    <tr>\n      <th>243070</th>\n      <td>NaN</td>\n      <td>NaN</td>\n    </tr>\n    <tr>\n      <th>145020</th>\n      <td>NaN</td>\n      <td>NaN</td>\n    </tr>\n    <tr>\n      <th>238490</th>\n      <td>NaN</td>\n      <td>NaN</td>\n    </tr>\n  </tbody>\n</table>\n<p>2383 rows × 2 columns</p>\n</div>"
     },
     "metadata": {},
     "execution_count": 403
    }
   ],
   "source": [
    "momentum_df"
   ]
  },
  {
   "cell_type": "code",
   "execution_count": 404,
   "metadata": {},
   "outputs": [],
   "source": [
    "def get_momentum_rank(price_df, index_date, date_range, num):\n",
    "    momentum_df = pd.DataFrame(price_df.pct_change(date_range).loc[index_date])\n",
    "    momentum_df.columns = ['모멘텀']\n",
    "    momentum_df['모멘텀순위'] = momentum_df['모멘텀'].rank(ascending=False)\n",
    "    momentum_df = momentum_df.sort_values(by='모멘텀순위')\n",
    "    return momentum_df[:num]"
   ]
  },
  {
   "cell_type": "code",
   "execution_count": 405,
   "metadata": {},
   "outputs": [
    {
     "output_type": "execute_result",
     "data": {
      "text/plain": [
       "             모멘텀  모멘텀순위\n",
       "001470  4.357644    1.0\n",
       "950130  4.328947    2.0\n",
       "057880  2.475096    3.0\n",
       "217330  2.224670    4.0\n",
       "066590  2.201024    5.0\n",
       "029480  2.134831    6.0\n",
       "270660  2.095890    7.0\n",
       "122450  1.848020    8.0\n",
       "269620  1.839506    9.0\n",
       "134060  1.814685   10.0"
      ],
      "text/html": "<div>\n<style scoped>\n    .dataframe tbody tr th:only-of-type {\n        vertical-align: middle;\n    }\n\n    .dataframe tbody tr th {\n        vertical-align: top;\n    }\n\n    .dataframe thead th {\n        text-align: right;\n    }\n</style>\n<table border=\"1\" class=\"dataframe\">\n  <thead>\n    <tr style=\"text-align: right;\">\n      <th></th>\n      <th>모멘텀</th>\n      <th>모멘텀순위</th>\n    </tr>\n  </thead>\n  <tbody>\n    <tr>\n      <th>001470</th>\n      <td>4.357644</td>\n      <td>1.0</td>\n    </tr>\n    <tr>\n      <th>950130</th>\n      <td>4.328947</td>\n      <td>2.0</td>\n    </tr>\n    <tr>\n      <th>057880</th>\n      <td>2.475096</td>\n      <td>3.0</td>\n    </tr>\n    <tr>\n      <th>217330</th>\n      <td>2.224670</td>\n      <td>4.0</td>\n    </tr>\n    <tr>\n      <th>066590</th>\n      <td>2.201024</td>\n      <td>5.0</td>\n    </tr>\n    <tr>\n      <th>029480</th>\n      <td>2.134831</td>\n      <td>6.0</td>\n    </tr>\n    <tr>\n      <th>270660</th>\n      <td>2.095890</td>\n      <td>7.0</td>\n    </tr>\n    <tr>\n      <th>122450</th>\n      <td>1.848020</td>\n      <td>8.0</td>\n    </tr>\n    <tr>\n      <th>269620</th>\n      <td>1.839506</td>\n      <td>9.0</td>\n    </tr>\n    <tr>\n      <th>134060</th>\n      <td>1.814685</td>\n      <td>10.0</td>\n    </tr>\n  </tbody>\n</table>\n</div>"
     },
     "metadata": {},
     "execution_count": 405
    }
   ],
   "source": [
    "get_momentum_rank(price_df, '2020-10-27', 60, 10)"
   ]
  },
  {
   "cell_type": "code",
   "execution_count": 406,
   "metadata": {},
   "outputs": [],
   "source": [
    "date = '2017/12'\n",
    "value = make_value_combo(['PER', 'PBR', 'PSR', 'PCR'], invest_df, date, None)\n",
    "quality = get_fscore(fs_df, date, None)"
   ]
  },
  {
   "cell_type": "code",
   "execution_count": 407,
   "metadata": {},
   "outputs": [],
   "source": [
    "value_quality = pd.merge(value, quality, how='outer', right_index=True, left_index=True)"
   ]
  },
  {
   "cell_type": "code",
   "execution_count": 408,
   "metadata": {},
   "outputs": [
    {
     "output_type": "execute_result",
     "data": {
      "text/plain": [
       "            PER   PER순위    PBR   PBR순위     PSR   PSR순위    PCR  PCR순위   종합순위  \\\n",
       "A000020    5.79   113.0   0.91   650.5    1.05  1035.5   4.65  244.0  363.0   \n",
       "A000040     NaN     NaN   1.62  1155.0    1.59  1290.5    NaN    NaN    NaN   \n",
       "A000050   15.05   594.0   0.55   226.5    1.06  1043.0   6.94  471.0  447.0   \n",
       "A000070   28.72   945.0   0.78   492.5    0.45   517.0   9.47  692.0  540.0   \n",
       "A000080  135.43  1252.0   1.33  1006.0    0.91   939.5  12.98  901.0  920.0   \n",
       "...         ...     ...    ...     ...     ...     ...    ...    ...    ...   \n",
       "A950160     NaN     NaN  19.56  1926.0  698.50  1944.0    NaN    NaN    NaN   \n",
       "A950170     NaN     NaN    NaN     NaN     NaN     NaN    NaN    NaN    NaN   \n",
       "A950180     NaN     NaN    NaN     NaN     NaN     NaN    NaN    NaN    NaN   \n",
       "A950190     NaN     NaN    NaN     NaN     NaN     NaN    NaN    NaN    NaN   \n",
       "A950200     NaN     NaN    NaN     NaN     NaN     NaN    NaN    NaN    NaN   \n",
       "\n",
       "        당기순이익    매출액     부채 영업이익 영업활동으로인한현금흐름     자본     자산 당기순이익점수 영업활동점수  \\\n",
       "A000020   NaN    NaN    NaN  NaN          NaN    NaN    NaN     NaN    NaN   \n",
       "A000040   NaN    NaN    NaN  NaN          NaN    NaN    NaN     NaN    NaN   \n",
       "A000050   253   3608   5749  423          577   6991  12740    True   True   \n",
       "A000070   NaN    NaN    NaN  NaN          NaN    NaN    NaN     NaN    NaN   \n",
       "A000080   127  18899  22901  872         3449  12175  35076    True   True   \n",
       "...       ...    ...    ...  ...          ...    ...    ...     ...    ...   \n",
       "A950160   NaN    NaN    NaN  NaN          NaN    NaN    NaN     NaN    NaN   \n",
       "A950170   NaN    NaN    NaN  NaN          NaN    NaN    NaN     NaN    NaN   \n",
       "A950180   NaN    NaN    NaN  NaN          NaN    NaN    NaN     NaN    NaN   \n",
       "A950190   NaN    NaN    NaN  NaN          NaN    NaN    NaN     NaN    NaN   \n",
       "A950200   NaN    NaN    NaN  NaN          NaN    NaN    NaN     NaN    NaN   \n",
       "\n",
       "        더큰영업활동점수  종합점수  \n",
       "A000020      NaN   NaN  \n",
       "A000040      NaN   NaN  \n",
       "A000050     True   3.0  \n",
       "A000070      NaN   NaN  \n",
       "A000080     True   3.0  \n",
       "...          ...   ...  \n",
       "A950160      NaN   NaN  \n",
       "A950170      NaN   NaN  \n",
       "A950180      NaN   NaN  \n",
       "A950190      NaN   NaN  \n",
       "A950200      NaN   NaN  \n",
       "\n",
       "[2256 rows x 20 columns]"
      ],
      "text/html": "<div>\n<style scoped>\n    .dataframe tbody tr th:only-of-type {\n        vertical-align: middle;\n    }\n\n    .dataframe tbody tr th {\n        vertical-align: top;\n    }\n\n    .dataframe thead th {\n        text-align: right;\n    }\n</style>\n<table border=\"1\" class=\"dataframe\">\n  <thead>\n    <tr style=\"text-align: right;\">\n      <th></th>\n      <th>PER</th>\n      <th>PER순위</th>\n      <th>PBR</th>\n      <th>PBR순위</th>\n      <th>PSR</th>\n      <th>PSR순위</th>\n      <th>PCR</th>\n      <th>PCR순위</th>\n      <th>종합순위</th>\n      <th>당기순이익</th>\n      <th>매출액</th>\n      <th>부채</th>\n      <th>영업이익</th>\n      <th>영업활동으로인한현금흐름</th>\n      <th>자본</th>\n      <th>자산</th>\n      <th>당기순이익점수</th>\n      <th>영업활동점수</th>\n      <th>더큰영업활동점수</th>\n      <th>종합점수</th>\n    </tr>\n  </thead>\n  <tbody>\n    <tr>\n      <th>A000020</th>\n      <td>5.79</td>\n      <td>113.0</td>\n      <td>0.91</td>\n      <td>650.5</td>\n      <td>1.05</td>\n      <td>1035.5</td>\n      <td>4.65</td>\n      <td>244.0</td>\n      <td>363.0</td>\n      <td>NaN</td>\n      <td>NaN</td>\n      <td>NaN</td>\n      <td>NaN</td>\n      <td>NaN</td>\n      <td>NaN</td>\n      <td>NaN</td>\n      <td>NaN</td>\n      <td>NaN</td>\n      <td>NaN</td>\n      <td>NaN</td>\n    </tr>\n    <tr>\n      <th>A000040</th>\n      <td>NaN</td>\n      <td>NaN</td>\n      <td>1.62</td>\n      <td>1155.0</td>\n      <td>1.59</td>\n      <td>1290.5</td>\n      <td>NaN</td>\n      <td>NaN</td>\n      <td>NaN</td>\n      <td>NaN</td>\n      <td>NaN</td>\n      <td>NaN</td>\n      <td>NaN</td>\n      <td>NaN</td>\n      <td>NaN</td>\n      <td>NaN</td>\n      <td>NaN</td>\n      <td>NaN</td>\n      <td>NaN</td>\n      <td>NaN</td>\n    </tr>\n    <tr>\n      <th>A000050</th>\n      <td>15.05</td>\n      <td>594.0</td>\n      <td>0.55</td>\n      <td>226.5</td>\n      <td>1.06</td>\n      <td>1043.0</td>\n      <td>6.94</td>\n      <td>471.0</td>\n      <td>447.0</td>\n      <td>253</td>\n      <td>3608</td>\n      <td>5749</td>\n      <td>423</td>\n      <td>577</td>\n      <td>6991</td>\n      <td>12740</td>\n      <td>True</td>\n      <td>True</td>\n      <td>True</td>\n      <td>3.0</td>\n    </tr>\n    <tr>\n      <th>A000070</th>\n      <td>28.72</td>\n      <td>945.0</td>\n      <td>0.78</td>\n      <td>492.5</td>\n      <td>0.45</td>\n      <td>517.0</td>\n      <td>9.47</td>\n      <td>692.0</td>\n      <td>540.0</td>\n      <td>NaN</td>\n      <td>NaN</td>\n      <td>NaN</td>\n      <td>NaN</td>\n      <td>NaN</td>\n      <td>NaN</td>\n      <td>NaN</td>\n      <td>NaN</td>\n      <td>NaN</td>\n      <td>NaN</td>\n      <td>NaN</td>\n    </tr>\n    <tr>\n      <th>A000080</th>\n      <td>135.43</td>\n      <td>1252.0</td>\n      <td>1.33</td>\n      <td>1006.0</td>\n      <td>0.91</td>\n      <td>939.5</td>\n      <td>12.98</td>\n      <td>901.0</td>\n      <td>920.0</td>\n      <td>127</td>\n      <td>18899</td>\n      <td>22901</td>\n      <td>872</td>\n      <td>3449</td>\n      <td>12175</td>\n      <td>35076</td>\n      <td>True</td>\n      <td>True</td>\n      <td>True</td>\n      <td>3.0</td>\n    </tr>\n    <tr>\n      <th>...</th>\n      <td>...</td>\n      <td>...</td>\n      <td>...</td>\n      <td>...</td>\n      <td>...</td>\n      <td>...</td>\n      <td>...</td>\n      <td>...</td>\n      <td>...</td>\n      <td>...</td>\n      <td>...</td>\n      <td>...</td>\n      <td>...</td>\n      <td>...</td>\n      <td>...</td>\n      <td>...</td>\n      <td>...</td>\n      <td>...</td>\n      <td>...</td>\n      <td>...</td>\n    </tr>\n    <tr>\n      <th>A950160</th>\n      <td>NaN</td>\n      <td>NaN</td>\n      <td>19.56</td>\n      <td>1926.0</td>\n      <td>698.50</td>\n      <td>1944.0</td>\n      <td>NaN</td>\n      <td>NaN</td>\n      <td>NaN</td>\n      <td>NaN</td>\n      <td>NaN</td>\n      <td>NaN</td>\n      <td>NaN</td>\n      <td>NaN</td>\n      <td>NaN</td>\n      <td>NaN</td>\n      <td>NaN</td>\n      <td>NaN</td>\n      <td>NaN</td>\n      <td>NaN</td>\n    </tr>\n    <tr>\n      <th>A950170</th>\n      <td>NaN</td>\n      <td>NaN</td>\n      <td>NaN</td>\n      <td>NaN</td>\n      <td>NaN</td>\n      <td>NaN</td>\n      <td>NaN</td>\n      <td>NaN</td>\n      <td>NaN</td>\n      <td>NaN</td>\n      <td>NaN</td>\n      <td>NaN</td>\n      <td>NaN</td>\n      <td>NaN</td>\n      <td>NaN</td>\n      <td>NaN</td>\n      <td>NaN</td>\n      <td>NaN</td>\n      <td>NaN</td>\n      <td>NaN</td>\n    </tr>\n    <tr>\n      <th>A950180</th>\n      <td>NaN</td>\n      <td>NaN</td>\n      <td>NaN</td>\n      <td>NaN</td>\n      <td>NaN</td>\n      <td>NaN</td>\n      <td>NaN</td>\n      <td>NaN</td>\n      <td>NaN</td>\n      <td>NaN</td>\n      <td>NaN</td>\n      <td>NaN</td>\n      <td>NaN</td>\n      <td>NaN</td>\n      <td>NaN</td>\n      <td>NaN</td>\n      <td>NaN</td>\n      <td>NaN</td>\n      <td>NaN</td>\n      <td>NaN</td>\n    </tr>\n    <tr>\n      <th>A950190</th>\n      <td>NaN</td>\n      <td>NaN</td>\n      <td>NaN</td>\n      <td>NaN</td>\n      <td>NaN</td>\n      <td>NaN</td>\n      <td>NaN</td>\n      <td>NaN</td>\n      <td>NaN</td>\n      <td>NaN</td>\n      <td>NaN</td>\n      <td>NaN</td>\n      <td>NaN</td>\n      <td>NaN</td>\n      <td>NaN</td>\n      <td>NaN</td>\n      <td>NaN</td>\n      <td>NaN</td>\n      <td>NaN</td>\n      <td>NaN</td>\n    </tr>\n    <tr>\n      <th>A950200</th>\n      <td>NaN</td>\n      <td>NaN</td>\n      <td>NaN</td>\n      <td>NaN</td>\n      <td>NaN</td>\n      <td>NaN</td>\n      <td>NaN</td>\n      <td>NaN</td>\n      <td>NaN</td>\n      <td>NaN</td>\n      <td>NaN</td>\n      <td>NaN</td>\n      <td>NaN</td>\n      <td>NaN</td>\n      <td>NaN</td>\n      <td>NaN</td>\n      <td>NaN</td>\n      <td>NaN</td>\n      <td>NaN</td>\n      <td>NaN</td>\n    </tr>\n  </tbody>\n</table>\n<p>2256 rows × 20 columns</p>\n</div>"
     },
     "metadata": {},
     "execution_count": 408
    }
   ],
   "source": [
    "value_quality"
   ]
  },
  {
   "cell_type": "code",
   "execution_count": 409,
   "metadata": {},
   "outputs": [],
   "source": [
    "value_quality_filtered = value_quality[value_quality['종합점수'] == 3]"
   ]
  },
  {
   "cell_type": "code",
   "execution_count": 410,
   "metadata": {},
   "outputs": [],
   "source": [
    "vq_df = value_quality_filtered.sort_values(by='종합순위')"
   ]
  },
  {
   "cell_type": "code",
   "execution_count": 411,
   "metadata": {},
   "outputs": [
    {
     "output_type": "execute_result",
     "data": {
      "text/plain": [
       "          PER  PER순위   PBR  PBR순위   PSR  PSR순위    PCR  PCR순위  종합순위 당기순이익  \\\n",
       "A009200  3.82   37.0  0.25    7.5  0.10   35.5   1.01   14.0   1.0   409   \n",
       "A058650  4.52   58.5  0.33   32.0  0.13   65.5   1.78   36.5   3.0  2111   \n",
       "A016710  6.06  122.0  0.32   26.0  0.14   77.0   2.32   54.0   7.0   322   \n",
       "A014790  4.10   44.0  0.49  165.0  0.12   57.5   3.36  108.0  10.0   466   \n",
       "A006200  8.55  250.5  0.30   21.0  0.15   88.5   2.14   45.5  14.0    50   \n",
       "...       ...    ...   ...    ...   ...    ...    ...    ...   ...   ...   \n",
       "A341310   NaN    NaN   NaN    NaN   NaN    NaN    NaN    NaN   NaN    27   \n",
       "A347740   NaN    NaN   NaN    NaN   NaN    NaN    NaN    NaN   NaN    37   \n",
       "A352820   NaN    NaN   NaN    NaN   NaN    NaN    NaN    NaN   NaN   246   \n",
       "A900070   NaN    NaN  0.71  409.5  0.58  658.0  10.31  750.0   NaN     7   \n",
       "A900340   NaN    NaN   NaN    NaN   NaN    NaN    NaN    NaN   NaN   168   \n",
       "\n",
       "           매출액     부채  영업이익 영업활동으로인한현금흐름     자본     자산 당기순이익점수 영업활동점수  \\\n",
       "A009200  10346  12701   698         1161   6456  19157    True   True   \n",
       "A058650  47944  22088  2746         2647  30460  52548    True   True   \n",
       "A016710   9031   5851   245          634   5211  11062    True   True   \n",
       "A014790  16415  18215  1495          770   3926  22141    True   True   \n",
       "A006200   2464   1423    62          158   2625   4048    True   True   \n",
       "...        ...    ...   ...          ...    ...    ...     ...    ...   \n",
       "A341310    177     37    35           31     64    101    True   True   \n",
       "A347740     83     12    43           44    124    136    True   True   \n",
       "A352820    924    207   325          392    405    612    True   True   \n",
       "A900070   1047    431    38           27    916   1346    True   True   \n",
       "A900340    840    243   240          188    449    693    True   True   \n",
       "\n",
       "        더큰영업활동점수  종합점수  \n",
       "A009200     True   3.0  \n",
       "A058650     True   3.0  \n",
       "A016710     True   3.0  \n",
       "A014790     True   3.0  \n",
       "A006200     True   3.0  \n",
       "...          ...   ...  \n",
       "A341310     True   3.0  \n",
       "A347740     True   3.0  \n",
       "A352820     True   3.0  \n",
       "A900070     True   3.0  \n",
       "A900340     True   3.0  \n",
       "\n",
       "[842 rows x 20 columns]"
      ],
      "text/html": "<div>\n<style scoped>\n    .dataframe tbody tr th:only-of-type {\n        vertical-align: middle;\n    }\n\n    .dataframe tbody tr th {\n        vertical-align: top;\n    }\n\n    .dataframe thead th {\n        text-align: right;\n    }\n</style>\n<table border=\"1\" class=\"dataframe\">\n  <thead>\n    <tr style=\"text-align: right;\">\n      <th></th>\n      <th>PER</th>\n      <th>PER순위</th>\n      <th>PBR</th>\n      <th>PBR순위</th>\n      <th>PSR</th>\n      <th>PSR순위</th>\n      <th>PCR</th>\n      <th>PCR순위</th>\n      <th>종합순위</th>\n      <th>당기순이익</th>\n      <th>매출액</th>\n      <th>부채</th>\n      <th>영업이익</th>\n      <th>영업활동으로인한현금흐름</th>\n      <th>자본</th>\n      <th>자산</th>\n      <th>당기순이익점수</th>\n      <th>영업활동점수</th>\n      <th>더큰영업활동점수</th>\n      <th>종합점수</th>\n    </tr>\n  </thead>\n  <tbody>\n    <tr>\n      <th>A009200</th>\n      <td>3.82</td>\n      <td>37.0</td>\n      <td>0.25</td>\n      <td>7.5</td>\n      <td>0.10</td>\n      <td>35.5</td>\n      <td>1.01</td>\n      <td>14.0</td>\n      <td>1.0</td>\n      <td>409</td>\n      <td>10346</td>\n      <td>12701</td>\n      <td>698</td>\n      <td>1161</td>\n      <td>6456</td>\n      <td>19157</td>\n      <td>True</td>\n      <td>True</td>\n      <td>True</td>\n      <td>3.0</td>\n    </tr>\n    <tr>\n      <th>A058650</th>\n      <td>4.52</td>\n      <td>58.5</td>\n      <td>0.33</td>\n      <td>32.0</td>\n      <td>0.13</td>\n      <td>65.5</td>\n      <td>1.78</td>\n      <td>36.5</td>\n      <td>3.0</td>\n      <td>2111</td>\n      <td>47944</td>\n      <td>22088</td>\n      <td>2746</td>\n      <td>2647</td>\n      <td>30460</td>\n      <td>52548</td>\n      <td>True</td>\n      <td>True</td>\n      <td>True</td>\n      <td>3.0</td>\n    </tr>\n    <tr>\n      <th>A016710</th>\n      <td>6.06</td>\n      <td>122.0</td>\n      <td>0.32</td>\n      <td>26.0</td>\n      <td>0.14</td>\n      <td>77.0</td>\n      <td>2.32</td>\n      <td>54.0</td>\n      <td>7.0</td>\n      <td>322</td>\n      <td>9031</td>\n      <td>5851</td>\n      <td>245</td>\n      <td>634</td>\n      <td>5211</td>\n      <td>11062</td>\n      <td>True</td>\n      <td>True</td>\n      <td>True</td>\n      <td>3.0</td>\n    </tr>\n    <tr>\n      <th>A014790</th>\n      <td>4.10</td>\n      <td>44.0</td>\n      <td>0.49</td>\n      <td>165.0</td>\n      <td>0.12</td>\n      <td>57.5</td>\n      <td>3.36</td>\n      <td>108.0</td>\n      <td>10.0</td>\n      <td>466</td>\n      <td>16415</td>\n      <td>18215</td>\n      <td>1495</td>\n      <td>770</td>\n      <td>3926</td>\n      <td>22141</td>\n      <td>True</td>\n      <td>True</td>\n      <td>True</td>\n      <td>3.0</td>\n    </tr>\n    <tr>\n      <th>A006200</th>\n      <td>8.55</td>\n      <td>250.5</td>\n      <td>0.30</td>\n      <td>21.0</td>\n      <td>0.15</td>\n      <td>88.5</td>\n      <td>2.14</td>\n      <td>45.5</td>\n      <td>14.0</td>\n      <td>50</td>\n      <td>2464</td>\n      <td>1423</td>\n      <td>62</td>\n      <td>158</td>\n      <td>2625</td>\n      <td>4048</td>\n      <td>True</td>\n      <td>True</td>\n      <td>True</td>\n      <td>3.0</td>\n    </tr>\n    <tr>\n      <th>...</th>\n      <td>...</td>\n      <td>...</td>\n      <td>...</td>\n      <td>...</td>\n      <td>...</td>\n      <td>...</td>\n      <td>...</td>\n      <td>...</td>\n      <td>...</td>\n      <td>...</td>\n      <td>...</td>\n      <td>...</td>\n      <td>...</td>\n      <td>...</td>\n      <td>...</td>\n      <td>...</td>\n      <td>...</td>\n      <td>...</td>\n      <td>...</td>\n      <td>...</td>\n    </tr>\n    <tr>\n      <th>A341310</th>\n      <td>NaN</td>\n      <td>NaN</td>\n      <td>NaN</td>\n      <td>NaN</td>\n      <td>NaN</td>\n      <td>NaN</td>\n      <td>NaN</td>\n      <td>NaN</td>\n      <td>NaN</td>\n      <td>27</td>\n      <td>177</td>\n      <td>37</td>\n      <td>35</td>\n      <td>31</td>\n      <td>64</td>\n      <td>101</td>\n      <td>True</td>\n      <td>True</td>\n      <td>True</td>\n      <td>3.0</td>\n    </tr>\n    <tr>\n      <th>A347740</th>\n      <td>NaN</td>\n      <td>NaN</td>\n      <td>NaN</td>\n      <td>NaN</td>\n      <td>NaN</td>\n      <td>NaN</td>\n      <td>NaN</td>\n      <td>NaN</td>\n      <td>NaN</td>\n      <td>37</td>\n      <td>83</td>\n      <td>12</td>\n      <td>43</td>\n      <td>44</td>\n      <td>124</td>\n      <td>136</td>\n      <td>True</td>\n      <td>True</td>\n      <td>True</td>\n      <td>3.0</td>\n    </tr>\n    <tr>\n      <th>A352820</th>\n      <td>NaN</td>\n      <td>NaN</td>\n      <td>NaN</td>\n      <td>NaN</td>\n      <td>NaN</td>\n      <td>NaN</td>\n      <td>NaN</td>\n      <td>NaN</td>\n      <td>NaN</td>\n      <td>246</td>\n      <td>924</td>\n      <td>207</td>\n      <td>325</td>\n      <td>392</td>\n      <td>405</td>\n      <td>612</td>\n      <td>True</td>\n      <td>True</td>\n      <td>True</td>\n      <td>3.0</td>\n    </tr>\n    <tr>\n      <th>A900070</th>\n      <td>NaN</td>\n      <td>NaN</td>\n      <td>0.71</td>\n      <td>409.5</td>\n      <td>0.58</td>\n      <td>658.0</td>\n      <td>10.31</td>\n      <td>750.0</td>\n      <td>NaN</td>\n      <td>7</td>\n      <td>1047</td>\n      <td>431</td>\n      <td>38</td>\n      <td>27</td>\n      <td>916</td>\n      <td>1346</td>\n      <td>True</td>\n      <td>True</td>\n      <td>True</td>\n      <td>3.0</td>\n    </tr>\n    <tr>\n      <th>A900340</th>\n      <td>NaN</td>\n      <td>NaN</td>\n      <td>NaN</td>\n      <td>NaN</td>\n      <td>NaN</td>\n      <td>NaN</td>\n      <td>NaN</td>\n      <td>NaN</td>\n      <td>NaN</td>\n      <td>168</td>\n      <td>840</td>\n      <td>243</td>\n      <td>240</td>\n      <td>188</td>\n      <td>449</td>\n      <td>693</td>\n      <td>True</td>\n      <td>True</td>\n      <td>True</td>\n      <td>3.0</td>\n    </tr>\n  </tbody>\n</table>\n<p>842 rows × 20 columns</p>\n</div>"
     },
     "metadata": {},
     "execution_count": 411
    }
   ],
   "source": [
    "vq_df"
   ]
  },
  {
   "cell_type": "code",
   "execution_count": 412,
   "metadata": {},
   "outputs": [],
   "source": [
    "def get_value_quality(invest_df, fs_df, index_date, num):\n",
    "    value = make_value_combo(['PER', 'PBR', 'PSR', 'PCR'], invest_df, index_date, None)\n",
    "    quality = get_fscore(fs_df, index_date, None)\n",
    "    value_quality = pd.merge(value, quality, how='outer', right_index=True, left_index=True)\n",
    "    value_quality_filtered = value_quality[value_quality['종합점수'] == 3]\n",
    "    vq_df = value_quality_filtered.sort_values(by='종합순위')\n",
    "    return vq_df[:num]"
   ]
  },
  {
   "cell_type": "code",
   "execution_count": 413,
   "metadata": {},
   "outputs": [
    {
     "output_type": "execute_result",
     "data": {
      "text/plain": [
       "           PER  PER순위   PBR  PBR순위   PSR  PSR순위   PCR  PCR순위  종합순위 당기순이익  \\\n",
       "A009200   3.82   37.0  0.25    7.5  0.10   35.5  1.01   14.0   1.0   409   \n",
       "A058650   4.52   58.5  0.33   32.0  0.13   65.5  1.78   36.5   3.0  2111   \n",
       "A016710   6.06  122.0  0.32   26.0  0.14   77.0  2.32   54.0   7.0   322   \n",
       "A014790   4.10   44.0  0.49  165.0  0.12   57.5  3.36  108.0  10.0   466   \n",
       "A006200   8.55  250.5  0.30   21.0  0.15   88.5  2.14   45.5  14.0    50   \n",
       "A013310   6.25  133.0  0.48  150.5  0.16  100.5  1.47   26.0  15.0   107   \n",
       "A200880   7.95  218.0  0.41   82.0  0.14   77.0  2.48   58.0  16.0   304   \n",
       "A092780   4.52   58.5  0.64  327.5  0.14   77.0  1.78   36.5  19.0    94   \n",
       "A015750  11.74  431.0  0.39   68.0  0.11   48.5  1.42   24.0  23.0   293   \n",
       "A005710   4.61   60.0  0.62  295.5  0.20  148.5  3.63  130.0  30.5   340   \n",
       "\n",
       "           매출액     부채  영업이익 영업활동으로인한현금흐름     자본     자산 당기순이익점수 영업활동점수  \\\n",
       "A009200  10346  12701   698         1161   6456  19157    True   True   \n",
       "A058650  47944  22088  2746         2647  30460  52548    True   True   \n",
       "A016710   9031   5851   245          634   5211  11062    True   True   \n",
       "A014790  16415  18215  1495          770   3926  22141    True   True   \n",
       "A006200   2464   1423    62          158   2625   4048    True   True   \n",
       "A013310   4279   3630   224          370   1443   5073    True   True   \n",
       "A200880  20075  10922  -122         1409   6727  17648    True   True   \n",
       "A092780   2942   2123   190          181    863   2986    True   True   \n",
       "A015750  33664  22016   608         3387  11836  33852    True   True   \n",
       "A005710   7970   1713   426          590   2524   4238    True   True   \n",
       "\n",
       "        더큰영업활동점수  종합점수  \n",
       "A009200     True   3.0  \n",
       "A058650     True   3.0  \n",
       "A016710     True   3.0  \n",
       "A014790     True   3.0  \n",
       "A006200     True   3.0  \n",
       "A013310     True   3.0  \n",
       "A200880     True   3.0  \n",
       "A092780     True   3.0  \n",
       "A015750     True   3.0  \n",
       "A005710     True   3.0  "
      ],
      "text/html": "<div>\n<style scoped>\n    .dataframe tbody tr th:only-of-type {\n        vertical-align: middle;\n    }\n\n    .dataframe tbody tr th {\n        vertical-align: top;\n    }\n\n    .dataframe thead th {\n        text-align: right;\n    }\n</style>\n<table border=\"1\" class=\"dataframe\">\n  <thead>\n    <tr style=\"text-align: right;\">\n      <th></th>\n      <th>PER</th>\n      <th>PER순위</th>\n      <th>PBR</th>\n      <th>PBR순위</th>\n      <th>PSR</th>\n      <th>PSR순위</th>\n      <th>PCR</th>\n      <th>PCR순위</th>\n      <th>종합순위</th>\n      <th>당기순이익</th>\n      <th>매출액</th>\n      <th>부채</th>\n      <th>영업이익</th>\n      <th>영업활동으로인한현금흐름</th>\n      <th>자본</th>\n      <th>자산</th>\n      <th>당기순이익점수</th>\n      <th>영업활동점수</th>\n      <th>더큰영업활동점수</th>\n      <th>종합점수</th>\n    </tr>\n  </thead>\n  <tbody>\n    <tr>\n      <th>A009200</th>\n      <td>3.82</td>\n      <td>37.0</td>\n      <td>0.25</td>\n      <td>7.5</td>\n      <td>0.10</td>\n      <td>35.5</td>\n      <td>1.01</td>\n      <td>14.0</td>\n      <td>1.0</td>\n      <td>409</td>\n      <td>10346</td>\n      <td>12701</td>\n      <td>698</td>\n      <td>1161</td>\n      <td>6456</td>\n      <td>19157</td>\n      <td>True</td>\n      <td>True</td>\n      <td>True</td>\n      <td>3.0</td>\n    </tr>\n    <tr>\n      <th>A058650</th>\n      <td>4.52</td>\n      <td>58.5</td>\n      <td>0.33</td>\n      <td>32.0</td>\n      <td>0.13</td>\n      <td>65.5</td>\n      <td>1.78</td>\n      <td>36.5</td>\n      <td>3.0</td>\n      <td>2111</td>\n      <td>47944</td>\n      <td>22088</td>\n      <td>2746</td>\n      <td>2647</td>\n      <td>30460</td>\n      <td>52548</td>\n      <td>True</td>\n      <td>True</td>\n      <td>True</td>\n      <td>3.0</td>\n    </tr>\n    <tr>\n      <th>A016710</th>\n      <td>6.06</td>\n      <td>122.0</td>\n      <td>0.32</td>\n      <td>26.0</td>\n      <td>0.14</td>\n      <td>77.0</td>\n      <td>2.32</td>\n      <td>54.0</td>\n      <td>7.0</td>\n      <td>322</td>\n      <td>9031</td>\n      <td>5851</td>\n      <td>245</td>\n      <td>634</td>\n      <td>5211</td>\n      <td>11062</td>\n      <td>True</td>\n      <td>True</td>\n      <td>True</td>\n      <td>3.0</td>\n    </tr>\n    <tr>\n      <th>A014790</th>\n      <td>4.10</td>\n      <td>44.0</td>\n      <td>0.49</td>\n      <td>165.0</td>\n      <td>0.12</td>\n      <td>57.5</td>\n      <td>3.36</td>\n      <td>108.0</td>\n      <td>10.0</td>\n      <td>466</td>\n      <td>16415</td>\n      <td>18215</td>\n      <td>1495</td>\n      <td>770</td>\n      <td>3926</td>\n      <td>22141</td>\n      <td>True</td>\n      <td>True</td>\n      <td>True</td>\n      <td>3.0</td>\n    </tr>\n    <tr>\n      <th>A006200</th>\n      <td>8.55</td>\n      <td>250.5</td>\n      <td>0.30</td>\n      <td>21.0</td>\n      <td>0.15</td>\n      <td>88.5</td>\n      <td>2.14</td>\n      <td>45.5</td>\n      <td>14.0</td>\n      <td>50</td>\n      <td>2464</td>\n      <td>1423</td>\n      <td>62</td>\n      <td>158</td>\n      <td>2625</td>\n      <td>4048</td>\n      <td>True</td>\n      <td>True</td>\n      <td>True</td>\n      <td>3.0</td>\n    </tr>\n    <tr>\n      <th>A013310</th>\n      <td>6.25</td>\n      <td>133.0</td>\n      <td>0.48</td>\n      <td>150.5</td>\n      <td>0.16</td>\n      <td>100.5</td>\n      <td>1.47</td>\n      <td>26.0</td>\n      <td>15.0</td>\n      <td>107</td>\n      <td>4279</td>\n      <td>3630</td>\n      <td>224</td>\n      <td>370</td>\n      <td>1443</td>\n      <td>5073</td>\n      <td>True</td>\n      <td>True</td>\n      <td>True</td>\n      <td>3.0</td>\n    </tr>\n    <tr>\n      <th>A200880</th>\n      <td>7.95</td>\n      <td>218.0</td>\n      <td>0.41</td>\n      <td>82.0</td>\n      <td>0.14</td>\n      <td>77.0</td>\n      <td>2.48</td>\n      <td>58.0</td>\n      <td>16.0</td>\n      <td>304</td>\n      <td>20075</td>\n      <td>10922</td>\n      <td>-122</td>\n      <td>1409</td>\n      <td>6727</td>\n      <td>17648</td>\n      <td>True</td>\n      <td>True</td>\n      <td>True</td>\n      <td>3.0</td>\n    </tr>\n    <tr>\n      <th>A092780</th>\n      <td>4.52</td>\n      <td>58.5</td>\n      <td>0.64</td>\n      <td>327.5</td>\n      <td>0.14</td>\n      <td>77.0</td>\n      <td>1.78</td>\n      <td>36.5</td>\n      <td>19.0</td>\n      <td>94</td>\n      <td>2942</td>\n      <td>2123</td>\n      <td>190</td>\n      <td>181</td>\n      <td>863</td>\n      <td>2986</td>\n      <td>True</td>\n      <td>True</td>\n      <td>True</td>\n      <td>3.0</td>\n    </tr>\n    <tr>\n      <th>A015750</th>\n      <td>11.74</td>\n      <td>431.0</td>\n      <td>0.39</td>\n      <td>68.0</td>\n      <td>0.11</td>\n      <td>48.5</td>\n      <td>1.42</td>\n      <td>24.0</td>\n      <td>23.0</td>\n      <td>293</td>\n      <td>33664</td>\n      <td>22016</td>\n      <td>608</td>\n      <td>3387</td>\n      <td>11836</td>\n      <td>33852</td>\n      <td>True</td>\n      <td>True</td>\n      <td>True</td>\n      <td>3.0</td>\n    </tr>\n    <tr>\n      <th>A005710</th>\n      <td>4.61</td>\n      <td>60.0</td>\n      <td>0.62</td>\n      <td>295.5</td>\n      <td>0.20</td>\n      <td>148.5</td>\n      <td>3.63</td>\n      <td>130.0</td>\n      <td>30.5</td>\n      <td>340</td>\n      <td>7970</td>\n      <td>1713</td>\n      <td>426</td>\n      <td>590</td>\n      <td>2524</td>\n      <td>4238</td>\n      <td>True</td>\n      <td>True</td>\n      <td>True</td>\n      <td>3.0</td>\n    </tr>\n  </tbody>\n</table>\n</div>"
     },
     "metadata": {},
     "execution_count": 413
    }
   ],
   "source": [
    "get_value_quality(invest_df, fs_df, '2017/12', 10)"
   ]
  },
  {
   "cell_type": "code",
   "execution_count": null,
   "metadata": {},
   "outputs": [],
   "source": []
  }
 ]
}