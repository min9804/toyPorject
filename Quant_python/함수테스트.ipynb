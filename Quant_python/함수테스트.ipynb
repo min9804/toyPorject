{
 "metadata": {
  "language_info": {
   "codemirror_mode": {
    "name": "ipython",
    "version": 3
   },
   "file_extension": ".py",
   "mimetype": "text/x-python",
   "name": "python",
   "nbconvert_exporter": "python",
   "pygments_lexer": "ipython3",
   "version": "3.8.3-final"
  },
  "orig_nbformat": 2,
  "kernelspec": {
   "name": "Python 3.8.3 64-bit (conda)",
   "display_name": "Python 3.8.3 64-bit (conda)",
   "metadata": {
    "interpreter": {
     "hash": "5ad81c41d437143b132f6d101d6b2989c28a9b9157a87e906509e80cef648512"
    }
   }
  }
 },
 "nbformat": 4,
 "nbformat_minor": 2,
 "cells": [
  {
   "cell_type": "code",
   "execution_count": 217,
   "metadata": {},
   "outputs": [],
   "source": [
    "# def make_fs_dataframe(firm_code): #재무데이터 만드는 함수\n",
    "# def make_fr_dataframe(firm_code): #재무비율 데이터 만들기함수\n",
    "# def make_invest_dataframe(firm_code): #투자지표 만드는 함수\n",
    "# def change_df(firm_code, dataframe): #데이터프레임의 행과열을 바꾸는 함수 만듬 \n",
    "# def come_code(): #종목코드 불러오기함수\n",
    "# def make_total_fs_df(): #전 종목 재무데이터 만드는 함수\n",
    "# def make_total_fr_df(): #전 종목 재무비율데이터 만드는함수\n",
    "# def make_total_invest_df(): #전 종목 투자지표데이터 만드는함수\n",
    "# def make_price_dataframe(code, timeframe, count): #가격데이터 함수지정 종목코드, 시간, 갯수\n",
    "# def make_total_price_df(): #전종목 가격데이터 함수"
   ]
  },
  {
   "cell_type": "code",
   "execution_count": 218,
   "metadata": {},
   "outputs": [],
   "source": [
    "import pandas as pd\n",
    "import requests\n",
    "import time\n",
    "import numpy as np\n",
    "import bs4"
   ]
  },
  {
   "cell_type": "code",
   "execution_count": 219,
   "metadata": {},
   "outputs": [],
   "source": [
    "from mod.fndata import make_fs_dataframe"
   ]
  },
  {
   "cell_type": "code",
   "execution_count": 220,
   "metadata": {},
   "outputs": [],
   "source": [
    "from mod.fndata import make_fr_dataframe"
   ]
  },
  {
   "cell_type": "code",
   "execution_count": 221,
   "metadata": {},
   "outputs": [],
   "source": [
    "from mod.fndata import make_invest_dataframe"
   ]
  },
  {
   "cell_type": "code",
   "execution_count": 222,
   "metadata": {},
   "outputs": [],
   "source": [
    "from mod.fndata import change_df"
   ]
  },
  {
   "cell_type": "code",
   "execution_count": 223,
   "metadata": {},
   "outputs": [],
   "source": [
    "from mod.fndata import come_code"
   ]
  },
  {
   "cell_type": "code",
   "execution_count": 224,
   "metadata": {},
   "outputs": [],
   "source": [
    "from mod.fndata import make_total_fs_df"
   ]
  },
  {
   "cell_type": "code",
   "execution_count": 225,
   "metadata": {},
   "outputs": [],
   "source": [
    "from mod.fndata import make_total_fr_df"
   ]
  },
  {
   "cell_type": "code",
   "execution_count": 226,
   "metadata": {},
   "outputs": [],
   "source": [
    "from mod.fndata import make_total_invest_df"
   ]
  },
  {
   "cell_type": "code",
   "execution_count": 227,
   "metadata": {},
   "outputs": [],
   "source": [
    "from mod.fndata import make_price_dataframe"
   ]
  },
  {
   "cell_type": "code",
   "execution_count": 228,
   "metadata": {},
   "outputs": [],
   "source": [
    "from mod.fndata import make_total_price_df"
   ]
  },
  {
   "cell_type": "code",
   "execution_count": 229,
   "metadata": {},
   "outputs": [
    {
     "output_type": "execute_result",
     "data": {
      "text/plain": [
       "         종목코드     기업명\n",
       "0     A060310      3S\n",
       "1     A095570  AJ네트웍스\n",
       "2     A006840   AK홀딩스\n",
       "3     A054620  APS홀딩스\n",
       "4     A265520   AP시스템\n",
       "...       ...     ...\n",
       "2378  A189980  흥국에프엔비\n",
       "2379  A000540    흥국화재\n",
       "2380  A003280    흥아해운\n",
       "2381  A037440      희림\n",
       "2382  A238490      힘스\n",
       "\n",
       "[2383 rows x 2 columns]"
      ],
      "text/html": "<div>\n<style scoped>\n    .dataframe tbody tr th:only-of-type {\n        vertical-align: middle;\n    }\n\n    .dataframe tbody tr th {\n        vertical-align: top;\n    }\n\n    .dataframe thead th {\n        text-align: right;\n    }\n</style>\n<table border=\"1\" class=\"dataframe\">\n  <thead>\n    <tr style=\"text-align: right;\">\n      <th></th>\n      <th>종목코드</th>\n      <th>기업명</th>\n    </tr>\n  </thead>\n  <tbody>\n    <tr>\n      <th>0</th>\n      <td>A060310</td>\n      <td>3S</td>\n    </tr>\n    <tr>\n      <th>1</th>\n      <td>A095570</td>\n      <td>AJ네트웍스</td>\n    </tr>\n    <tr>\n      <th>2</th>\n      <td>A006840</td>\n      <td>AK홀딩스</td>\n    </tr>\n    <tr>\n      <th>3</th>\n      <td>A054620</td>\n      <td>APS홀딩스</td>\n    </tr>\n    <tr>\n      <th>4</th>\n      <td>A265520</td>\n      <td>AP시스템</td>\n    </tr>\n    <tr>\n      <th>...</th>\n      <td>...</td>\n      <td>...</td>\n    </tr>\n    <tr>\n      <th>2378</th>\n      <td>A189980</td>\n      <td>흥국에프엔비</td>\n    </tr>\n    <tr>\n      <th>2379</th>\n      <td>A000540</td>\n      <td>흥국화재</td>\n    </tr>\n    <tr>\n      <th>2380</th>\n      <td>A003280</td>\n      <td>흥아해운</td>\n    </tr>\n    <tr>\n      <th>2381</th>\n      <td>A037440</td>\n      <td>희림</td>\n    </tr>\n    <tr>\n      <th>2382</th>\n      <td>A238490</td>\n      <td>힘스</td>\n    </tr>\n  </tbody>\n</table>\n<p>2383 rows × 2 columns</p>\n</div>"
     },
     "metadata": {},
     "execution_count": 229
    }
   ],
   "source": [
    "come_code()"
   ]
  },
  {
   "cell_type": "code",
   "execution_count": null,
   "metadata": {},
   "outputs": [],
   "source": [
    "make_total_fs_df(code_data)"
   ]
  }
 ]
}